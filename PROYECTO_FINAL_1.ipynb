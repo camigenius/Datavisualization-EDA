{
  "nbformat": 4,
  "nbformat_minor": 0,
  "metadata": {
    "colab": {
      "provenance": [],
      "collapsed_sections": [],
      "authorship_tag": "ABX9TyO0GIQaIknyJWnelzf3OAyQ",
      "include_colab_link": true
    },
    "kernelspec": {
      "name": "python3",
      "display_name": "Python 3"
    },
    "language_info": {
      "name": "python"
    }
  },
  "cells": [
    {
      "cell_type": "markdown",
      "metadata": {
        "id": "view-in-github",
        "colab_type": "text"
      },
      "source": [
        "<a href=\"https://colab.research.google.com/github/camigenius/Datavisualization-EDA/blob/main/PROYECTO_FINAL_1.ipynb\" target=\"_parent\"><img src=\"https://colab.research.google.com/assets/colab-badge.svg\" alt=\"Open In Colab\"/></a>"
      ]
    },
    {
      "cell_type": "markdown",
      "source": [
        "## PROYECTO FINAL UNIDAD 1-MACHINE LEARNING AND DATA SCIENCE\n",
        "### ALUMNO: CAMILO ERNESTO FRANCO GUZMAN"
      ],
      "metadata": {
        "id": "Og0qHkP4QeOz"
      }
    },
    {
      "cell_type": "markdown",
      "source": [
        "####En este trabajo se analizara informacion de siniestros viales en la ciudad de Bogota desde el año 2015 al año 2020, la información se obtuvo de la pagina de datos abiertos de Bogotá [*Dataset* de *Datos abiertos Bogota*](https://datosabiertos.bogota.gov.co/dataset/siniestros-viales-consolidados-bogota-d-c).\n",
        "####Elegi esta tematica dado que trabajo en una empresa de transporte y me parecio interesante ver que resultados se podrian obtener de esta dataset."
      ],
      "metadata": {
        "id": "2A3nB1bQQoO5"
      }
    },
    {
      "cell_type": "code",
      "source": [],
      "metadata": {
        "id": "GBBwEPSKPdw3"
      },
      "execution_count": null,
      "outputs": []
    },
    {
      "cell_type": "markdown",
      "source": [
        "##Objetivos\n",
        "\n",
        "#1.Reconocer cuales son la principales causas y factores de accidentalidad en Bogotá del año 2015 al 2020.\n",
        "\n",
        "#2.Conocer a través de la Estadistica Descriptiva caracteristicas que nos ayuden a entender cuales son los factores de accidentalidad en Bogotá del año 2015 al 2020\n",
        "\n",
        "#3.Analizar cuales actores viales por edad  se ven mas involucrados o son generadores de accidentes de transito.\n",
        "\n",
        "#4.Evidenciar en que horas del dia se presenta mas accidentes de transito en Bogotá\n"
      ],
      "metadata": {
        "id": "KhlQTj6tld0u"
      }
    },
    {
      "cell_type": "markdown",
      "source": [],
      "metadata": {
        "id": "IsB9IUBrQnPv"
      }
    },
    {
      "cell_type": "code",
      "execution_count": null,
      "metadata": {
        "id": "t5K9dPZvDM-G",
        "colab": {
          "base_uri": "https://localhost:8080/"
        },
        "outputId": "347bcfd2-ffff-48e2-cfea-a539331c5fd4"
      },
      "outputs": [
        {
          "output_type": "stream",
          "name": "stderr",
          "text": [
            "/usr/local/lib/python3.7/dist-packages/statsmodels/tools/_testing.py:19: FutureWarning: pandas.util.testing is deprecated. Use the functions in the public API at pandas.testing instead.\n",
            "  import pandas.util.testing as tm\n"
          ]
        }
      ],
      "source": [
        "from scipy import stats\n",
        "import scipy\n",
        "import statsmodels.api as sm"
      ]
    },
    {
      "cell_type": "code",
      "source": [
        "import numpy as np\n",
        "import pandas as pd\n",
        "import matplotlib\n",
        "import matplotlib.pyplot as plt\n",
        "import seaborn as sns\n",
        "%matplotlib inline"
      ],
      "metadata": {
        "id": "gd_aK4H-DUTZ"
      },
      "execution_count": null,
      "outputs": []
    },
    {
      "cell_type": "code",
      "source": [],
      "metadata": {
        "id": "QEc9q9jQcBTO"
      },
      "execution_count": null,
      "outputs": []
    },
    {
      "cell_type": "code",
      "source": [
        "!python --version\n",
        "print('SciPy', scipy.__version__)\n",
        "print('statsmodels', sm.__version__)\n",
        "print('Pandas', pd.__version__)\n",
        "print('NumPy', np.__version__)\n",
        "print('Matplotlib', matplotlib.__version__)\n",
        "print('Seaborn', sns.__version__)"
      ],
      "metadata": {
        "colab": {
          "base_uri": "https://localhost:8080/"
        },
        "id": "T_TttFi7DXMR",
        "outputId": "9691f48b-8d8c-4677-aa0d-348b87748add"
      },
      "execution_count": null,
      "outputs": [
        {
          "output_type": "stream",
          "name": "stdout",
          "text": [
            "Python 3.7.12\n",
            "SciPy 1.4.1\n",
            "statsmodels 0.10.2\n",
            "Pandas 1.3.5\n",
            "NumPy 1.21.5\n",
            "Matplotlib 3.2.2\n",
            "Seaborn 0.11.2\n"
          ]
        }
      ]
    },
    {
      "cell_type": "code",
      "source": [
        "from pandas.io.pytables import IndexCol\n",
        "siniestros=pd.read_excel('siniestros_viales.xlsx',sheet_name='SINIESTROS')"
      ],
      "metadata": {
        "id": "Mo5Gyt55D1ue"
      },
      "execution_count": null,
      "outputs": []
    },
    {
      "cell_type": "code",
      "source": [
        "siniestros.head()"
      ],
      "metadata": {
        "colab": {
          "base_uri": "https://localhost:8080/",
          "height": 206
        },
        "id": "gljLLOHDErY5",
        "outputId": "be8174e5-8dc2-4d7a-9b24-26e11cde7063"
      },
      "execution_count": null,
      "outputs": [
        {
          "output_type": "execute_result",
          "data": {
            "text/plain": [
              "   CODIGO_ACCIDENTE       FECHA      HORA  GRAVEDAD  CLASE  CHOQUE  \\\n",
              "0           4401438  01/01/2015  01:05:00         2      2     NaN   \n",
              "1           4401449  01/01/2015  05:50:00         2      3     NaN   \n",
              "2           4401430  01/01/2015  07:15:00         2      3     NaN   \n",
              "3           4401453  01/01/2015  09:30:00         3      1     1.0   \n",
              "4           4401423  01/01/2015  09:45:00         2      1     1.0   \n",
              "\n",
              "   OBJETO_FIJO                     DIRECCION  CODIGO_LOCALIDAD  DISENO_LUGAR  \n",
              "0          NaN               KR 64A-CL 2C 02                16             2  \n",
              "1          NaN  AV AVENIDA DEL SUR-KR 65A 41                 7             1  \n",
              "2          NaN             KR 19D-CL 62 S 02                19             1  \n",
              "3          NaN             KR 79-CL 42F S 71                 8             1  \n",
              "4          NaN               CL 66A-KR 76 02                10             2  "
            ],
            "text/html": [
              "\n",
              "  <div id=\"df-95349f08-14c8-43f9-9f54-ff18fe5e2dc2\">\n",
              "    <div class=\"colab-df-container\">\n",
              "      <div>\n",
              "<style scoped>\n",
              "    .dataframe tbody tr th:only-of-type {\n",
              "        vertical-align: middle;\n",
              "    }\n",
              "\n",
              "    .dataframe tbody tr th {\n",
              "        vertical-align: top;\n",
              "    }\n",
              "\n",
              "    .dataframe thead th {\n",
              "        text-align: right;\n",
              "    }\n",
              "</style>\n",
              "<table border=\"1\" class=\"dataframe\">\n",
              "  <thead>\n",
              "    <tr style=\"text-align: right;\">\n",
              "      <th></th>\n",
              "      <th>CODIGO_ACCIDENTE</th>\n",
              "      <th>FECHA</th>\n",
              "      <th>HORA</th>\n",
              "      <th>GRAVEDAD</th>\n",
              "      <th>CLASE</th>\n",
              "      <th>CHOQUE</th>\n",
              "      <th>OBJETO_FIJO</th>\n",
              "      <th>DIRECCION</th>\n",
              "      <th>CODIGO_LOCALIDAD</th>\n",
              "      <th>DISENO_LUGAR</th>\n",
              "    </tr>\n",
              "  </thead>\n",
              "  <tbody>\n",
              "    <tr>\n",
              "      <th>0</th>\n",
              "      <td>4401438</td>\n",
              "      <td>01/01/2015</td>\n",
              "      <td>01:05:00</td>\n",
              "      <td>2</td>\n",
              "      <td>2</td>\n",
              "      <td>NaN</td>\n",
              "      <td>NaN</td>\n",
              "      <td>KR 64A-CL 2C 02</td>\n",
              "      <td>16</td>\n",
              "      <td>2</td>\n",
              "    </tr>\n",
              "    <tr>\n",
              "      <th>1</th>\n",
              "      <td>4401449</td>\n",
              "      <td>01/01/2015</td>\n",
              "      <td>05:50:00</td>\n",
              "      <td>2</td>\n",
              "      <td>3</td>\n",
              "      <td>NaN</td>\n",
              "      <td>NaN</td>\n",
              "      <td>AV AVENIDA DEL SUR-KR 65A 41</td>\n",
              "      <td>7</td>\n",
              "      <td>1</td>\n",
              "    </tr>\n",
              "    <tr>\n",
              "      <th>2</th>\n",
              "      <td>4401430</td>\n",
              "      <td>01/01/2015</td>\n",
              "      <td>07:15:00</td>\n",
              "      <td>2</td>\n",
              "      <td>3</td>\n",
              "      <td>NaN</td>\n",
              "      <td>NaN</td>\n",
              "      <td>KR 19D-CL 62 S 02</td>\n",
              "      <td>19</td>\n",
              "      <td>1</td>\n",
              "    </tr>\n",
              "    <tr>\n",
              "      <th>3</th>\n",
              "      <td>4401453</td>\n",
              "      <td>01/01/2015</td>\n",
              "      <td>09:30:00</td>\n",
              "      <td>3</td>\n",
              "      <td>1</td>\n",
              "      <td>1.0</td>\n",
              "      <td>NaN</td>\n",
              "      <td>KR 79-CL 42F S 71</td>\n",
              "      <td>8</td>\n",
              "      <td>1</td>\n",
              "    </tr>\n",
              "    <tr>\n",
              "      <th>4</th>\n",
              "      <td>4401423</td>\n",
              "      <td>01/01/2015</td>\n",
              "      <td>09:45:00</td>\n",
              "      <td>2</td>\n",
              "      <td>1</td>\n",
              "      <td>1.0</td>\n",
              "      <td>NaN</td>\n",
              "      <td>CL 66A-KR 76 02</td>\n",
              "      <td>10</td>\n",
              "      <td>2</td>\n",
              "    </tr>\n",
              "  </tbody>\n",
              "</table>\n",
              "</div>\n",
              "      <button class=\"colab-df-convert\" onclick=\"convertToInteractive('df-95349f08-14c8-43f9-9f54-ff18fe5e2dc2')\"\n",
              "              title=\"Convert this dataframe to an interactive table.\"\n",
              "              style=\"display:none;\">\n",
              "        \n",
              "  <svg xmlns=\"http://www.w3.org/2000/svg\" height=\"24px\"viewBox=\"0 0 24 24\"\n",
              "       width=\"24px\">\n",
              "    <path d=\"M0 0h24v24H0V0z\" fill=\"none\"/>\n",
              "    <path d=\"M18.56 5.44l.94 2.06.94-2.06 2.06-.94-2.06-.94-.94-2.06-.94 2.06-2.06.94zm-11 1L8.5 8.5l.94-2.06 2.06-.94-2.06-.94L8.5 2.5l-.94 2.06-2.06.94zm10 10l.94 2.06.94-2.06 2.06-.94-2.06-.94-.94-2.06-.94 2.06-2.06.94z\"/><path d=\"M17.41 7.96l-1.37-1.37c-.4-.4-.92-.59-1.43-.59-.52 0-1.04.2-1.43.59L10.3 9.45l-7.72 7.72c-.78.78-.78 2.05 0 2.83L4 21.41c.39.39.9.59 1.41.59.51 0 1.02-.2 1.41-.59l7.78-7.78 2.81-2.81c.8-.78.8-2.07 0-2.86zM5.41 20L4 18.59l7.72-7.72 1.47 1.35L5.41 20z\"/>\n",
              "  </svg>\n",
              "      </button>\n",
              "      \n",
              "  <style>\n",
              "    .colab-df-container {\n",
              "      display:flex;\n",
              "      flex-wrap:wrap;\n",
              "      gap: 12px;\n",
              "    }\n",
              "\n",
              "    .colab-df-convert {\n",
              "      background-color: #E8F0FE;\n",
              "      border: none;\n",
              "      border-radius: 50%;\n",
              "      cursor: pointer;\n",
              "      display: none;\n",
              "      fill: #1967D2;\n",
              "      height: 32px;\n",
              "      padding: 0 0 0 0;\n",
              "      width: 32px;\n",
              "    }\n",
              "\n",
              "    .colab-df-convert:hover {\n",
              "      background-color: #E2EBFA;\n",
              "      box-shadow: 0px 1px 2px rgba(60, 64, 67, 0.3), 0px 1px 3px 1px rgba(60, 64, 67, 0.15);\n",
              "      fill: #174EA6;\n",
              "    }\n",
              "\n",
              "    [theme=dark] .colab-df-convert {\n",
              "      background-color: #3B4455;\n",
              "      fill: #D2E3FC;\n",
              "    }\n",
              "\n",
              "    [theme=dark] .colab-df-convert:hover {\n",
              "      background-color: #434B5C;\n",
              "      box-shadow: 0px 1px 3px 1px rgba(0, 0, 0, 0.15);\n",
              "      filter: drop-shadow(0px 1px 2px rgba(0, 0, 0, 0.3));\n",
              "      fill: #FFFFFF;\n",
              "    }\n",
              "  </style>\n",
              "\n",
              "      <script>\n",
              "        const buttonEl =\n",
              "          document.querySelector('#df-95349f08-14c8-43f9-9f54-ff18fe5e2dc2 button.colab-df-convert');\n",
              "        buttonEl.style.display =\n",
              "          google.colab.kernel.accessAllowed ? 'block' : 'none';\n",
              "\n",
              "        async function convertToInteractive(key) {\n",
              "          const element = document.querySelector('#df-95349f08-14c8-43f9-9f54-ff18fe5e2dc2');\n",
              "          const dataTable =\n",
              "            await google.colab.kernel.invokeFunction('convertToInteractive',\n",
              "                                                     [key], {});\n",
              "          if (!dataTable) return;\n",
              "\n",
              "          const docLinkHtml = 'Like what you see? Visit the ' +\n",
              "            '<a target=\"_blank\" href=https://colab.research.google.com/notebooks/data_table.ipynb>data table notebook</a>'\n",
              "            + ' to learn more about interactive tables.';\n",
              "          element.innerHTML = '';\n",
              "          dataTable['output_type'] = 'display_data';\n",
              "          await google.colab.output.renderOutput(dataTable, element);\n",
              "          const docLink = document.createElement('div');\n",
              "          docLink.innerHTML = docLinkHtml;\n",
              "          element.appendChild(docLink);\n",
              "        }\n",
              "      </script>\n",
              "    </div>\n",
              "  </div>\n",
              "  "
            ]
          },
          "metadata": {},
          "execution_count": 400
        }
      ]
    },
    {
      "cell_type": "code",
      "source": [
        "siniestros.columns"
      ],
      "metadata": {
        "colab": {
          "base_uri": "https://localhost:8080/"
        },
        "id": "6ugFB08sEr3k",
        "outputId": "9504ccba-ab61-4454-f96a-8a43b1807cf4"
      },
      "execution_count": null,
      "outputs": [
        {
          "output_type": "execute_result",
          "data": {
            "text/plain": [
              "Index(['CODIGO_ACCIDENTE', 'FECHA', 'HORA', 'GRAVEDAD', 'CLASE', 'CHOQUE',\n",
              "       'OBJETO_FIJO', 'DIRECCION', 'CODIGO_LOCALIDAD', 'DISENO_LUGAR'],\n",
              "      dtype='object')"
            ]
          },
          "metadata": {},
          "execution_count": 6
        }
      ]
    },
    {
      "cell_type": "code",
      "source": [
        "# Tenemos un dataFrame de 10 columnas y 196152 para un total de 1.961.520 registros en total\n",
        "print(siniestros.shape)\n",
        "print(siniestros.size)"
      ],
      "metadata": {
        "colab": {
          "base_uri": "https://localhost:8080/"
        },
        "id": "4VB4-xvaFBPw",
        "outputId": "d92d8513-33b6-477a-c867-d2b4aa11efaa"
      },
      "execution_count": null,
      "outputs": [
        {
          "output_type": "stream",
          "name": "stdout",
          "text": [
            "(196152, 10)\n",
            "1961520\n"
          ]
        }
      ]
    },
    {
      "cell_type": "code",
      "source": [
        "# se evalua que tipo de Datos conforman el DataFrame \"siniestros\"\n",
        "siniestros.dtypes"
      ],
      "metadata": {
        "colab": {
          "base_uri": "https://localhost:8080/"
        },
        "id": "DQ_1QEo9FCI4",
        "outputId": "7cfd4c87-caa7-4a79-bb6f-d73ec069fd9e"
      },
      "execution_count": null,
      "outputs": [
        {
          "output_type": "execute_result",
          "data": {
            "text/plain": [
              "CODIGO_ACCIDENTE      int64\n",
              "FECHA                object\n",
              "HORA                 object\n",
              "GRAVEDAD              int64\n",
              "CLASE                 int64\n",
              "CHOQUE              float64\n",
              "OBJETO_FIJO         float64\n",
              "DIRECCION            object\n",
              "CODIGO_LOCALIDAD      int64\n",
              "DISENO_LUGAR          int64\n",
              "dtype: object"
            ]
          },
          "metadata": {},
          "execution_count": 8
        }
      ]
    },
    {
      "cell_type": "markdown",
      "source": [
        "###**Valores NAN Y float**\n",
        "####Se verifica que tipo de Datos que conforman el dataframe, el cual quedo asignado a la variable *siniestro* una vez evaluado esto se observa que hay dos columnas con datos tipo float **CHOQUE** y **OBJETO FIJO** los cuales no requieren ser de este tipo ya que representan una categoria y para su posterior manipulacion se prefirio que fueran de dipo \"int\".A los valores NAN  se les asigna el valor 0 , dado que una vez se  analizó el Dataset para algunos registros no aplican darles una categoria ejemplo: la columna OBJETO_FIJO representa si hubo un objeto fijo en la colision o accidente de transito ,a estar  el campo vacio representa que no hubo un choque contra un objeto fijo si no fue originado por otras causas diferentes."
      ],
      "metadata": {
        "id": "cnCrS-kKFKM_"
      }
    },
    {
      "cell_type": "code",
      "source": [
        "siniestros.CHOQUE=siniestros.CHOQUE.fillna(0)\n",
        "siniestros.OBJETO_FIJO=siniestros.OBJETO_FIJO.fillna(0)\n",
        "siniestros.CHOQUE=siniestros.CHOQUE.astype(int)\n",
        "siniestros.OBJETO_FIJO=siniestros.OBJETO_FIJO.astype(int)\n",
        "\n",
        "siniestros.head()"
      ],
      "metadata": {
        "colab": {
          "base_uri": "https://localhost:8080/",
          "height": 206
        },
        "id": "weJN8I1KFVPM",
        "outputId": "74dd1de6-b862-4bb8-fe74-2c2ccc23c96d"
      },
      "execution_count": null,
      "outputs": [
        {
          "output_type": "execute_result",
          "data": {
            "text/plain": [
              "   CODIGO_ACCIDENTE       FECHA      HORA  GRAVEDAD  CLASE  CHOQUE  \\\n",
              "0           4401438  01/01/2015  01:05:00         2      2       0   \n",
              "1           4401449  01/01/2015  05:50:00         2      3       0   \n",
              "2           4401430  01/01/2015  07:15:00         2      3       0   \n",
              "3           4401453  01/01/2015  09:30:00         3      1       1   \n",
              "4           4401423  01/01/2015  09:45:00         2      1       1   \n",
              "\n",
              "   OBJETO_FIJO                     DIRECCION  CODIGO_LOCALIDAD  DISENO_LUGAR  \n",
              "0            0               KR 64A-CL 2C 02                16             2  \n",
              "1            0  AV AVENIDA DEL SUR-KR 65A 41                 7             1  \n",
              "2            0             KR 19D-CL 62 S 02                19             1  \n",
              "3            0             KR 79-CL 42F S 71                 8             1  \n",
              "4            0               CL 66A-KR 76 02                10             2  "
            ],
            "text/html": [
              "\n",
              "  <div id=\"df-e73ebacc-6330-4e6f-a29d-3e2519c77243\">\n",
              "    <div class=\"colab-df-container\">\n",
              "      <div>\n",
              "<style scoped>\n",
              "    .dataframe tbody tr th:only-of-type {\n",
              "        vertical-align: middle;\n",
              "    }\n",
              "\n",
              "    .dataframe tbody tr th {\n",
              "        vertical-align: top;\n",
              "    }\n",
              "\n",
              "    .dataframe thead th {\n",
              "        text-align: right;\n",
              "    }\n",
              "</style>\n",
              "<table border=\"1\" class=\"dataframe\">\n",
              "  <thead>\n",
              "    <tr style=\"text-align: right;\">\n",
              "      <th></th>\n",
              "      <th>CODIGO_ACCIDENTE</th>\n",
              "      <th>FECHA</th>\n",
              "      <th>HORA</th>\n",
              "      <th>GRAVEDAD</th>\n",
              "      <th>CLASE</th>\n",
              "      <th>CHOQUE</th>\n",
              "      <th>OBJETO_FIJO</th>\n",
              "      <th>DIRECCION</th>\n",
              "      <th>CODIGO_LOCALIDAD</th>\n",
              "      <th>DISENO_LUGAR</th>\n",
              "    </tr>\n",
              "  </thead>\n",
              "  <tbody>\n",
              "    <tr>\n",
              "      <th>0</th>\n",
              "      <td>4401438</td>\n",
              "      <td>01/01/2015</td>\n",
              "      <td>01:05:00</td>\n",
              "      <td>2</td>\n",
              "      <td>2</td>\n",
              "      <td>0</td>\n",
              "      <td>0</td>\n",
              "      <td>KR 64A-CL 2C 02</td>\n",
              "      <td>16</td>\n",
              "      <td>2</td>\n",
              "    </tr>\n",
              "    <tr>\n",
              "      <th>1</th>\n",
              "      <td>4401449</td>\n",
              "      <td>01/01/2015</td>\n",
              "      <td>05:50:00</td>\n",
              "      <td>2</td>\n",
              "      <td>3</td>\n",
              "      <td>0</td>\n",
              "      <td>0</td>\n",
              "      <td>AV AVENIDA DEL SUR-KR 65A 41</td>\n",
              "      <td>7</td>\n",
              "      <td>1</td>\n",
              "    </tr>\n",
              "    <tr>\n",
              "      <th>2</th>\n",
              "      <td>4401430</td>\n",
              "      <td>01/01/2015</td>\n",
              "      <td>07:15:00</td>\n",
              "      <td>2</td>\n",
              "      <td>3</td>\n",
              "      <td>0</td>\n",
              "      <td>0</td>\n",
              "      <td>KR 19D-CL 62 S 02</td>\n",
              "      <td>19</td>\n",
              "      <td>1</td>\n",
              "    </tr>\n",
              "    <tr>\n",
              "      <th>3</th>\n",
              "      <td>4401453</td>\n",
              "      <td>01/01/2015</td>\n",
              "      <td>09:30:00</td>\n",
              "      <td>3</td>\n",
              "      <td>1</td>\n",
              "      <td>1</td>\n",
              "      <td>0</td>\n",
              "      <td>KR 79-CL 42F S 71</td>\n",
              "      <td>8</td>\n",
              "      <td>1</td>\n",
              "    </tr>\n",
              "    <tr>\n",
              "      <th>4</th>\n",
              "      <td>4401423</td>\n",
              "      <td>01/01/2015</td>\n",
              "      <td>09:45:00</td>\n",
              "      <td>2</td>\n",
              "      <td>1</td>\n",
              "      <td>1</td>\n",
              "      <td>0</td>\n",
              "      <td>CL 66A-KR 76 02</td>\n",
              "      <td>10</td>\n",
              "      <td>2</td>\n",
              "    </tr>\n",
              "  </tbody>\n",
              "</table>\n",
              "</div>\n",
              "      <button class=\"colab-df-convert\" onclick=\"convertToInteractive('df-e73ebacc-6330-4e6f-a29d-3e2519c77243')\"\n",
              "              title=\"Convert this dataframe to an interactive table.\"\n",
              "              style=\"display:none;\">\n",
              "        \n",
              "  <svg xmlns=\"http://www.w3.org/2000/svg\" height=\"24px\"viewBox=\"0 0 24 24\"\n",
              "       width=\"24px\">\n",
              "    <path d=\"M0 0h24v24H0V0z\" fill=\"none\"/>\n",
              "    <path d=\"M18.56 5.44l.94 2.06.94-2.06 2.06-.94-2.06-.94-.94-2.06-.94 2.06-2.06.94zm-11 1L8.5 8.5l.94-2.06 2.06-.94-2.06-.94L8.5 2.5l-.94 2.06-2.06.94zm10 10l.94 2.06.94-2.06 2.06-.94-2.06-.94-.94-2.06-.94 2.06-2.06.94z\"/><path d=\"M17.41 7.96l-1.37-1.37c-.4-.4-.92-.59-1.43-.59-.52 0-1.04.2-1.43.59L10.3 9.45l-7.72 7.72c-.78.78-.78 2.05 0 2.83L4 21.41c.39.39.9.59 1.41.59.51 0 1.02-.2 1.41-.59l7.78-7.78 2.81-2.81c.8-.78.8-2.07 0-2.86zM5.41 20L4 18.59l7.72-7.72 1.47 1.35L5.41 20z\"/>\n",
              "  </svg>\n",
              "      </button>\n",
              "      \n",
              "  <style>\n",
              "    .colab-df-container {\n",
              "      display:flex;\n",
              "      flex-wrap:wrap;\n",
              "      gap: 12px;\n",
              "    }\n",
              "\n",
              "    .colab-df-convert {\n",
              "      background-color: #E8F0FE;\n",
              "      border: none;\n",
              "      border-radius: 50%;\n",
              "      cursor: pointer;\n",
              "      display: none;\n",
              "      fill: #1967D2;\n",
              "      height: 32px;\n",
              "      padding: 0 0 0 0;\n",
              "      width: 32px;\n",
              "    }\n",
              "\n",
              "    .colab-df-convert:hover {\n",
              "      background-color: #E2EBFA;\n",
              "      box-shadow: 0px 1px 2px rgba(60, 64, 67, 0.3), 0px 1px 3px 1px rgba(60, 64, 67, 0.15);\n",
              "      fill: #174EA6;\n",
              "    }\n",
              "\n",
              "    [theme=dark] .colab-df-convert {\n",
              "      background-color: #3B4455;\n",
              "      fill: #D2E3FC;\n",
              "    }\n",
              "\n",
              "    [theme=dark] .colab-df-convert:hover {\n",
              "      background-color: #434B5C;\n",
              "      box-shadow: 0px 1px 3px 1px rgba(0, 0, 0, 0.15);\n",
              "      filter: drop-shadow(0px 1px 2px rgba(0, 0, 0, 0.3));\n",
              "      fill: #FFFFFF;\n",
              "    }\n",
              "  </style>\n",
              "\n",
              "      <script>\n",
              "        const buttonEl =\n",
              "          document.querySelector('#df-e73ebacc-6330-4e6f-a29d-3e2519c77243 button.colab-df-convert');\n",
              "        buttonEl.style.display =\n",
              "          google.colab.kernel.accessAllowed ? 'block' : 'none';\n",
              "\n",
              "        async function convertToInteractive(key) {\n",
              "          const element = document.querySelector('#df-e73ebacc-6330-4e6f-a29d-3e2519c77243');\n",
              "          const dataTable =\n",
              "            await google.colab.kernel.invokeFunction('convertToInteractive',\n",
              "                                                     [key], {});\n",
              "          if (!dataTable) return;\n",
              "\n",
              "          const docLinkHtml = 'Like what you see? Visit the ' +\n",
              "            '<a target=\"_blank\" href=https://colab.research.google.com/notebooks/data_table.ipynb>data table notebook</a>'\n",
              "            + ' to learn more about interactive tables.';\n",
              "          element.innerHTML = '';\n",
              "          dataTable['output_type'] = 'display_data';\n",
              "          await google.colab.output.renderOutput(dataTable, element);\n",
              "          const docLink = document.createElement('div');\n",
              "          docLink.innerHTML = docLinkHtml;\n",
              "          element.appendChild(docLink);\n",
              "        }\n",
              "      </script>\n",
              "    </div>\n",
              "  </div>\n",
              "  "
            ]
          },
          "metadata": {},
          "execution_count": 9
        }
      ]
    },
    {
      "cell_type": "code",
      "source": [
        "# Dentro del archivo trabajado que es extension xlsx(excel) existe una hoja de nombre Diccionario en ella esta la deficion de los tipos de SINIESTROS, es decir GRAVEDAD,CLASE Y CHOQUE\n",
        "# Se le asigna el nombre sinistros_dict\n",
        "siniestros_dict=pd.read_excel('siniestros_viales.xlsx',sheet_name='DICCIONARIO')"
      ],
      "metadata": {
        "id": "VWiz7bPgFdUC"
      },
      "execution_count": null,
      "outputs": []
    },
    {
      "cell_type": "code",
      "source": [
        "# se visualiza la informacion HOJA se refiere a que el archivo siniestros de tipo xlsx, tiene varias hojas como SINIESTROS , ACTOR_VIAL,VEHICULOS , HIPOTESIS\n",
        "siniestros_dict.head(10)"
      ],
      "metadata": {
        "colab": {
          "base_uri": "https://localhost:8080/",
          "height": 363
        },
        "id": "uA0_m4rJFeGE",
        "outputId": "f119cdba-4d59-4051-a3e9-e64837523a4f"
      },
      "execution_count": null,
      "outputs": [
        {
          "output_type": "execute_result",
          "data": {
            "text/plain": [
              "         HOJA     CAMPO  CODIGO        DESCRIPCION\n",
              "0  SINIESTROS  GRAVEDAD       1        Con Muertos\n",
              "1  SINIESTROS  GRAVEDAD       2        Con Heridos\n",
              "2  SINIESTROS  GRAVEDAD       3         Solo Daños\n",
              "3  SINIESTROS     CLASE       7         Autolesion\n",
              "4  SINIESTROS     CLASE       1             Choque\n",
              "5  SINIESTROS     CLASE       2          Atropello\n",
              "6  SINIESTROS     CLASE       4  Caida de ocupante\n",
              "7  SINIESTROS     CLASE       3        Volcamiento\n",
              "8  SINIESTROS     CLASE       6               Otro\n",
              "9  SINIESTROS     CLASE       5           Incendio"
            ],
            "text/html": [
              "\n",
              "  <div id=\"df-0d538d6d-0090-4499-b442-c5e09d02e860\">\n",
              "    <div class=\"colab-df-container\">\n",
              "      <div>\n",
              "<style scoped>\n",
              "    .dataframe tbody tr th:only-of-type {\n",
              "        vertical-align: middle;\n",
              "    }\n",
              "\n",
              "    .dataframe tbody tr th {\n",
              "        vertical-align: top;\n",
              "    }\n",
              "\n",
              "    .dataframe thead th {\n",
              "        text-align: right;\n",
              "    }\n",
              "</style>\n",
              "<table border=\"1\" class=\"dataframe\">\n",
              "  <thead>\n",
              "    <tr style=\"text-align: right;\">\n",
              "      <th></th>\n",
              "      <th>HOJA</th>\n",
              "      <th>CAMPO</th>\n",
              "      <th>CODIGO</th>\n",
              "      <th>DESCRIPCION</th>\n",
              "    </tr>\n",
              "  </thead>\n",
              "  <tbody>\n",
              "    <tr>\n",
              "      <th>0</th>\n",
              "      <td>SINIESTROS</td>\n",
              "      <td>GRAVEDAD</td>\n",
              "      <td>1</td>\n",
              "      <td>Con Muertos</td>\n",
              "    </tr>\n",
              "    <tr>\n",
              "      <th>1</th>\n",
              "      <td>SINIESTROS</td>\n",
              "      <td>GRAVEDAD</td>\n",
              "      <td>2</td>\n",
              "      <td>Con Heridos</td>\n",
              "    </tr>\n",
              "    <tr>\n",
              "      <th>2</th>\n",
              "      <td>SINIESTROS</td>\n",
              "      <td>GRAVEDAD</td>\n",
              "      <td>3</td>\n",
              "      <td>Solo Daños</td>\n",
              "    </tr>\n",
              "    <tr>\n",
              "      <th>3</th>\n",
              "      <td>SINIESTROS</td>\n",
              "      <td>CLASE</td>\n",
              "      <td>7</td>\n",
              "      <td>Autolesion</td>\n",
              "    </tr>\n",
              "    <tr>\n",
              "      <th>4</th>\n",
              "      <td>SINIESTROS</td>\n",
              "      <td>CLASE</td>\n",
              "      <td>1</td>\n",
              "      <td>Choque</td>\n",
              "    </tr>\n",
              "    <tr>\n",
              "      <th>5</th>\n",
              "      <td>SINIESTROS</td>\n",
              "      <td>CLASE</td>\n",
              "      <td>2</td>\n",
              "      <td>Atropello</td>\n",
              "    </tr>\n",
              "    <tr>\n",
              "      <th>6</th>\n",
              "      <td>SINIESTROS</td>\n",
              "      <td>CLASE</td>\n",
              "      <td>4</td>\n",
              "      <td>Caida de ocupante</td>\n",
              "    </tr>\n",
              "    <tr>\n",
              "      <th>7</th>\n",
              "      <td>SINIESTROS</td>\n",
              "      <td>CLASE</td>\n",
              "      <td>3</td>\n",
              "      <td>Volcamiento</td>\n",
              "    </tr>\n",
              "    <tr>\n",
              "      <th>8</th>\n",
              "      <td>SINIESTROS</td>\n",
              "      <td>CLASE</td>\n",
              "      <td>6</td>\n",
              "      <td>Otro</td>\n",
              "    </tr>\n",
              "    <tr>\n",
              "      <th>9</th>\n",
              "      <td>SINIESTROS</td>\n",
              "      <td>CLASE</td>\n",
              "      <td>5</td>\n",
              "      <td>Incendio</td>\n",
              "    </tr>\n",
              "  </tbody>\n",
              "</table>\n",
              "</div>\n",
              "      <button class=\"colab-df-convert\" onclick=\"convertToInteractive('df-0d538d6d-0090-4499-b442-c5e09d02e860')\"\n",
              "              title=\"Convert this dataframe to an interactive table.\"\n",
              "              style=\"display:none;\">\n",
              "        \n",
              "  <svg xmlns=\"http://www.w3.org/2000/svg\" height=\"24px\"viewBox=\"0 0 24 24\"\n",
              "       width=\"24px\">\n",
              "    <path d=\"M0 0h24v24H0V0z\" fill=\"none\"/>\n",
              "    <path d=\"M18.56 5.44l.94 2.06.94-2.06 2.06-.94-2.06-.94-.94-2.06-.94 2.06-2.06.94zm-11 1L8.5 8.5l.94-2.06 2.06-.94-2.06-.94L8.5 2.5l-.94 2.06-2.06.94zm10 10l.94 2.06.94-2.06 2.06-.94-2.06-.94-.94-2.06-.94 2.06-2.06.94z\"/><path d=\"M17.41 7.96l-1.37-1.37c-.4-.4-.92-.59-1.43-.59-.52 0-1.04.2-1.43.59L10.3 9.45l-7.72 7.72c-.78.78-.78 2.05 0 2.83L4 21.41c.39.39.9.59 1.41.59.51 0 1.02-.2 1.41-.59l7.78-7.78 2.81-2.81c.8-.78.8-2.07 0-2.86zM5.41 20L4 18.59l7.72-7.72 1.47 1.35L5.41 20z\"/>\n",
              "  </svg>\n",
              "      </button>\n",
              "      \n",
              "  <style>\n",
              "    .colab-df-container {\n",
              "      display:flex;\n",
              "      flex-wrap:wrap;\n",
              "      gap: 12px;\n",
              "    }\n",
              "\n",
              "    .colab-df-convert {\n",
              "      background-color: #E8F0FE;\n",
              "      border: none;\n",
              "      border-radius: 50%;\n",
              "      cursor: pointer;\n",
              "      display: none;\n",
              "      fill: #1967D2;\n",
              "      height: 32px;\n",
              "      padding: 0 0 0 0;\n",
              "      width: 32px;\n",
              "    }\n",
              "\n",
              "    .colab-df-convert:hover {\n",
              "      background-color: #E2EBFA;\n",
              "      box-shadow: 0px 1px 2px rgba(60, 64, 67, 0.3), 0px 1px 3px 1px rgba(60, 64, 67, 0.15);\n",
              "      fill: #174EA6;\n",
              "    }\n",
              "\n",
              "    [theme=dark] .colab-df-convert {\n",
              "      background-color: #3B4455;\n",
              "      fill: #D2E3FC;\n",
              "    }\n",
              "\n",
              "    [theme=dark] .colab-df-convert:hover {\n",
              "      background-color: #434B5C;\n",
              "      box-shadow: 0px 1px 3px 1px rgba(0, 0, 0, 0.15);\n",
              "      filter: drop-shadow(0px 1px 2px rgba(0, 0, 0, 0.3));\n",
              "      fill: #FFFFFF;\n",
              "    }\n",
              "  </style>\n",
              "\n",
              "      <script>\n",
              "        const buttonEl =\n",
              "          document.querySelector('#df-0d538d6d-0090-4499-b442-c5e09d02e860 button.colab-df-convert');\n",
              "        buttonEl.style.display =\n",
              "          google.colab.kernel.accessAllowed ? 'block' : 'none';\n",
              "\n",
              "        async function convertToInteractive(key) {\n",
              "          const element = document.querySelector('#df-0d538d6d-0090-4499-b442-c5e09d02e860');\n",
              "          const dataTable =\n",
              "            await google.colab.kernel.invokeFunction('convertToInteractive',\n",
              "                                                     [key], {});\n",
              "          if (!dataTable) return;\n",
              "\n",
              "          const docLinkHtml = 'Like what you see? Visit the ' +\n",
              "            '<a target=\"_blank\" href=https://colab.research.google.com/notebooks/data_table.ipynb>data table notebook</a>'\n",
              "            + ' to learn more about interactive tables.';\n",
              "          element.innerHTML = '';\n",
              "          dataTable['output_type'] = 'display_data';\n",
              "          await google.colab.output.renderOutput(dataTable, element);\n",
              "          const docLink = document.createElement('div');\n",
              "          docLink.innerHTML = docLinkHtml;\n",
              "          element.appendChild(docLink);\n",
              "        }\n",
              "      </script>\n",
              "    </div>\n",
              "  </div>\n",
              "  "
            ]
          },
          "metadata": {},
          "execution_count": 11
        }
      ]
    },
    {
      "cell_type": "code",
      "source": [
        "# se efectua una especie de filtro del dataframe de nombre \"siniestros_dict\" , esto se hace con la columana CAMPO ya que requeria  tener los registros que cumpieran con la condicion igual \"=\" GRAVEDAD\n",
        "# una ves aplicada esta condicion optenemos solamente el codigo y la descripcion al cual se refiere la columa NOVEDAD en el dataframe de nombre \"siniestros\"\n",
        "hoja_sinietros=siniestros_dict[siniestros_dict['CAMPO']=='GRAVEDAD']    \n",
        "Dic_Gravedad=hoja_sinietros[['CODIGO','DESCRIPCION']]\n",
        "Dic_Gravedad = Dic_Gravedad.rename(columns={'CODIGO':'GRAVEDAD','DESCRIPCION':'TIPO_GRAVEDAD'})\n",
        "Dic_Gravedad.head() "
      ],
      "metadata": {
        "colab": {
          "base_uri": "https://localhost:8080/",
          "height": 143
        },
        "id": "hWI07QAbGFcQ",
        "outputId": "850f1d00-6a24-42df-b82c-c3a69c5b8713"
      },
      "execution_count": null,
      "outputs": [
        {
          "output_type": "execute_result",
          "data": {
            "text/plain": [
              "   GRAVEDAD TIPO_GRAVEDAD\n",
              "0         1   Con Muertos\n",
              "1         2   Con Heridos\n",
              "2         3    Solo Daños"
            ],
            "text/html": [
              "\n",
              "  <div id=\"df-8b5a9385-b460-4c3a-b33b-5af9622baad5\">\n",
              "    <div class=\"colab-df-container\">\n",
              "      <div>\n",
              "<style scoped>\n",
              "    .dataframe tbody tr th:only-of-type {\n",
              "        vertical-align: middle;\n",
              "    }\n",
              "\n",
              "    .dataframe tbody tr th {\n",
              "        vertical-align: top;\n",
              "    }\n",
              "\n",
              "    .dataframe thead th {\n",
              "        text-align: right;\n",
              "    }\n",
              "</style>\n",
              "<table border=\"1\" class=\"dataframe\">\n",
              "  <thead>\n",
              "    <tr style=\"text-align: right;\">\n",
              "      <th></th>\n",
              "      <th>GRAVEDAD</th>\n",
              "      <th>TIPO_GRAVEDAD</th>\n",
              "    </tr>\n",
              "  </thead>\n",
              "  <tbody>\n",
              "    <tr>\n",
              "      <th>0</th>\n",
              "      <td>1</td>\n",
              "      <td>Con Muertos</td>\n",
              "    </tr>\n",
              "    <tr>\n",
              "      <th>1</th>\n",
              "      <td>2</td>\n",
              "      <td>Con Heridos</td>\n",
              "    </tr>\n",
              "    <tr>\n",
              "      <th>2</th>\n",
              "      <td>3</td>\n",
              "      <td>Solo Daños</td>\n",
              "    </tr>\n",
              "  </tbody>\n",
              "</table>\n",
              "</div>\n",
              "      <button class=\"colab-df-convert\" onclick=\"convertToInteractive('df-8b5a9385-b460-4c3a-b33b-5af9622baad5')\"\n",
              "              title=\"Convert this dataframe to an interactive table.\"\n",
              "              style=\"display:none;\">\n",
              "        \n",
              "  <svg xmlns=\"http://www.w3.org/2000/svg\" height=\"24px\"viewBox=\"0 0 24 24\"\n",
              "       width=\"24px\">\n",
              "    <path d=\"M0 0h24v24H0V0z\" fill=\"none\"/>\n",
              "    <path d=\"M18.56 5.44l.94 2.06.94-2.06 2.06-.94-2.06-.94-.94-2.06-.94 2.06-2.06.94zm-11 1L8.5 8.5l.94-2.06 2.06-.94-2.06-.94L8.5 2.5l-.94 2.06-2.06.94zm10 10l.94 2.06.94-2.06 2.06-.94-2.06-.94-.94-2.06-.94 2.06-2.06.94z\"/><path d=\"M17.41 7.96l-1.37-1.37c-.4-.4-.92-.59-1.43-.59-.52 0-1.04.2-1.43.59L10.3 9.45l-7.72 7.72c-.78.78-.78 2.05 0 2.83L4 21.41c.39.39.9.59 1.41.59.51 0 1.02-.2 1.41-.59l7.78-7.78 2.81-2.81c.8-.78.8-2.07 0-2.86zM5.41 20L4 18.59l7.72-7.72 1.47 1.35L5.41 20z\"/>\n",
              "  </svg>\n",
              "      </button>\n",
              "      \n",
              "  <style>\n",
              "    .colab-df-container {\n",
              "      display:flex;\n",
              "      flex-wrap:wrap;\n",
              "      gap: 12px;\n",
              "    }\n",
              "\n",
              "    .colab-df-convert {\n",
              "      background-color: #E8F0FE;\n",
              "      border: none;\n",
              "      border-radius: 50%;\n",
              "      cursor: pointer;\n",
              "      display: none;\n",
              "      fill: #1967D2;\n",
              "      height: 32px;\n",
              "      padding: 0 0 0 0;\n",
              "      width: 32px;\n",
              "    }\n",
              "\n",
              "    .colab-df-convert:hover {\n",
              "      background-color: #E2EBFA;\n",
              "      box-shadow: 0px 1px 2px rgba(60, 64, 67, 0.3), 0px 1px 3px 1px rgba(60, 64, 67, 0.15);\n",
              "      fill: #174EA6;\n",
              "    }\n",
              "\n",
              "    [theme=dark] .colab-df-convert {\n",
              "      background-color: #3B4455;\n",
              "      fill: #D2E3FC;\n",
              "    }\n",
              "\n",
              "    [theme=dark] .colab-df-convert:hover {\n",
              "      background-color: #434B5C;\n",
              "      box-shadow: 0px 1px 3px 1px rgba(0, 0, 0, 0.15);\n",
              "      filter: drop-shadow(0px 1px 2px rgba(0, 0, 0, 0.3));\n",
              "      fill: #FFFFFF;\n",
              "    }\n",
              "  </style>\n",
              "\n",
              "      <script>\n",
              "        const buttonEl =\n",
              "          document.querySelector('#df-8b5a9385-b460-4c3a-b33b-5af9622baad5 button.colab-df-convert');\n",
              "        buttonEl.style.display =\n",
              "          google.colab.kernel.accessAllowed ? 'block' : 'none';\n",
              "\n",
              "        async function convertToInteractive(key) {\n",
              "          const element = document.querySelector('#df-8b5a9385-b460-4c3a-b33b-5af9622baad5');\n",
              "          const dataTable =\n",
              "            await google.colab.kernel.invokeFunction('convertToInteractive',\n",
              "                                                     [key], {});\n",
              "          if (!dataTable) return;\n",
              "\n",
              "          const docLinkHtml = 'Like what you see? Visit the ' +\n",
              "            '<a target=\"_blank\" href=https://colab.research.google.com/notebooks/data_table.ipynb>data table notebook</a>'\n",
              "            + ' to learn more about interactive tables.';\n",
              "          element.innerHTML = '';\n",
              "          dataTable['output_type'] = 'display_data';\n",
              "          await google.colab.output.renderOutput(dataTable, element);\n",
              "          const docLink = document.createElement('div');\n",
              "          docLink.innerHTML = docLinkHtml;\n",
              "          element.appendChild(docLink);\n",
              "        }\n",
              "      </script>\n",
              "    </div>\n",
              "  </div>\n",
              "  "
            ]
          },
          "metadata": {},
          "execution_count": 12
        }
      ]
    },
    {
      "cell_type": "markdown",
      "source": [
        "###Se hace un merge para poder traer la informacion de *siniestros_dic* donde se define cada tipo de siniestro a el Dataframe principal *siniestros* y asi visualizar a que hace referencia la columna **GRAVEDAD**, que esta codificado como, 1 con muertos;2 con heridos;3 solo daños"
      ],
      "metadata": {
        "id": "yv_VnGUaSVYD"
      }
    },
    {
      "cell_type": "code",
      "source": [
        "siniestros=Dic_Gravedad.merge(siniestros, on = 'GRAVEDAD')\n",
        "siniestros.head()\n"
      ],
      "metadata": {
        "colab": {
          "base_uri": "https://localhost:8080/",
          "height": 206
        },
        "id": "9BEuH0xqGLPP",
        "outputId": "d6f37f0a-6be6-4267-cf27-451dc55500d7"
      },
      "execution_count": null,
      "outputs": [
        {
          "output_type": "execute_result",
          "data": {
            "text/plain": [
              "   GRAVEDAD TIPO_GRAVEDAD  CODIGO_ACCIDENTE       FECHA      HORA  CLASE  \\\n",
              "0         1   Con Muertos           4401613  05/01/2015  20:20:00      1   \n",
              "1         1   Con Muertos           4401753  07/01/2015  07:10:00      2   \n",
              "2         1   Con Muertos           4401701  07/01/2015  11:08:00      2   \n",
              "3         1   Con Muertos           4401849  09/01/2015  11:30:00      2   \n",
              "4         1   Con Muertos           4401915  10/01/2015  10:30:00      1   \n",
              "\n",
              "   CHOQUE  OBJETO_FIJO                   DIRECCION  CODIGO_LOCALIDAD  \\\n",
              "0       1            0  AV AVENIDA SUBA-CL 128B 07                11   \n",
              "1       0            0       KR 18ABISA-CL 61 S 02                19   \n",
              "2       0            0              CL 9-KR 15A 02                14   \n",
              "3       0            0           CL 45-KR 72U S 14                 8   \n",
              "4       4            2          CL 32B-KR 8F SE 07                 4   \n",
              "\n",
              "   DISENO_LUGAR  \n",
              "0             1  \n",
              "1             1  \n",
              "2             2  \n",
              "3             1  \n",
              "4             1  "
            ],
            "text/html": [
              "\n",
              "  <div id=\"df-77315819-3437-453a-99fe-8cec1d90166a\">\n",
              "    <div class=\"colab-df-container\">\n",
              "      <div>\n",
              "<style scoped>\n",
              "    .dataframe tbody tr th:only-of-type {\n",
              "        vertical-align: middle;\n",
              "    }\n",
              "\n",
              "    .dataframe tbody tr th {\n",
              "        vertical-align: top;\n",
              "    }\n",
              "\n",
              "    .dataframe thead th {\n",
              "        text-align: right;\n",
              "    }\n",
              "</style>\n",
              "<table border=\"1\" class=\"dataframe\">\n",
              "  <thead>\n",
              "    <tr style=\"text-align: right;\">\n",
              "      <th></th>\n",
              "      <th>GRAVEDAD</th>\n",
              "      <th>TIPO_GRAVEDAD</th>\n",
              "      <th>CODIGO_ACCIDENTE</th>\n",
              "      <th>FECHA</th>\n",
              "      <th>HORA</th>\n",
              "      <th>CLASE</th>\n",
              "      <th>CHOQUE</th>\n",
              "      <th>OBJETO_FIJO</th>\n",
              "      <th>DIRECCION</th>\n",
              "      <th>CODIGO_LOCALIDAD</th>\n",
              "      <th>DISENO_LUGAR</th>\n",
              "    </tr>\n",
              "  </thead>\n",
              "  <tbody>\n",
              "    <tr>\n",
              "      <th>0</th>\n",
              "      <td>1</td>\n",
              "      <td>Con Muertos</td>\n",
              "      <td>4401613</td>\n",
              "      <td>05/01/2015</td>\n",
              "      <td>20:20:00</td>\n",
              "      <td>1</td>\n",
              "      <td>1</td>\n",
              "      <td>0</td>\n",
              "      <td>AV AVENIDA SUBA-CL 128B 07</td>\n",
              "      <td>11</td>\n",
              "      <td>1</td>\n",
              "    </tr>\n",
              "    <tr>\n",
              "      <th>1</th>\n",
              "      <td>1</td>\n",
              "      <td>Con Muertos</td>\n",
              "      <td>4401753</td>\n",
              "      <td>07/01/2015</td>\n",
              "      <td>07:10:00</td>\n",
              "      <td>2</td>\n",
              "      <td>0</td>\n",
              "      <td>0</td>\n",
              "      <td>KR 18ABISA-CL 61 S 02</td>\n",
              "      <td>19</td>\n",
              "      <td>1</td>\n",
              "    </tr>\n",
              "    <tr>\n",
              "      <th>2</th>\n",
              "      <td>1</td>\n",
              "      <td>Con Muertos</td>\n",
              "      <td>4401701</td>\n",
              "      <td>07/01/2015</td>\n",
              "      <td>11:08:00</td>\n",
              "      <td>2</td>\n",
              "      <td>0</td>\n",
              "      <td>0</td>\n",
              "      <td>CL 9-KR 15A 02</td>\n",
              "      <td>14</td>\n",
              "      <td>2</td>\n",
              "    </tr>\n",
              "    <tr>\n",
              "      <th>3</th>\n",
              "      <td>1</td>\n",
              "      <td>Con Muertos</td>\n",
              "      <td>4401849</td>\n",
              "      <td>09/01/2015</td>\n",
              "      <td>11:30:00</td>\n",
              "      <td>2</td>\n",
              "      <td>0</td>\n",
              "      <td>0</td>\n",
              "      <td>CL 45-KR 72U S 14</td>\n",
              "      <td>8</td>\n",
              "      <td>1</td>\n",
              "    </tr>\n",
              "    <tr>\n",
              "      <th>4</th>\n",
              "      <td>1</td>\n",
              "      <td>Con Muertos</td>\n",
              "      <td>4401915</td>\n",
              "      <td>10/01/2015</td>\n",
              "      <td>10:30:00</td>\n",
              "      <td>1</td>\n",
              "      <td>4</td>\n",
              "      <td>2</td>\n",
              "      <td>CL 32B-KR 8F SE 07</td>\n",
              "      <td>4</td>\n",
              "      <td>1</td>\n",
              "    </tr>\n",
              "  </tbody>\n",
              "</table>\n",
              "</div>\n",
              "      <button class=\"colab-df-convert\" onclick=\"convertToInteractive('df-77315819-3437-453a-99fe-8cec1d90166a')\"\n",
              "              title=\"Convert this dataframe to an interactive table.\"\n",
              "              style=\"display:none;\">\n",
              "        \n",
              "  <svg xmlns=\"http://www.w3.org/2000/svg\" height=\"24px\"viewBox=\"0 0 24 24\"\n",
              "       width=\"24px\">\n",
              "    <path d=\"M0 0h24v24H0V0z\" fill=\"none\"/>\n",
              "    <path d=\"M18.56 5.44l.94 2.06.94-2.06 2.06-.94-2.06-.94-.94-2.06-.94 2.06-2.06.94zm-11 1L8.5 8.5l.94-2.06 2.06-.94-2.06-.94L8.5 2.5l-.94 2.06-2.06.94zm10 10l.94 2.06.94-2.06 2.06-.94-2.06-.94-.94-2.06-.94 2.06-2.06.94z\"/><path d=\"M17.41 7.96l-1.37-1.37c-.4-.4-.92-.59-1.43-.59-.52 0-1.04.2-1.43.59L10.3 9.45l-7.72 7.72c-.78.78-.78 2.05 0 2.83L4 21.41c.39.39.9.59 1.41.59.51 0 1.02-.2 1.41-.59l7.78-7.78 2.81-2.81c.8-.78.8-2.07 0-2.86zM5.41 20L4 18.59l7.72-7.72 1.47 1.35L5.41 20z\"/>\n",
              "  </svg>\n",
              "      </button>\n",
              "      \n",
              "  <style>\n",
              "    .colab-df-container {\n",
              "      display:flex;\n",
              "      flex-wrap:wrap;\n",
              "      gap: 12px;\n",
              "    }\n",
              "\n",
              "    .colab-df-convert {\n",
              "      background-color: #E8F0FE;\n",
              "      border: none;\n",
              "      border-radius: 50%;\n",
              "      cursor: pointer;\n",
              "      display: none;\n",
              "      fill: #1967D2;\n",
              "      height: 32px;\n",
              "      padding: 0 0 0 0;\n",
              "      width: 32px;\n",
              "    }\n",
              "\n",
              "    .colab-df-convert:hover {\n",
              "      background-color: #E2EBFA;\n",
              "      box-shadow: 0px 1px 2px rgba(60, 64, 67, 0.3), 0px 1px 3px 1px rgba(60, 64, 67, 0.15);\n",
              "      fill: #174EA6;\n",
              "    }\n",
              "\n",
              "    [theme=dark] .colab-df-convert {\n",
              "      background-color: #3B4455;\n",
              "      fill: #D2E3FC;\n",
              "    }\n",
              "\n",
              "    [theme=dark] .colab-df-convert:hover {\n",
              "      background-color: #434B5C;\n",
              "      box-shadow: 0px 1px 3px 1px rgba(0, 0, 0, 0.15);\n",
              "      filter: drop-shadow(0px 1px 2px rgba(0, 0, 0, 0.3));\n",
              "      fill: #FFFFFF;\n",
              "    }\n",
              "  </style>\n",
              "\n",
              "      <script>\n",
              "        const buttonEl =\n",
              "          document.querySelector('#df-77315819-3437-453a-99fe-8cec1d90166a button.colab-df-convert');\n",
              "        buttonEl.style.display =\n",
              "          google.colab.kernel.accessAllowed ? 'block' : 'none';\n",
              "\n",
              "        async function convertToInteractive(key) {\n",
              "          const element = document.querySelector('#df-77315819-3437-453a-99fe-8cec1d90166a');\n",
              "          const dataTable =\n",
              "            await google.colab.kernel.invokeFunction('convertToInteractive',\n",
              "                                                     [key], {});\n",
              "          if (!dataTable) return;\n",
              "\n",
              "          const docLinkHtml = 'Like what you see? Visit the ' +\n",
              "            '<a target=\"_blank\" href=https://colab.research.google.com/notebooks/data_table.ipynb>data table notebook</a>'\n",
              "            + ' to learn more about interactive tables.';\n",
              "          element.innerHTML = '';\n",
              "          dataTable['output_type'] = 'display_data';\n",
              "          await google.colab.output.renderOutput(dataTable, element);\n",
              "          const docLink = document.createElement('div');\n",
              "          docLink.innerHTML = docLinkHtml;\n",
              "          element.appendChild(docLink);\n",
              "        }\n",
              "      </script>\n",
              "    </div>\n",
              "  </div>\n",
              "  "
            ]
          },
          "metadata": {},
          "execution_count": 13
        }
      ]
    },
    {
      "cell_type": "code",
      "source": [
        "#Una vez Organizada la informacion podemos ver en como es la distribucion respecto a la GRAVEDAD del accidente \n",
        "siniestros['TIPO_GRAVEDAD'].value_counts()"
      ],
      "metadata": {
        "colab": {
          "base_uri": "https://localhost:8080/"
        },
        "id": "dEy1TnmuRHmD",
        "outputId": "d47dc6f4-adb4-45a2-9c13-4a207c33f559"
      },
      "execution_count": null,
      "outputs": [
        {
          "output_type": "execute_result",
          "data": {
            "text/plain": [
              "Solo Daños     127919\n",
              "Con Heridos     65238\n",
              "Con Muertos      2995\n",
              "Name: TIPO_GRAVEDAD, dtype: int64"
            ]
          },
          "metadata": {},
          "execution_count": 14
        }
      ]
    },
    {
      "cell_type": "markdown",
      "source": [
        "###Se evidencia que  la mayoria de accidente son solo Daños materiales , seguido por accidentes donde se presentan heridos y por último accidentes con muertos "
      ],
      "metadata": {
        "id": "i98MoMb0jR8z"
      }
    },
    {
      "cell_type": "code",
      "source": [
        "from IPython.core.pylabtools import figsize\n",
        "siniestros['TIPO_GRAVEDAD'].value_counts().plot.pie(title='GRAVEDAD',fontsize=14,figsize=(6,6));\n",
        "\n"
      ],
      "metadata": {
        "colab": {
          "base_uri": "https://localhost:8080/",
          "height": 373
        },
        "id": "GaD7v9_hggOr",
        "outputId": "80700edf-1528-4ead-8b6a-0deb2e163894"
      },
      "execution_count": null,
      "outputs": [
        {
          "output_type": "display_data",
          "data": {
            "text/plain": [
              "<Figure size 432x432 with 1 Axes>"
            ],
            "image/png": "[encoded data removed]"
          },
          "metadata": {}
        }
      ]
    },
    {
      "cell_type": "markdown",
      "source": [],
      "metadata": {
        "id": "sFhLq8vNk93e"
      }
    },
    {
      "cell_type": "code",
      "source": [
        "# Ahora se organiza la inforamcion para hacer el merge para la columna CLASE en el dataframe \"siniestros\"\n",
        "hoja_siniestros=siniestros_dict[siniestros_dict['HOJA']=='SINIESTROS'] \n",
        "hoja_siniestros=hoja_siniestros[hoja_siniestros['CAMPO']=='CLASE']\n",
        "Dic_Clase=hoja_siniestros[['CODIGO','DESCRIPCION']]\n",
        "Dic_Clase = Dic_Clase.rename(columns={'CODIGO':'CLASE','DESCRIPCION':'TIPO_CLASE'})\n",
        "Dic_Clase.sort_values('CLASE',inplace=True)\n",
        "Dic_Clase   "
      ],
      "metadata": {
        "colab": {
          "base_uri": "https://localhost:8080/",
          "height": 268
        },
        "id": "sgntPle3U21Z",
        "outputId": "b4031237-8130-40b0-c88d-251c6760b88f"
      },
      "execution_count": null,
      "outputs": [
        {
          "output_type": "execute_result",
          "data": {
            "text/plain": [
              "   CLASE         TIPO_CLASE\n",
              "4      1             Choque\n",
              "5      2          Atropello\n",
              "7      3        Volcamiento\n",
              "6      4  Caida de ocupante\n",
              "9      5           Incendio\n",
              "8      6               Otro\n",
              "3      7         Autolesion"
            ],
            "text/html": [
              "\n",
              "  <div id=\"df-0c7aa876-1fc2-4c54-9234-849569eeebb0\">\n",
              "    <div class=\"colab-df-container\">\n",
              "      <div>\n",
              "<style scoped>\n",
              "    .dataframe tbody tr th:only-of-type {\n",
              "        vertical-align: middle;\n",
              "    }\n",
              "\n",
              "    .dataframe tbody tr th {\n",
              "        vertical-align: top;\n",
              "    }\n",
              "\n",
              "    .dataframe thead th {\n",
              "        text-align: right;\n",
              "    }\n",
              "</style>\n",
              "<table border=\"1\" class=\"dataframe\">\n",
              "  <thead>\n",
              "    <tr style=\"text-align: right;\">\n",
              "      <th></th>\n",
              "      <th>CLASE</th>\n",
              "      <th>TIPO_CLASE</th>\n",
              "    </tr>\n",
              "  </thead>\n",
              "  <tbody>\n",
              "    <tr>\n",
              "      <th>4</th>\n",
              "      <td>1</td>\n",
              "      <td>Choque</td>\n",
              "    </tr>\n",
              "    <tr>\n",
              "      <th>5</th>\n",
              "      <td>2</td>\n",
              "      <td>Atropello</td>\n",
              "    </tr>\n",
              "    <tr>\n",
              "      <th>7</th>\n",
              "      <td>3</td>\n",
              "      <td>Volcamiento</td>\n",
              "    </tr>\n",
              "    <tr>\n",
              "      <th>6</th>\n",
              "      <td>4</td>\n",
              "      <td>Caida de ocupante</td>\n",
              "    </tr>\n",
              "    <tr>\n",
              "      <th>9</th>\n",
              "      <td>5</td>\n",
              "      <td>Incendio</td>\n",
              "    </tr>\n",
              "    <tr>\n",
              "      <th>8</th>\n",
              "      <td>6</td>\n",
              "      <td>Otro</td>\n",
              "    </tr>\n",
              "    <tr>\n",
              "      <th>3</th>\n",
              "      <td>7</td>\n",
              "      <td>Autolesion</td>\n",
              "    </tr>\n",
              "  </tbody>\n",
              "</table>\n",
              "</div>\n",
              "      <button class=\"colab-df-convert\" onclick=\"convertToInteractive('df-0c7aa876-1fc2-4c54-9234-849569eeebb0')\"\n",
              "              title=\"Convert this dataframe to an interactive table.\"\n",
              "              style=\"display:none;\">\n",
              "        \n",
              "  <svg xmlns=\"http://www.w3.org/2000/svg\" height=\"24px\"viewBox=\"0 0 24 24\"\n",
              "       width=\"24px\">\n",
              "    <path d=\"M0 0h24v24H0V0z\" fill=\"none\"/>\n",
              "    <path d=\"M18.56 5.44l.94 2.06.94-2.06 2.06-.94-2.06-.94-.94-2.06-.94 2.06-2.06.94zm-11 1L8.5 8.5l.94-2.06 2.06-.94-2.06-.94L8.5 2.5l-.94 2.06-2.06.94zm10 10l.94 2.06.94-2.06 2.06-.94-2.06-.94-.94-2.06-.94 2.06-2.06.94z\"/><path d=\"M17.41 7.96l-1.37-1.37c-.4-.4-.92-.59-1.43-.59-.52 0-1.04.2-1.43.59L10.3 9.45l-7.72 7.72c-.78.78-.78 2.05 0 2.83L4 21.41c.39.39.9.59 1.41.59.51 0 1.02-.2 1.41-.59l7.78-7.78 2.81-2.81c.8-.78.8-2.07 0-2.86zM5.41 20L4 18.59l7.72-7.72 1.47 1.35L5.41 20z\"/>\n",
              "  </svg>\n",
              "      </button>\n",
              "      \n",
              "  <style>\n",
              "    .colab-df-container {\n",
              "      display:flex;\n",
              "      flex-wrap:wrap;\n",
              "      gap: 12px;\n",
              "    }\n",
              "\n",
              "    .colab-df-convert {\n",
              "      background-color: #E8F0FE;\n",
              "      border: none;\n",
              "      border-radius: 50%;\n",
              "      cursor: pointer;\n",
              "      display: none;\n",
              "      fill: #1967D2;\n",
              "      height: 32px;\n",
              "      padding: 0 0 0 0;\n",
              "      width: 32px;\n",
              "    }\n",
              "\n",
              "    .colab-df-convert:hover {\n",
              "      background-color: #E2EBFA;\n",
              "      box-shadow: 0px 1px 2px rgba(60, 64, 67, 0.3), 0px 1px 3px 1px rgba(60, 64, 67, 0.15);\n",
              "      fill: #174EA6;\n",
              "    }\n",
              "\n",
              "    [theme=dark] .colab-df-convert {\n",
              "      background-color: #3B4455;\n",
              "      fill: #D2E3FC;\n",
              "    }\n",
              "\n",
              "    [theme=dark] .colab-df-convert:hover {\n",
              "      background-color: #434B5C;\n",
              "      box-shadow: 0px 1px 3px 1px rgba(0, 0, 0, 0.15);\n",
              "      filter: drop-shadow(0px 1px 2px rgba(0, 0, 0, 0.3));\n",
              "      fill: #FFFFFF;\n",
              "    }\n",
              "  </style>\n",
              "\n",
              "      <script>\n",
              "        const buttonEl =\n",
              "          document.querySelector('#df-0c7aa876-1fc2-4c54-9234-849569eeebb0 button.colab-df-convert');\n",
              "        buttonEl.style.display =\n",
              "          google.colab.kernel.accessAllowed ? 'block' : 'none';\n",
              "\n",
              "        async function convertToInteractive(key) {\n",
              "          const element = document.querySelector('#df-0c7aa876-1fc2-4c54-9234-849569eeebb0');\n",
              "          const dataTable =\n",
              "            await google.colab.kernel.invokeFunction('convertToInteractive',\n",
              "                                                     [key], {});\n",
              "          if (!dataTable) return;\n",
              "\n",
              "          const docLinkHtml = 'Like what you see? Visit the ' +\n",
              "            '<a target=\"_blank\" href=https://colab.research.google.com/notebooks/data_table.ipynb>data table notebook</a>'\n",
              "            + ' to learn more about interactive tables.';\n",
              "          element.innerHTML = '';\n",
              "          dataTable['output_type'] = 'display_data';\n",
              "          await google.colab.output.renderOutput(dataTable, element);\n",
              "          const docLink = document.createElement('div');\n",
              "          docLink.innerHTML = docLinkHtml;\n",
              "          element.appendChild(docLink);\n",
              "        }\n",
              "      </script>\n",
              "    </div>\n",
              "  </div>\n",
              "  "
            ]
          },
          "metadata": {},
          "execution_count": 16
        }
      ]
    },
    {
      "cell_type": "markdown",
      "source": [
        "###Se hace la misma manipulacion ahora para traer el campor TIPO_CLASE al dataframe principal \"siniestros\" y poder entender a que referencia hace la columna **CLASE**, que en este caso de estudio hace referencia a lo ocurrido en el accidente ejemplo choque, Autolesion"
      ],
      "metadata": {
        "id": "z0u3zpKGX0fG"
      }
    },
    {
      "cell_type": "markdown",
      "source": [],
      "metadata": {
        "id": "d2Ii9t0maxc6"
      }
    },
    {
      "cell_type": "code",
      "source": [
        "siniestros=Dic_Clase.merge(siniestros, on = 'CLASE')\n",
        "siniestros.head()"
      ],
      "metadata": {
        "colab": {
          "base_uri": "https://localhost:8080/",
          "height": 206
        },
        "id": "uTQQqFd8UcWp",
        "outputId": "458a4202-eb34-42d6-8e3c-bf9b553d3860"
      },
      "execution_count": null,
      "outputs": [
        {
          "output_type": "execute_result",
          "data": {
            "text/plain": [
              "   CLASE TIPO_CLASE  GRAVEDAD TIPO_GRAVEDAD  CODIGO_ACCIDENTE       FECHA  \\\n",
              "0      1     Choque         1   Con Muertos           4401613  05/01/2015   \n",
              "1      1     Choque         1   Con Muertos           4401915  10/01/2015   \n",
              "2      1     Choque         1   Con Muertos           4402075  13/01/2015   \n",
              "3      1     Choque         1   Con Muertos           4402176  15/01/2015   \n",
              "4      1     Choque         1   Con Muertos           4402171  15/01/2015   \n",
              "\n",
              "       HORA  CHOQUE  OBJETO_FIJO                           DIRECCION  \\\n",
              "0  20:20:00       1            0          AV AVENIDA SUBA-CL 128B 07   \n",
              "1  10:30:00       4            2                  CL 32B-KR 8F SE 07   \n",
              "2  22:30:00       4            3                     KR 19-CL 39B 34   \n",
              "3  18:00:00       1            0      AV AVENIDA CENTENARIO-KR 90 95   \n",
              "4  21:10:00       1            0  AV AVENIDA CIUDAD DE CALI-CL 20 02   \n",
              "\n",
              "   CODIGO_LOCALIDAD  DISENO_LUGAR  \n",
              "0                11             1  \n",
              "1                 4             1  \n",
              "2                13             1  \n",
              "3                 9             1  \n",
              "4                 9             1  "
            ],
            "text/html": [
              "\n",
              "  <div id=\"df-d05974d8-c9fa-4e06-865c-b687c9332f36\">\n",
              "    <div class=\"colab-df-container\">\n",
              "      <div>\n",
              "<style scoped>\n",
              "    .dataframe tbody tr th:only-of-type {\n",
              "        vertical-align: middle;\n",
              "    }\n",
              "\n",
              "    .dataframe tbody tr th {\n",
              "        vertical-align: top;\n",
              "    }\n",
              "\n",
              "    .dataframe thead th {\n",
              "        text-align: right;\n",
              "    }\n",
              "</style>\n",
              "<table border=\"1\" class=\"dataframe\">\n",
              "  <thead>\n",
              "    <tr style=\"text-align: right;\">\n",
              "      <th></th>\n",
              "      <th>CLASE</th>\n",
              "      <th>TIPO_CLASE</th>\n",
              "      <th>GRAVEDAD</th>\n",
              "      <th>TIPO_GRAVEDAD</th>\n",
              "      <th>CODIGO_ACCIDENTE</th>\n",
              "      <th>FECHA</th>\n",
              "      <th>HORA</th>\n",
              "      <th>CHOQUE</th>\n",
              "      <th>OBJETO_FIJO</th>\n",
              "      <th>DIRECCION</th>\n",
              "      <th>CODIGO_LOCALIDAD</th>\n",
              "      <th>DISENO_LUGAR</th>\n",
              "    </tr>\n",
              "  </thead>\n",
              "  <tbody>\n",
              "    <tr>\n",
              "      <th>0</th>\n",
              "      <td>1</td>\n",
              "      <td>Choque</td>\n",
              "      <td>1</td>\n",
              "      <td>Con Muertos</td>\n",
              "      <td>4401613</td>\n",
              "      <td>05/01/2015</td>\n",
              "      <td>20:20:00</td>\n",
              "      <td>1</td>\n",
              "      <td>0</td>\n",
              "      <td>AV AVENIDA SUBA-CL 128B 07</td>\n",
              "      <td>11</td>\n",
              "      <td>1</td>\n",
              "    </tr>\n",
              "    <tr>\n",
              "      <th>1</th>\n",
              "      <td>1</td>\n",
              "      <td>Choque</td>\n",
              "      <td>1</td>\n",
              "      <td>Con Muertos</td>\n",
              "      <td>4401915</td>\n",
              "      <td>10/01/2015</td>\n",
              "      <td>10:30:00</td>\n",
              "      <td>4</td>\n",
              "      <td>2</td>\n",
              "      <td>CL 32B-KR 8F SE 07</td>\n",
              "      <td>4</td>\n",
              "      <td>1</td>\n",
              "    </tr>\n",
              "    <tr>\n",
              "      <th>2</th>\n",
              "      <td>1</td>\n",
              "      <td>Choque</td>\n",
              "      <td>1</td>\n",
              "      <td>Con Muertos</td>\n",
              "      <td>4402075</td>\n",
              "      <td>13/01/2015</td>\n",
              "      <td>22:30:00</td>\n",
              "      <td>4</td>\n",
              "      <td>3</td>\n",
              "      <td>KR 19-CL 39B 34</td>\n",
              "      <td>13</td>\n",
              "      <td>1</td>\n",
              "    </tr>\n",
              "    <tr>\n",
              "      <th>3</th>\n",
              "      <td>1</td>\n",
              "      <td>Choque</td>\n",
              "      <td>1</td>\n",
              "      <td>Con Muertos</td>\n",
              "      <td>4402176</td>\n",
              "      <td>15/01/2015</td>\n",
              "      <td>18:00:00</td>\n",
              "      <td>1</td>\n",
              "      <td>0</td>\n",
              "      <td>AV AVENIDA CENTENARIO-KR 90 95</td>\n",
              "      <td>9</td>\n",
              "      <td>1</td>\n",
              "    </tr>\n",
              "    <tr>\n",
              "      <th>4</th>\n",
              "      <td>1</td>\n",
              "      <td>Choque</td>\n",
              "      <td>1</td>\n",
              "      <td>Con Muertos</td>\n",
              "      <td>4402171</td>\n",
              "      <td>15/01/2015</td>\n",
              "      <td>21:10:00</td>\n",
              "      <td>1</td>\n",
              "      <td>0</td>\n",
              "      <td>AV AVENIDA CIUDAD DE CALI-CL 20 02</td>\n",
              "      <td>9</td>\n",
              "      <td>1</td>\n",
              "    </tr>\n",
              "  </tbody>\n",
              "</table>\n",
              "</div>\n",
              "      <button class=\"colab-df-convert\" onclick=\"convertToInteractive('df-d05974d8-c9fa-4e06-865c-b687c9332f36')\"\n",
              "              title=\"Convert this dataframe to an interactive table.\"\n",
              "              style=\"display:none;\">\n",
              "        \n",
              "  <svg xmlns=\"http://www.w3.org/2000/svg\" height=\"24px\"viewBox=\"0 0 24 24\"\n",
              "       width=\"24px\">\n",
              "    <path d=\"M0 0h24v24H0V0z\" fill=\"none\"/>\n",
              "    <path d=\"M18.56 5.44l.94 2.06.94-2.06 2.06-.94-2.06-.94-.94-2.06-.94 2.06-2.06.94zm-11 1L8.5 8.5l.94-2.06 2.06-.94-2.06-.94L8.5 2.5l-.94 2.06-2.06.94zm10 10l.94 2.06.94-2.06 2.06-.94-2.06-.94-.94-2.06-.94 2.06-2.06.94z\"/><path d=\"M17.41 7.96l-1.37-1.37c-.4-.4-.92-.59-1.43-.59-.52 0-1.04.2-1.43.59L10.3 9.45l-7.72 7.72c-.78.78-.78 2.05 0 2.83L4 21.41c.39.39.9.59 1.41.59.51 0 1.02-.2 1.41-.59l7.78-7.78 2.81-2.81c.8-.78.8-2.07 0-2.86zM5.41 20L4 18.59l7.72-7.72 1.47 1.35L5.41 20z\"/>\n",
              "  </svg>\n",
              "      </button>\n",
              "      \n",
              "  <style>\n",
              "    .colab-df-container {\n",
              "      display:flex;\n",
              "      flex-wrap:wrap;\n",
              "      gap: 12px;\n",
              "    }\n",
              "\n",
              "    .colab-df-convert {\n",
              "      background-color: #E8F0FE;\n",
              "      border: none;\n",
              "      border-radius: 50%;\n",
              "      cursor: pointer;\n",
              "      display: none;\n",
              "      fill: #1967D2;\n",
              "      height: 32px;\n",
              "      padding: 0 0 0 0;\n",
              "      width: 32px;\n",
              "    }\n",
              "\n",
              "    .colab-df-convert:hover {\n",
              "      background-color: #E2EBFA;\n",
              "      box-shadow: 0px 1px 2px rgba(60, 64, 67, 0.3), 0px 1px 3px 1px rgba(60, 64, 67, 0.15);\n",
              "      fill: #174EA6;\n",
              "    }\n",
              "\n",
              "    [theme=dark] .colab-df-convert {\n",
              "      background-color: #3B4455;\n",
              "      fill: #D2E3FC;\n",
              "    }\n",
              "\n",
              "    [theme=dark] .colab-df-convert:hover {\n",
              "      background-color: #434B5C;\n",
              "      box-shadow: 0px 1px 3px 1px rgba(0, 0, 0, 0.15);\n",
              "      filter: drop-shadow(0px 1px 2px rgba(0, 0, 0, 0.3));\n",
              "      fill: #FFFFFF;\n",
              "    }\n",
              "  </style>\n",
              "\n",
              "      <script>\n",
              "        const buttonEl =\n",
              "          document.querySelector('#df-d05974d8-c9fa-4e06-865c-b687c9332f36 button.colab-df-convert');\n",
              "        buttonEl.style.display =\n",
              "          google.colab.kernel.accessAllowed ? 'block' : 'none';\n",
              "\n",
              "        async function convertToInteractive(key) {\n",
              "          const element = document.querySelector('#df-d05974d8-c9fa-4e06-865c-b687c9332f36');\n",
              "          const dataTable =\n",
              "            await google.colab.kernel.invokeFunction('convertToInteractive',\n",
              "                                                     [key], {});\n",
              "          if (!dataTable) return;\n",
              "\n",
              "          const docLinkHtml = 'Like what you see? Visit the ' +\n",
              "            '<a target=\"_blank\" href=https://colab.research.google.com/notebooks/data_table.ipynb>data table notebook</a>'\n",
              "            + ' to learn more about interactive tables.';\n",
              "          element.innerHTML = '';\n",
              "          dataTable['output_type'] = 'display_data';\n",
              "          await google.colab.output.renderOutput(dataTable, element);\n",
              "          const docLink = document.createElement('div');\n",
              "          docLink.innerHTML = docLinkHtml;\n",
              "          element.appendChild(docLink);\n",
              "        }\n",
              "      </script>\n",
              "    </div>\n",
              "  </div>\n",
              "  "
            ]
          },
          "metadata": {},
          "execution_count": 17
        }
      ]
    },
    {
      "cell_type": "code",
      "source": [
        "\n",
        "# Numero de accidentes por tipo clase se evidencia que el choque es el mas comun\n",
        "siniestros['TIPO_CLASE'].value_counts()"
      ],
      "metadata": {
        "colab": {
          "base_uri": "https://localhost:8080/"
        },
        "id": "Bb7PK8Ibf3ji",
        "outputId": "5a4d535f-8f0d-40d4-dea5-681a38d28eee"
      },
      "execution_count": null,
      "outputs": [
        {
          "output_type": "execute_result",
          "data": {
            "text/plain": [
              "Choque               167915\n",
              "Atropello             20101\n",
              "Caida de ocupante      4694\n",
              "Volcamiento            2615\n",
              "Otro                    788\n",
              "Incendio                 25\n",
              "Autolesion               14\n",
              "Name: TIPO_CLASE, dtype: int64"
            ]
          },
          "metadata": {},
          "execution_count": 18
        }
      ]
    },
    {
      "cell_type": "markdown",
      "source": [
        "### Se evidencia que tipo de accidente es por choques seguico por Atropello en último lugar se ubica Autlesion"
      ],
      "metadata": {
        "id": "7y9eHOhjlAzO"
      }
    },
    {
      "cell_type": "code",
      "source": [
        "siniestros['TIPO_CLASE'].value_counts().plot.bar(title='CLASE',fontsize=15,figsize=(12,8));"
      ],
      "metadata": {
        "colab": {
          "base_uri": "https://localhost:8080/",
          "height": 631
        },
        "id": "0p5nXoaJidPN",
        "outputId": "d473b056-6c56-4691-b2a2-0f7bd053bd95"
      },
      "execution_count": null,
      "outputs": [
        {
          "output_type": "display_data",
          "data": {
            "text/plain": [
              "<Figure size 864x576 with 1 Axes>"
            ],
            "image/png": "[encoded data removed]"
          },
          "metadata": {
            "needs_background": "light"
          }
        }
      ]
    },
    {
      "cell_type": "code",
      "source": [
        "hoja_sinietros=siniestros_dict[siniestros_dict['CAMPO']=='CHOQUE']    \n",
        "Dic_Choque=hoja_sinietros[['CODIGO','DESCRIPCION']]\n",
        "Dic_Choque = Dic_Choque.rename(columns={'CODIGO':'CHOQUE','DESCRIPCION':'TIPO_CHOQUE'})\n",
        "Dic_Choque.head()"
      ],
      "metadata": {
        "colab": {
          "base_uri": "https://localhost:8080/",
          "height": 174
        },
        "id": "wfn-OHMblaui",
        "outputId": "e68a3e44-d29d-4f2c-942e-b32a2bb55a67"
      },
      "execution_count": null,
      "outputs": [
        {
          "output_type": "execute_result",
          "data": {
            "text/plain": [
              "    CHOQUE  TIPO_CHOQUE\n",
              "10       1     Vehiculo\n",
              "11       2         Tren\n",
              "12       3   Semoviente\n",
              "13       4  Objeto Fijo"
            ],
            "text/html": [
              "\n",
              "  <div id=\"df-1ad869ba-1b1e-4e82-858b-81ce47a4d10e\">\n",
              "    <div class=\"colab-df-container\">\n",
              "      <div>\n",
              "<style scoped>\n",
              "    .dataframe tbody tr th:only-of-type {\n",
              "        vertical-align: middle;\n",
              "    }\n",
              "\n",
              "    .dataframe tbody tr th {\n",
              "        vertical-align: top;\n",
              "    }\n",
              "\n",
              "    .dataframe thead th {\n",
              "        text-align: right;\n",
              "    }\n",
              "</style>\n",
              "<table border=\"1\" class=\"dataframe\">\n",
              "  <thead>\n",
              "    <tr style=\"text-align: right;\">\n",
              "      <th></th>\n",
              "      <th>CHOQUE</th>\n",
              "      <th>TIPO_CHOQUE</th>\n",
              "    </tr>\n",
              "  </thead>\n",
              "  <tbody>\n",
              "    <tr>\n",
              "      <th>10</th>\n",
              "      <td>1</td>\n",
              "      <td>Vehiculo</td>\n",
              "    </tr>\n",
              "    <tr>\n",
              "      <th>11</th>\n",
              "      <td>2</td>\n",
              "      <td>Tren</td>\n",
              "    </tr>\n",
              "    <tr>\n",
              "      <th>12</th>\n",
              "      <td>3</td>\n",
              "      <td>Semoviente</td>\n",
              "    </tr>\n",
              "    <tr>\n",
              "      <th>13</th>\n",
              "      <td>4</td>\n",
              "      <td>Objeto Fijo</td>\n",
              "    </tr>\n",
              "  </tbody>\n",
              "</table>\n",
              "</div>\n",
              "      <button class=\"colab-df-convert\" onclick=\"convertToInteractive('df-1ad869ba-1b1e-4e82-858b-81ce47a4d10e')\"\n",
              "              title=\"Convert this dataframe to an interactive table.\"\n",
              "              style=\"display:none;\">\n",
              "        \n",
              "  <svg xmlns=\"http://www.w3.org/2000/svg\" height=\"24px\"viewBox=\"0 0 24 24\"\n",
              "       width=\"24px\">\n",
              "    <path d=\"M0 0h24v24H0V0z\" fill=\"none\"/>\n",
              "    <path d=\"M18.56 5.44l.94 2.06.94-2.06 2.06-.94-2.06-.94-.94-2.06-.94 2.06-2.06.94zm-11 1L8.5 8.5l.94-2.06 2.06-.94-2.06-.94L8.5 2.5l-.94 2.06-2.06.94zm10 10l.94 2.06.94-2.06 2.06-.94-2.06-.94-.94-2.06-.94 2.06-2.06.94z\"/><path d=\"M17.41 7.96l-1.37-1.37c-.4-.4-.92-.59-1.43-.59-.52 0-1.04.2-1.43.59L10.3 9.45l-7.72 7.72c-.78.78-.78 2.05 0 2.83L4 21.41c.39.39.9.59 1.41.59.51 0 1.02-.2 1.41-.59l7.78-7.78 2.81-2.81c.8-.78.8-2.07 0-2.86zM5.41 20L4 18.59l7.72-7.72 1.47 1.35L5.41 20z\"/>\n",
              "  </svg>\n",
              "      </button>\n",
              "      \n",
              "  <style>\n",
              "    .colab-df-container {\n",
              "      display:flex;\n",
              "      flex-wrap:wrap;\n",
              "      gap: 12px;\n",
              "    }\n",
              "\n",
              "    .colab-df-convert {\n",
              "      background-color: #E8F0FE;\n",
              "      border: none;\n",
              "      border-radius: 50%;\n",
              "      cursor: pointer;\n",
              "      display: none;\n",
              "      fill: #1967D2;\n",
              "      height: 32px;\n",
              "      padding: 0 0 0 0;\n",
              "      width: 32px;\n",
              "    }\n",
              "\n",
              "    .colab-df-convert:hover {\n",
              "      background-color: #E2EBFA;\n",
              "      box-shadow: 0px 1px 2px rgba(60, 64, 67, 0.3), 0px 1px 3px 1px rgba(60, 64, 67, 0.15);\n",
              "      fill: #174EA6;\n",
              "    }\n",
              "\n",
              "    [theme=dark] .colab-df-convert {\n",
              "      background-color: #3B4455;\n",
              "      fill: #D2E3FC;\n",
              "    }\n",
              "\n",
              "    [theme=dark] .colab-df-convert:hover {\n",
              "      background-color: #434B5C;\n",
              "      box-shadow: 0px 1px 3px 1px rgba(0, 0, 0, 0.15);\n",
              "      filter: drop-shadow(0px 1px 2px rgba(0, 0, 0, 0.3));\n",
              "      fill: #FFFFFF;\n",
              "    }\n",
              "  </style>\n",
              "\n",
              "      <script>\n",
              "        const buttonEl =\n",
              "          document.querySelector('#df-1ad869ba-1b1e-4e82-858b-81ce47a4d10e button.colab-df-convert');\n",
              "        buttonEl.style.display =\n",
              "          google.colab.kernel.accessAllowed ? 'block' : 'none';\n",
              "\n",
              "        async function convertToInteractive(key) {\n",
              "          const element = document.querySelector('#df-1ad869ba-1b1e-4e82-858b-81ce47a4d10e');\n",
              "          const dataTable =\n",
              "            await google.colab.kernel.invokeFunction('convertToInteractive',\n",
              "                                                     [key], {});\n",
              "          if (!dataTable) return;\n",
              "\n",
              "          const docLinkHtml = 'Like what you see? Visit the ' +\n",
              "            '<a target=\"_blank\" href=https://colab.research.google.com/notebooks/data_table.ipynb>data table notebook</a>'\n",
              "            + ' to learn more about interactive tables.';\n",
              "          element.innerHTML = '';\n",
              "          dataTable['output_type'] = 'display_data';\n",
              "          await google.colab.output.renderOutput(dataTable, element);\n",
              "          const docLink = document.createElement('div');\n",
              "          docLink.innerHTML = docLinkHtml;\n",
              "          element.appendChild(docLink);\n",
              "        }\n",
              "      </script>\n",
              "    </div>\n",
              "  </div>\n",
              "  "
            ]
          },
          "metadata": {},
          "execution_count": 19
        }
      ]
    },
    {
      "cell_type": "code",
      "source": [
        "siniestros=Dic_Choque.merge(siniestros, on = 'CHOQUE')\n",
        "siniestros.tail()"
      ],
      "metadata": {
        "colab": {
          "base_uri": "https://localhost:8080/",
          "height": 206
        },
        "id": "5qWWxerFmWbN",
        "outputId": "0db6a555-ee8a-4ee0-dcff-970e85e5e80b"
      },
      "execution_count": null,
      "outputs": [
        {
          "output_type": "execute_result",
          "data": {
            "text/plain": [
              "        CHOQUE  TIPO_CHOQUE  CLASE TIPO_CLASE  GRAVEDAD TIPO_GRAVEDAD  \\\n",
              "167615       4  Objeto Fijo      1     Choque         3    Solo Daños   \n",
              "167616       4  Objeto Fijo      1     Choque         3    Solo Daños   \n",
              "167617       4  Objeto Fijo      1     Choque         3    Solo Daños   \n",
              "167618       4  Objeto Fijo      1     Choque         3    Solo Daños   \n",
              "167619       4  Objeto Fijo      1     Choque         3    Solo Daños   \n",
              "\n",
              "        CODIGO_ACCIDENTE       FECHA      HORA  OBJETO_FIJO  \\\n",
              "167615          10530279  28/12/2020  19:54:00           10   \n",
              "167616          10530314  29/12/2020  18:50:00            6   \n",
              "167617          10530376  30/12/2020  11:28:00            3   \n",
              "167618          10530358  31/12/2020  00:17:00            1   \n",
              "167619          10530454  31/12/2020  17:00:00           10   \n",
              "\n",
              "                                             DIRECCION  CODIGO_LOCALIDAD  \\\n",
              "167615                              KR 78K-CL 38C S 41                 8   \n",
              "167616                                 CL 21-KR 102 02                 9   \n",
              "167617  AV AVENIDA PASEO DE LOS LIBERTADORES-CL 215 02                 1   \n",
              "167618                                  KR 50-CL 5A 02                16   \n",
              "167619                        AV AVENIDA SUBA-CL 91 02                11   \n",
              "\n",
              "        DISENO_LUGAR  \n",
              "167615             1  \n",
              "167616             1  \n",
              "167617             1  \n",
              "167618             2  \n",
              "167619             1  "
            ],
            "text/html": [
              "\n",
              "  <div id=\"df-56e10ae2-b708-498f-91b8-be6f823d287e\">\n",
              "    <div class=\"colab-df-container\">\n",
              "      <div>\n",
              "<style scoped>\n",
              "    .dataframe tbody tr th:only-of-type {\n",
              "        vertical-align: middle;\n",
              "    }\n",
              "\n",
              "    .dataframe tbody tr th {\n",
              "        vertical-align: top;\n",
              "    }\n",
              "\n",
              "    .dataframe thead th {\n",
              "        text-align: right;\n",
              "    }\n",
              "</style>\n",
              "<table border=\"1\" class=\"dataframe\">\n",
              "  <thead>\n",
              "    <tr style=\"text-align: right;\">\n",
              "      <th></th>\n",
              "      <th>CHOQUE</th>\n",
              "      <th>TIPO_CHOQUE</th>\n",
              "      <th>CLASE</th>\n",
              "      <th>TIPO_CLASE</th>\n",
              "      <th>GRAVEDAD</th>\n",
              "      <th>TIPO_GRAVEDAD</th>\n",
              "      <th>CODIGO_ACCIDENTE</th>\n",
              "      <th>FECHA</th>\n",
              "      <th>HORA</th>\n",
              "      <th>OBJETO_FIJO</th>\n",
              "      <th>DIRECCION</th>\n",
              "      <th>CODIGO_LOCALIDAD</th>\n",
              "      <th>DISENO_LUGAR</th>\n",
              "    </tr>\n",
              "  </thead>\n",
              "  <tbody>\n",
              "    <tr>\n",
              "      <th>167615</th>\n",
              "      <td>4</td>\n",
              "      <td>Objeto Fijo</td>\n",
              "      <td>1</td>\n",
              "      <td>Choque</td>\n",
              "      <td>3</td>\n",
              "      <td>Solo Daños</td>\n",
              "      <td>10530279</td>\n",
              "      <td>28/12/2020</td>\n",
              "      <td>19:54:00</td>\n",
              "      <td>10</td>\n",
              "      <td>KR 78K-CL 38C S 41</td>\n",
              "      <td>8</td>\n",
              "      <td>1</td>\n",
              "    </tr>\n",
              "    <tr>\n",
              "      <th>167616</th>\n",
              "      <td>4</td>\n",
              "      <td>Objeto Fijo</td>\n",
              "      <td>1</td>\n",
              "      <td>Choque</td>\n",
              "      <td>3</td>\n",
              "      <td>Solo Daños</td>\n",
              "      <td>10530314</td>\n",
              "      <td>29/12/2020</td>\n",
              "      <td>18:50:00</td>\n",
              "      <td>6</td>\n",
              "      <td>CL 21-KR 102 02</td>\n",
              "      <td>9</td>\n",
              "      <td>1</td>\n",
              "    </tr>\n",
              "    <tr>\n",
              "      <th>167617</th>\n",
              "      <td>4</td>\n",
              "      <td>Objeto Fijo</td>\n",
              "      <td>1</td>\n",
              "      <td>Choque</td>\n",
              "      <td>3</td>\n",
              "      <td>Solo Daños</td>\n",
              "      <td>10530376</td>\n",
              "      <td>30/12/2020</td>\n",
              "      <td>11:28:00</td>\n",
              "      <td>3</td>\n",
              "      <td>AV AVENIDA PASEO DE LOS LIBERTADORES-CL 215 02</td>\n",
              "      <td>1</td>\n",
              "      <td>1</td>\n",
              "    </tr>\n",
              "    <tr>\n",
              "      <th>167618</th>\n",
              "      <td>4</td>\n",
              "      <td>Objeto Fijo</td>\n",
              "      <td>1</td>\n",
              "      <td>Choque</td>\n",
              "      <td>3</td>\n",
              "      <td>Solo Daños</td>\n",
              "      <td>10530358</td>\n",
              "      <td>31/12/2020</td>\n",
              "      <td>00:17:00</td>\n",
              "      <td>1</td>\n",
              "      <td>KR 50-CL 5A 02</td>\n",
              "      <td>16</td>\n",
              "      <td>2</td>\n",
              "    </tr>\n",
              "    <tr>\n",
              "      <th>167619</th>\n",
              "      <td>4</td>\n",
              "      <td>Objeto Fijo</td>\n",
              "      <td>1</td>\n",
              "      <td>Choque</td>\n",
              "      <td>3</td>\n",
              "      <td>Solo Daños</td>\n",
              "      <td>10530454</td>\n",
              "      <td>31/12/2020</td>\n",
              "      <td>17:00:00</td>\n",
              "      <td>10</td>\n",
              "      <td>AV AVENIDA SUBA-CL 91 02</td>\n",
              "      <td>11</td>\n",
              "      <td>1</td>\n",
              "    </tr>\n",
              "  </tbody>\n",
              "</table>\n",
              "</div>\n",
              "      <button class=\"colab-df-convert\" onclick=\"convertToInteractive('df-56e10ae2-b708-498f-91b8-be6f823d287e')\"\n",
              "              title=\"Convert this dataframe to an interactive table.\"\n",
              "              style=\"display:none;\">\n",
              "        \n",
              "  <svg xmlns=\"http://www.w3.org/2000/svg\" height=\"24px\"viewBox=\"0 0 24 24\"\n",
              "       width=\"24px\">\n",
              "    <path d=\"M0 0h24v24H0V0z\" fill=\"none\"/>\n",
              "    <path d=\"M18.56 5.44l.94 2.06.94-2.06 2.06-.94-2.06-.94-.94-2.06-.94 2.06-2.06.94zm-11 1L8.5 8.5l.94-2.06 2.06-.94-2.06-.94L8.5 2.5l-.94 2.06-2.06.94zm10 10l.94 2.06.94-2.06 2.06-.94-2.06-.94-.94-2.06-.94 2.06-2.06.94z\"/><path d=\"M17.41 7.96l-1.37-1.37c-.4-.4-.92-.59-1.43-.59-.52 0-1.04.2-1.43.59L10.3 9.45l-7.72 7.72c-.78.78-.78 2.05 0 2.83L4 21.41c.39.39.9.59 1.41.59.51 0 1.02-.2 1.41-.59l7.78-7.78 2.81-2.81c.8-.78.8-2.07 0-2.86zM5.41 20L4 18.59l7.72-7.72 1.47 1.35L5.41 20z\"/>\n",
              "  </svg>\n",
              "      </button>\n",
              "      \n",
              "  <style>\n",
              "    .colab-df-container {\n",
              "      display:flex;\n",
              "      flex-wrap:wrap;\n",
              "      gap: 12px;\n",
              "    }\n",
              "\n",
              "    .colab-df-convert {\n",
              "      background-color: #E8F0FE;\n",
              "      border: none;\n",
              "      border-radius: 50%;\n",
              "      cursor: pointer;\n",
              "      display: none;\n",
              "      fill: #1967D2;\n",
              "      height: 32px;\n",
              "      padding: 0 0 0 0;\n",
              "      width: 32px;\n",
              "    }\n",
              "\n",
              "    .colab-df-convert:hover {\n",
              "      background-color: #E2EBFA;\n",
              "      box-shadow: 0px 1px 2px rgba(60, 64, 67, 0.3), 0px 1px 3px 1px rgba(60, 64, 67, 0.15);\n",
              "      fill: #174EA6;\n",
              "    }\n",
              "\n",
              "    [theme=dark] .colab-df-convert {\n",
              "      background-color: #3B4455;\n",
              "      fill: #D2E3FC;\n",
              "    }\n",
              "\n",
              "    [theme=dark] .colab-df-convert:hover {\n",
              "      background-color: #434B5C;\n",
              "      box-shadow: 0px 1px 3px 1px rgba(0, 0, 0, 0.15);\n",
              "      filter: drop-shadow(0px 1px 2px rgba(0, 0, 0, 0.3));\n",
              "      fill: #FFFFFF;\n",
              "    }\n",
              "  </style>\n",
              "\n",
              "      <script>\n",
              "        const buttonEl =\n",
              "          document.querySelector('#df-56e10ae2-b708-498f-91b8-be6f823d287e button.colab-df-convert');\n",
              "        buttonEl.style.display =\n",
              "          google.colab.kernel.accessAllowed ? 'block' : 'none';\n",
              "\n",
              "        async function convertToInteractive(key) {\n",
              "          const element = document.querySelector('#df-56e10ae2-b708-498f-91b8-be6f823d287e');\n",
              "          const dataTable =\n",
              "            await google.colab.kernel.invokeFunction('convertToInteractive',\n",
              "                                                     [key], {});\n",
              "          if (!dataTable) return;\n",
              "\n",
              "          const docLinkHtml = 'Like what you see? Visit the ' +\n",
              "            '<a target=\"_blank\" href=https://colab.research.google.com/notebooks/data_table.ipynb>data table notebook</a>'\n",
              "            + ' to learn more about interactive tables.';\n",
              "          element.innerHTML = '';\n",
              "          dataTable['output_type'] = 'display_data';\n",
              "          await google.colab.output.renderOutput(dataTable, element);\n",
              "          const docLink = document.createElement('div');\n",
              "          docLink.innerHTML = docLinkHtml;\n",
              "          element.appendChild(docLink);\n",
              "        }\n",
              "      </script>\n",
              "    </div>\n",
              "  </div>\n",
              "  "
            ]
          },
          "metadata": {},
          "execution_count": 20
        }
      ]
    },
    {
      "cell_type": "code",
      "source": [
        "siniestros['TIPO_CHOQUE'].value_counts()"
      ],
      "metadata": {
        "colab": {
          "base_uri": "https://localhost:8080/"
        },
        "id": "UK6pVI_Xmrwa",
        "outputId": "6cb470b9-c592-4904-952c-67a1a8ddd69b"
      },
      "execution_count": null,
      "outputs": [
        {
          "output_type": "execute_result",
          "data": {
            "text/plain": [
              "Vehiculo       160808\n",
              "Objeto Fijo      6689\n",
              "Semoviente         95\n",
              "Tren               28\n",
              "Name: TIPO_CHOQUE, dtype: int64"
            ]
          },
          "metadata": {},
          "execution_count": 21
        }
      ]
    },
    {
      "cell_type": "markdown",
      "source": [
        "##Se Evidencia que la mayoria de choques son contra Vehiculos , seguido con una menor participacion con Objeto Fijo, como dato curioso a pesar que los casos son minimos se presentaron 28 choques  dond con un tren en una cidudad donde este sistema de transporte es minimo y poco utlizado"
      ],
      "metadata": {
        "id": "Nqw-s22BxWpu"
      }
    },
    {
      "cell_type": "code",
      "source": [
        "siniestros['TIPO_CHOQUE'].value_counts().plot.bar(title='CHOQUE',fontsize=15,color='red',figsize=(15,7));"
      ],
      "metadata": {
        "colab": {
          "base_uri": "https://localhost:8080/",
          "height": 524
        },
        "id": "yHNnseMqnXZ6",
        "outputId": "0b62c549-b795-48ea-cae6-18f691455acf"
      },
      "execution_count": null,
      "outputs": [
        {
          "output_type": "display_data",
          "data": {
            "text/plain": [
              "<Figure size 1080x504 with 1 Axes>"
            ],
            "image/png": "[encoded data removed]"
          },
          "metadata": {
            "needs_background": "light"
          }
        }
      ]
    },
    {
      "cell_type": "code",
      "source": [
        "hoja_sinietros=siniestros_dict[siniestros_dict['CAMPO']=='OBJETO_FIJO']    \n",
        "Dic_Objeto_fijo=hoja_sinietros[['CODIGO','DESCRIPCION']]\n",
        "Dic_Objeto_fijo = Dic_Objeto_fijo.rename(columns={'CODIGO':'OBJETO_FIJO','DESCRIPCION':'TIPO_OBJETO_FIJO'})\n",
        "Dic_Objeto_fijo.head(11)"
      ],
      "metadata": {
        "colab": {
          "base_uri": "https://localhost:8080/",
          "height": 394
        },
        "id": "ZSRetkysuguu",
        "outputId": "f915a5d3-134a-49d8-8b4e-18c8e6d32f68"
      },
      "execution_count": null,
      "outputs": [
        {
          "output_type": "execute_result",
          "data": {
            "text/plain": [
              "    OBJETO_FIJO      TIPO_OBJETO_FIJO\n",
              "14            1                  Muro\n",
              "15            2                 Poste\n",
              "16            3                 Arbol\n",
              "17            4              Barandas\n",
              "18            5              Semaforo\n",
              "19            6              Inmueble\n",
              "20            7              Hidrante\n",
              "21            8          Valla, Señal\n",
              "22            9        Tarima, Caseta\n",
              "23           10  Vehiculo estacionado\n",
              "24           11                  Otro"
            ],
            "text/html": [
              "\n",
              "  <div id=\"df-1c854615-ad7d-42ba-867e-5bc6bd27acc7\">\n",
              "    <div class=\"colab-df-container\">\n",
              "      <div>\n",
              "<style scoped>\n",
              "    .dataframe tbody tr th:only-of-type {\n",
              "        vertical-align: middle;\n",
              "    }\n",
              "\n",
              "    .dataframe tbody tr th {\n",
              "        vertical-align: top;\n",
              "    }\n",
              "\n",
              "    .dataframe thead th {\n",
              "        text-align: right;\n",
              "    }\n",
              "</style>\n",
              "<table border=\"1\" class=\"dataframe\">\n",
              "  <thead>\n",
              "    <tr style=\"text-align: right;\">\n",
              "      <th></th>\n",
              "      <th>OBJETO_FIJO</th>\n",
              "      <th>TIPO_OBJETO_FIJO</th>\n",
              "    </tr>\n",
              "  </thead>\n",
              "  <tbody>\n",
              "    <tr>\n",
              "      <th>14</th>\n",
              "      <td>1</td>\n",
              "      <td>Muro</td>\n",
              "    </tr>\n",
              "    <tr>\n",
              "      <th>15</th>\n",
              "      <td>2</td>\n",
              "      <td>Poste</td>\n",
              "    </tr>\n",
              "    <tr>\n",
              "      <th>16</th>\n",
              "      <td>3</td>\n",
              "      <td>Arbol</td>\n",
              "    </tr>\n",
              "    <tr>\n",
              "      <th>17</th>\n",
              "      <td>4</td>\n",
              "      <td>Barandas</td>\n",
              "    </tr>\n",
              "    <tr>\n",
              "      <th>18</th>\n",
              "      <td>5</td>\n",
              "      <td>Semaforo</td>\n",
              "    </tr>\n",
              "    <tr>\n",
              "      <th>19</th>\n",
              "      <td>6</td>\n",
              "      <td>Inmueble</td>\n",
              "    </tr>\n",
              "    <tr>\n",
              "      <th>20</th>\n",
              "      <td>7</td>\n",
              "      <td>Hidrante</td>\n",
              "    </tr>\n",
              "    <tr>\n",
              "      <th>21</th>\n",
              "      <td>8</td>\n",
              "      <td>Valla, Señal</td>\n",
              "    </tr>\n",
              "    <tr>\n",
              "      <th>22</th>\n",
              "      <td>9</td>\n",
              "      <td>Tarima, Caseta</td>\n",
              "    </tr>\n",
              "    <tr>\n",
              "      <th>23</th>\n",
              "      <td>10</td>\n",
              "      <td>Vehiculo estacionado</td>\n",
              "    </tr>\n",
              "    <tr>\n",
              "      <th>24</th>\n",
              "      <td>11</td>\n",
              "      <td>Otro</td>\n",
              "    </tr>\n",
              "  </tbody>\n",
              "</table>\n",
              "</div>\n",
              "      <button class=\"colab-df-convert\" onclick=\"convertToInteractive('df-1c854615-ad7d-42ba-867e-5bc6bd27acc7')\"\n",
              "              title=\"Convert this dataframe to an interactive table.\"\n",
              "              style=\"display:none;\">\n",
              "        \n",
              "  <svg xmlns=\"http://www.w3.org/2000/svg\" height=\"24px\"viewBox=\"0 0 24 24\"\n",
              "       width=\"24px\">\n",
              "    <path d=\"M0 0h24v24H0V0z\" fill=\"none\"/>\n",
              "    <path d=\"M18.56 5.44l.94 2.06.94-2.06 2.06-.94-2.06-.94-.94-2.06-.94 2.06-2.06.94zm-11 1L8.5 8.5l.94-2.06 2.06-.94-2.06-.94L8.5 2.5l-.94 2.06-2.06.94zm10 10l.94 2.06.94-2.06 2.06-.94-2.06-.94-.94-2.06-.94 2.06-2.06.94z\"/><path d=\"M17.41 7.96l-1.37-1.37c-.4-.4-.92-.59-1.43-.59-.52 0-1.04.2-1.43.59L10.3 9.45l-7.72 7.72c-.78.78-.78 2.05 0 2.83L4 21.41c.39.39.9.59 1.41.59.51 0 1.02-.2 1.41-.59l7.78-7.78 2.81-2.81c.8-.78.8-2.07 0-2.86zM5.41 20L4 18.59l7.72-7.72 1.47 1.35L5.41 20z\"/>\n",
              "  </svg>\n",
              "      </button>\n",
              "      \n",
              "  <style>\n",
              "    .colab-df-container {\n",
              "      display:flex;\n",
              "      flex-wrap:wrap;\n",
              "      gap: 12px;\n",
              "    }\n",
              "\n",
              "    .colab-df-convert {\n",
              "      background-color: #E8F0FE;\n",
              "      border: none;\n",
              "      border-radius: 50%;\n",
              "      cursor: pointer;\n",
              "      display: none;\n",
              "      fill: #1967D2;\n",
              "      height: 32px;\n",
              "      padding: 0 0 0 0;\n",
              "      width: 32px;\n",
              "    }\n",
              "\n",
              "    .colab-df-convert:hover {\n",
              "      background-color: #E2EBFA;\n",
              "      box-shadow: 0px 1px 2px rgba(60, 64, 67, 0.3), 0px 1px 3px 1px rgba(60, 64, 67, 0.15);\n",
              "      fill: #174EA6;\n",
              "    }\n",
              "\n",
              "    [theme=dark] .colab-df-convert {\n",
              "      background-color: #3B4455;\n",
              "      fill: #D2E3FC;\n",
              "    }\n",
              "\n",
              "    [theme=dark] .colab-df-convert:hover {\n",
              "      background-color: #434B5C;\n",
              "      box-shadow: 0px 1px 3px 1px rgba(0, 0, 0, 0.15);\n",
              "      filter: drop-shadow(0px 1px 2px rgba(0, 0, 0, 0.3));\n",
              "      fill: #FFFFFF;\n",
              "    }\n",
              "  </style>\n",
              "\n",
              "      <script>\n",
              "        const buttonEl =\n",
              "          document.querySelector('#df-1c854615-ad7d-42ba-867e-5bc6bd27acc7 button.colab-df-convert');\n",
              "        buttonEl.style.display =\n",
              "          google.colab.kernel.accessAllowed ? 'block' : 'none';\n",
              "\n",
              "        async function convertToInteractive(key) {\n",
              "          const element = document.querySelector('#df-1c854615-ad7d-42ba-867e-5bc6bd27acc7');\n",
              "          const dataTable =\n",
              "            await google.colab.kernel.invokeFunction('convertToInteractive',\n",
              "                                                     [key], {});\n",
              "          if (!dataTable) return;\n",
              "\n",
              "          const docLinkHtml = 'Like what you see? Visit the ' +\n",
              "            '<a target=\"_blank\" href=https://colab.research.google.com/notebooks/data_table.ipynb>data table notebook</a>'\n",
              "            + ' to learn more about interactive tables.';\n",
              "          element.innerHTML = '';\n",
              "          dataTable['output_type'] = 'display_data';\n",
              "          await google.colab.output.renderOutput(dataTable, element);\n",
              "          const docLink = document.createElement('div');\n",
              "          docLink.innerHTML = docLinkHtml;\n",
              "          element.appendChild(docLink);\n",
              "        }\n",
              "      </script>\n",
              "    </div>\n",
              "  </div>\n",
              "  "
            ]
          },
          "metadata": {},
          "execution_count": 27
        }
      ]
    },
    {
      "cell_type": "code",
      "source": [
        "siniestros=Dic_Objeto_fijo.merge(siniestros, on = 'OBJETO_FIJO')\n",
        "siniestros.head()"
      ],
      "metadata": {
        "colab": {
          "base_uri": "https://localhost:8080/",
          "height": 206
        },
        "id": "lQck-hwJwNzx",
        "outputId": "56cef0fd-6a75-4cd9-ea09-c6062e21d2a7"
      },
      "execution_count": null,
      "outputs": [
        {
          "output_type": "execute_result",
          "data": {
            "text/plain": [
              "   OBJETO_FIJO TIPO_OBJETO_FIJO  CHOQUE  TIPO_CHOQUE  CLASE TIPO_CLASE  \\\n",
              "0            1             Muro       4  Objeto Fijo      1     Choque   \n",
              "1            1             Muro       4  Objeto Fijo      1     Choque   \n",
              "2            1             Muro       4  Objeto Fijo      1     Choque   \n",
              "3            1             Muro       4  Objeto Fijo      1     Choque   \n",
              "4            1             Muro       4  Objeto Fijo      1     Choque   \n",
              "\n",
              "   GRAVEDAD TIPO_GRAVEDAD  CODIGO_ACCIDENTE       FECHA      HORA  \\\n",
              "0         1   Con Muertos           4407491  08/03/2015  04:50:00   \n",
              "1         1   Con Muertos           4408760  28/03/2015  18:50:00   \n",
              "2         1   Con Muertos           4409904  12/04/2015  15:40:00   \n",
              "3         1   Con Muertos           4412751  13/05/2015  17:45:00   \n",
              "4         1   Con Muertos           4414533  02/06/2015  21:15:00   \n",
              "\n",
              "                             DIRECCION  CODIGO_LOCALIDAD  DISENO_LUGAR  \n",
              "0                     CL 52-KR 97 S 02                 7             1  \n",
              "1                    CL 38A-KR 50 S 02                16             4  \n",
              "2                    KR 12-CL 46 ES 31                 4             1  \n",
              "3  AV AVENIDA DE LAS AMERICAS-AK 68 02                 8             4  \n",
              "4                      AK 30-CL 39A 80                13             1  "
            ],
            "text/html": [
              "\n",
              "  <div id=\"df-6a543ed9-5ea0-4026-9285-4d18ba95f387\">\n",
              "    <div class=\"colab-df-container\">\n",
              "      <div>\n",
              "<style scoped>\n",
              "    .dataframe tbody tr th:only-of-type {\n",
              "        vertical-align: middle;\n",
              "    }\n",
              "\n",
              "    .dataframe tbody tr th {\n",
              "        vertical-align: top;\n",
              "    }\n",
              "\n",
              "    .dataframe thead th {\n",
              "        text-align: right;\n",
              "    }\n",
              "</style>\n",
              "<table border=\"1\" class=\"dataframe\">\n",
              "  <thead>\n",
              "    <tr style=\"text-align: right;\">\n",
              "      <th></th>\n",
              "      <th>OBJETO_FIJO</th>\n",
              "      <th>TIPO_OBJETO_FIJO</th>\n",
              "      <th>CHOQUE</th>\n",
              "      <th>TIPO_CHOQUE</th>\n",
              "      <th>CLASE</th>\n",
              "      <th>TIPO_CLASE</th>\n",
              "      <th>GRAVEDAD</th>\n",
              "      <th>TIPO_GRAVEDAD</th>\n",
              "      <th>CODIGO_ACCIDENTE</th>\n",
              "      <th>FECHA</th>\n",
              "      <th>HORA</th>\n",
              "      <th>DIRECCION</th>\n",
              "      <th>CODIGO_LOCALIDAD</th>\n",
              "      <th>DISENO_LUGAR</th>\n",
              "    </tr>\n",
              "  </thead>\n",
              "  <tbody>\n",
              "    <tr>\n",
              "      <th>0</th>\n",
              "      <td>1</td>\n",
              "      <td>Muro</td>\n",
              "      <td>4</td>\n",
              "      <td>Objeto Fijo</td>\n",
              "      <td>1</td>\n",
              "      <td>Choque</td>\n",
              "      <td>1</td>\n",
              "      <td>Con Muertos</td>\n",
              "      <td>4407491</td>\n",
              "      <td>08/03/2015</td>\n",
              "      <td>04:50:00</td>\n",
              "      <td>CL 52-KR 97 S 02</td>\n",
              "      <td>7</td>\n",
              "      <td>1</td>\n",
              "    </tr>\n",
              "    <tr>\n",
              "      <th>1</th>\n",
              "      <td>1</td>\n",
              "      <td>Muro</td>\n",
              "      <td>4</td>\n",
              "      <td>Objeto Fijo</td>\n",
              "      <td>1</td>\n",
              "      <td>Choque</td>\n",
              "      <td>1</td>\n",
              "      <td>Con Muertos</td>\n",
              "      <td>4408760</td>\n",
              "      <td>28/03/2015</td>\n",
              "      <td>18:50:00</td>\n",
              "      <td>CL 38A-KR 50 S 02</td>\n",
              "      <td>16</td>\n",
              "      <td>4</td>\n",
              "    </tr>\n",
              "    <tr>\n",
              "      <th>2</th>\n",
              "      <td>1</td>\n",
              "      <td>Muro</td>\n",
              "      <td>4</td>\n",
              "      <td>Objeto Fijo</td>\n",
              "      <td>1</td>\n",
              "      <td>Choque</td>\n",
              "      <td>1</td>\n",
              "      <td>Con Muertos</td>\n",
              "      <td>4409904</td>\n",
              "      <td>12/04/2015</td>\n",
              "      <td>15:40:00</td>\n",
              "      <td>KR 12-CL 46 ES 31</td>\n",
              "      <td>4</td>\n",
              "      <td>1</td>\n",
              "    </tr>\n",
              "    <tr>\n",
              "      <th>3</th>\n",
              "      <td>1</td>\n",
              "      <td>Muro</td>\n",
              "      <td>4</td>\n",
              "      <td>Objeto Fijo</td>\n",
              "      <td>1</td>\n",
              "      <td>Choque</td>\n",
              "      <td>1</td>\n",
              "      <td>Con Muertos</td>\n",
              "      <td>4412751</td>\n",
              "      <td>13/05/2015</td>\n",
              "      <td>17:45:00</td>\n",
              "      <td>AV AVENIDA DE LAS AMERICAS-AK 68 02</td>\n",
              "      <td>8</td>\n",
              "      <td>4</td>\n",
              "    </tr>\n",
              "    <tr>\n",
              "      <th>4</th>\n",
              "      <td>1</td>\n",
              "      <td>Muro</td>\n",
              "      <td>4</td>\n",
              "      <td>Objeto Fijo</td>\n",
              "      <td>1</td>\n",
              "      <td>Choque</td>\n",
              "      <td>1</td>\n",
              "      <td>Con Muertos</td>\n",
              "      <td>4414533</td>\n",
              "      <td>02/06/2015</td>\n",
              "      <td>21:15:00</td>\n",
              "      <td>AK 30-CL 39A 80</td>\n",
              "      <td>13</td>\n",
              "      <td>1</td>\n",
              "    </tr>\n",
              "  </tbody>\n",
              "</table>\n",
              "</div>\n",
              "      <button class=\"colab-df-convert\" onclick=\"convertToInteractive('df-6a543ed9-5ea0-4026-9285-4d18ba95f387')\"\n",
              "              title=\"Convert this dataframe to an interactive table.\"\n",
              "              style=\"display:none;\">\n",
              "        \n",
              "  <svg xmlns=\"http://www.w3.org/2000/svg\" height=\"24px\"viewBox=\"0 0 24 24\"\n",
              "       width=\"24px\">\n",
              "    <path d=\"M0 0h24v24H0V0z\" fill=\"none\"/>\n",
              "    <path d=\"M18.56 5.44l.94 2.06.94-2.06 2.06-.94-2.06-.94-.94-2.06-.94 2.06-2.06.94zm-11 1L8.5 8.5l.94-2.06 2.06-.94-2.06-.94L8.5 2.5l-.94 2.06-2.06.94zm10 10l.94 2.06.94-2.06 2.06-.94-2.06-.94-.94-2.06-.94 2.06-2.06.94z\"/><path d=\"M17.41 7.96l-1.37-1.37c-.4-.4-.92-.59-1.43-.59-.52 0-1.04.2-1.43.59L10.3 9.45l-7.72 7.72c-.78.78-.78 2.05 0 2.83L4 21.41c.39.39.9.59 1.41.59.51 0 1.02-.2 1.41-.59l7.78-7.78 2.81-2.81c.8-.78.8-2.07 0-2.86zM5.41 20L4 18.59l7.72-7.72 1.47 1.35L5.41 20z\"/>\n",
              "  </svg>\n",
              "      </button>\n",
              "      \n",
              "  <style>\n",
              "    .colab-df-container {\n",
              "      display:flex;\n",
              "      flex-wrap:wrap;\n",
              "      gap: 12px;\n",
              "    }\n",
              "\n",
              "    .colab-df-convert {\n",
              "      background-color: #E8F0FE;\n",
              "      border: none;\n",
              "      border-radius: 50%;\n",
              "      cursor: pointer;\n",
              "      display: none;\n",
              "      fill: #1967D2;\n",
              "      height: 32px;\n",
              "      padding: 0 0 0 0;\n",
              "      width: 32px;\n",
              "    }\n",
              "\n",
              "    .colab-df-convert:hover {\n",
              "      background-color: #E2EBFA;\n",
              "      box-shadow: 0px 1px 2px rgba(60, 64, 67, 0.3), 0px 1px 3px 1px rgba(60, 64, 67, 0.15);\n",
              "      fill: #174EA6;\n",
              "    }\n",
              "\n",
              "    [theme=dark] .colab-df-convert {\n",
              "      background-color: #3B4455;\n",
              "      fill: #D2E3FC;\n",
              "    }\n",
              "\n",
              "    [theme=dark] .colab-df-convert:hover {\n",
              "      background-color: #434B5C;\n",
              "      box-shadow: 0px 1px 3px 1px rgba(0, 0, 0, 0.15);\n",
              "      filter: drop-shadow(0px 1px 2px rgba(0, 0, 0, 0.3));\n",
              "      fill: #FFFFFF;\n",
              "    }\n",
              "  </style>\n",
              "\n",
              "      <script>\n",
              "        const buttonEl =\n",
              "          document.querySelector('#df-6a543ed9-5ea0-4026-9285-4d18ba95f387 button.colab-df-convert');\n",
              "        buttonEl.style.display =\n",
              "          google.colab.kernel.accessAllowed ? 'block' : 'none';\n",
              "\n",
              "        async function convertToInteractive(key) {\n",
              "          const element = document.querySelector('#df-6a543ed9-5ea0-4026-9285-4d18ba95f387');\n",
              "          const dataTable =\n",
              "            await google.colab.kernel.invokeFunction('convertToInteractive',\n",
              "                                                     [key], {});\n",
              "          if (!dataTable) return;\n",
              "\n",
              "          const docLinkHtml = 'Like what you see? Visit the ' +\n",
              "            '<a target=\"_blank\" href=https://colab.research.google.com/notebooks/data_table.ipynb>data table notebook</a>'\n",
              "            + ' to learn more about interactive tables.';\n",
              "          element.innerHTML = '';\n",
              "          dataTable['output_type'] = 'display_data';\n",
              "          await google.colab.output.renderOutput(dataTable, element);\n",
              "          const docLink = document.createElement('div');\n",
              "          docLink.innerHTML = docLinkHtml;\n",
              "          element.appendChild(docLink);\n",
              "        }\n",
              "      </script>\n",
              "    </div>\n",
              "  </div>\n",
              "  "
            ]
          },
          "metadata": {},
          "execution_count": 28
        }
      ]
    },
    {
      "cell_type": "code",
      "source": [
        "siniestros['TIPO_OBJETO_FIJO'].value_counts()"
      ],
      "metadata": {
        "colab": {
          "base_uri": "https://localhost:8080/"
        },
        "id": "fZaT1c27wg31",
        "outputId": "daf76c70-2919-4678-94a7-2226fe7ed242"
      },
      "execution_count": null,
      "outputs": [
        {
          "output_type": "execute_result",
          "data": {
            "text/plain": [
              "Vehiculo estacionado    1746\n",
              "Poste                   1552\n",
              "Muro                    1252\n",
              "Inmueble                 841\n",
              "Otro                     325\n",
              "Barandas                 291\n",
              "Valla, Señal             227\n",
              "Arbol                    219\n",
              "Semaforo                 149\n",
              "Tarima, Caseta            44\n",
              "Hidrante                  36\n",
              "Name: TIPO_OBJETO_FIJO, dtype: int64"
            ]
          },
          "metadata": {},
          "execution_count": 29
        }
      ]
    },
    {
      "cell_type": "markdown",
      "source": [
        "##Se Observa que la mayor cantidad de siniestros se dan con vehiculos estacionados , seguido de postes y muros en menor proporción con tarimas ,casetas, e Hidrantes"
      ],
      "metadata": {
        "id": "8MusqmATyWIP"
      }
    },
    {
      "cell_type": "code",
      "source": [
        "siniestros['TIPO_OBJETO_FIJO'].value_counts().plot.bar(title='OBJETO FIJO',fontsize=15,figsize=(15,8));"
      ],
      "metadata": {
        "colab": {
          "base_uri": "https://localhost:8080/",
          "height": 648
        },
        "id": "ZbuDIIgEwuDO",
        "outputId": "056b3fb6-8c47-43a0-9cf4-2e9a59bb21cc"
      },
      "execution_count": null,
      "outputs": [
        {
          "output_type": "display_data",
          "data": {
            "text/plain": [
              "<Figure size 1080x576 with 1 Axes>"
            ],
            "image/png": "[encoded data removed]"
          },
          "metadata": {
            "needs_background": "light"
          }
        }
      ]
    },
    {
      "cell_type": "code",
      "source": [
        "siniestros.sort_values('HORA',inplace=True)\n",
        "siniestros\n"
      ],
      "metadata": {
        "colab": {
          "base_uri": "https://localhost:8080/",
          "height": 423
        },
        "id": "ZSDOgvHu1LnY",
        "outputId": "a2072209-0fd8-4589-cf3c-4471c7cf1dc1"
      },
      "execution_count": null,
      "outputs": [
        {
          "output_type": "execute_result",
          "data": {
            "text/plain": [
              "      OBJETO_FIJO      TIPO_OBJETO_FIJO  CHOQUE  TIPO_CHOQUE  CLASE  \\\n",
              "4461            8          Valla, Señal       4  Objeto Fijo      1   \n",
              "5511           10  Vehiculo estacionado       4  Objeto Fijo      1   \n",
              "5540           10  Vehiculo estacionado       4  Objeto Fijo      1   \n",
              "5671           10  Vehiculo estacionado       4  Objeto Fijo      1   \n",
              "5311           10  Vehiculo estacionado       4  Objeto Fijo      1   \n",
              "...           ...                   ...     ...          ...    ...   \n",
              "1266            2                 Poste       4  Objeto Fijo      1   \n",
              "3804            6              Inmueble       4  Objeto Fijo      1   \n",
              "2780            2                 Poste       4  Objeto Fijo      1   \n",
              "870             1                  Muro       4  Objeto Fijo      1   \n",
              "2412            2                 Poste       4  Objeto Fijo      1   \n",
              "\n",
              "     TIPO_CLASE  GRAVEDAD TIPO_GRAVEDAD  CODIGO_ACCIDENTE       FECHA  \\\n",
              "4461     Choque         3    Solo Daños           4489721  08/08/2017   \n",
              "5511     Choque         3    Solo Daños           4471162  28/01/2017   \n",
              "5540     Choque         3    Solo Daños           4474077  26/02/2017   \n",
              "5671     Choque         3    Solo Daños           4500039  19/11/2017   \n",
              "5311     Choque         3    Solo Daños           4436093  06/02/2016   \n",
              "...         ...       ...           ...               ...         ...   \n",
              "1266     Choque         1   Con Muertos           4488116  20/07/2017   \n",
              "3804     Choque         3    Solo Daños           4462895  30/10/2016   \n",
              "2780     Choque         3    Solo Daños          10527334  20/11/2020   \n",
              "870      Choque         3    Solo Daños           4503548  20/12/2017   \n",
              "2412     Choque         3    Solo Daños          10473475  22/01/2019   \n",
              "\n",
              "          HORA                        DIRECCION  CODIGO_LOCALIDAD  \\\n",
              "4461  00:00:00                   CL 24-KR 95A 2                 9   \n",
              "5511  00:00:00      AV AVENIDA BOYACA-CL 23A 90                 9   \n",
              "5540  00:00:00                   KR 92-CL 8A 76                 8   \n",
              "5671  00:00:00                 CL 192-KR 11A 52                 1   \n",
              "5311  00:00:00                  CL 6-KR 14 S 02                16   \n",
              "...        ...                              ...               ...   \n",
              "1266  23:55:00  AV AVENIDA CIRCUNVALAR-CL 85 02                 2   \n",
              "3804  23:58:00                     CL 1-KR 6 42                 3   \n",
              "2780  23:58:00                   CL 70-KR 99 02                10   \n",
              "870   23:58:00                     KR 5-CL 22 2                 3   \n",
              "2412  23:59:00     AV AVENIDA BOYACA-CL 32 S 02                 8   \n",
              "\n",
              "      DISENO_LUGAR  \n",
              "4461             1  \n",
              "5511            10  \n",
              "5540             1  \n",
              "5671             1  \n",
              "5311             1  \n",
              "...            ...  \n",
              "1266             1  \n",
              "3804             1  \n",
              "2780             2  \n",
              "870              1  \n",
              "2412             1  \n",
              "\n",
              "[6682 rows x 14 columns]"
            ],
            "text/html": [
              "\n",
              "  <div id=\"df-89c1926c-0339-4983-8ef7-4f0ed0fae631\">\n",
              "    <div class=\"colab-df-container\">\n",
              "      <div>\n",
              "<style scoped>\n",
              "    .dataframe tbody tr th:only-of-type {\n",
              "        vertical-align: middle;\n",
              "    }\n",
              "\n",
              "    .dataframe tbody tr th {\n",
              "        vertical-align: top;\n",
              "    }\n",
              "\n",
              "    .dataframe thead th {\n",
              "        text-align: right;\n",
              "    }\n",
              "</style>\n",
              "<table border=\"1\" class=\"dataframe\">\n",
              "  <thead>\n",
              "    <tr style=\"text-align: right;\">\n",
              "      <th></th>\n",
              "      <th>OBJETO_FIJO</th>\n",
              "      <th>TIPO_OBJETO_FIJO</th>\n",
              "      <th>CHOQUE</th>\n",
              "      <th>TIPO_CHOQUE</th>\n",
              "      <th>CLASE</th>\n",
              "      <th>TIPO_CLASE</th>\n",
              "      <th>GRAVEDAD</th>\n",
              "      <th>TIPO_GRAVEDAD</th>\n",
              "      <th>CODIGO_ACCIDENTE</th>\n",
              "      <th>FECHA</th>\n",
              "      <th>HORA</th>\n",
              "      <th>DIRECCION</th>\n",
              "      <th>CODIGO_LOCALIDAD</th>\n",
              "      <th>DISENO_LUGAR</th>\n",
              "    </tr>\n",
              "  </thead>\n",
              "  <tbody>\n",
              "    <tr>\n",
              "      <th>4461</th>\n",
              "      <td>8</td>\n",
              "      <td>Valla, Señal</td>\n",
              "      <td>4</td>\n",
              "      <td>Objeto Fijo</td>\n",
              "      <td>1</td>\n",
              "      <td>Choque</td>\n",
              "      <td>3</td>\n",
              "      <td>Solo Daños</td>\n",
              "      <td>4489721</td>\n",
              "      <td>08/08/2017</td>\n",
              "      <td>00:00:00</td>\n",
              "      <td>CL 24-KR 95A 2</td>\n",
              "      <td>9</td>\n",
              "      <td>1</td>\n",
              "    </tr>\n",
              "    <tr>\n",
              "      <th>5511</th>\n",
              "      <td>10</td>\n",
              "      <td>Vehiculo estacionado</td>\n",
              "      <td>4</td>\n",
              "      <td>Objeto Fijo</td>\n",
              "      <td>1</td>\n",
              "      <td>Choque</td>\n",
              "      <td>3</td>\n",
              "      <td>Solo Daños</td>\n",
              "      <td>4471162</td>\n",
              "      <td>28/01/2017</td>\n",
              "      <td>00:00:00</td>\n",
              "      <td>AV AVENIDA BOYACA-CL 23A 90</td>\n",
              "      <td>9</td>\n",
              "      <td>10</td>\n",
              "    </tr>\n",
              "    <tr>\n",
              "      <th>5540</th>\n",
              "      <td>10</td>\n",
              "      <td>Vehiculo estacionado</td>\n",
              "      <td>4</td>\n",
              "      <td>Objeto Fijo</td>\n",
              "      <td>1</td>\n",
              "      <td>Choque</td>\n",
              "      <td>3</td>\n",
              "      <td>Solo Daños</td>\n",
              "      <td>4474077</td>\n",
              "      <td>26/02/2017</td>\n",
              "      <td>00:00:00</td>\n",
              "      <td>KR 92-CL 8A 76</td>\n",
              "      <td>8</td>\n",
              "      <td>1</td>\n",
              "    </tr>\n",
              "    <tr>\n",
              "      <th>5671</th>\n",
              "      <td>10</td>\n",
              "      <td>Vehiculo estacionado</td>\n",
              "      <td>4</td>\n",
              "      <td>Objeto Fijo</td>\n",
              "      <td>1</td>\n",
              "      <td>Choque</td>\n",
              "      <td>3</td>\n",
              "      <td>Solo Daños</td>\n",
              "      <td>4500039</td>\n",
              "      <td>19/11/2017</td>\n",
              "      <td>00:00:00</td>\n",
              "      <td>CL 192-KR 11A 52</td>\n",
              "      <td>1</td>\n",
              "      <td>1</td>\n",
              "    </tr>\n",
              "    <tr>\n",
              "      <th>5311</th>\n",
              "      <td>10</td>\n",
              "      <td>Vehiculo estacionado</td>\n",
              "      <td>4</td>\n",
              "      <td>Objeto Fijo</td>\n",
              "      <td>1</td>\n",
              "      <td>Choque</td>\n",
              "      <td>3</td>\n",
              "      <td>Solo Daños</td>\n",
              "      <td>4436093</td>\n",
              "      <td>06/02/2016</td>\n",
              "      <td>00:00:00</td>\n",
              "      <td>CL 6-KR 14 S 02</td>\n",
              "      <td>16</td>\n",
              "      <td>1</td>\n",
              "    </tr>\n",
              "    <tr>\n",
              "      <th>...</th>\n",
              "      <td>...</td>\n",
              "      <td>...</td>\n",
              "      <td>...</td>\n",
              "      <td>...</td>\n",
              "      <td>...</td>\n",
              "      <td>...</td>\n",
              "      <td>...</td>\n",
              "      <td>...</td>\n",
              "      <td>...</td>\n",
              "      <td>...</td>\n",
              "      <td>...</td>\n",
              "      <td>...</td>\n",
              "      <td>...</td>\n",
              "      <td>...</td>\n",
              "    </tr>\n",
              "    <tr>\n",
              "      <th>1266</th>\n",
              "      <td>2</td>\n",
              "      <td>Poste</td>\n",
              "      <td>4</td>\n",
              "      <td>Objeto Fijo</td>\n",
              "      <td>1</td>\n",
              "      <td>Choque</td>\n",
              "      <td>1</td>\n",
              "      <td>Con Muertos</td>\n",
              "      <td>4488116</td>\n",
              "      <td>20/07/2017</td>\n",
              "      <td>23:55:00</td>\n",
              "      <td>AV AVENIDA CIRCUNVALAR-CL 85 02</td>\n",
              "      <td>2</td>\n",
              "      <td>1</td>\n",
              "    </tr>\n",
              "    <tr>\n",
              "      <th>3804</th>\n",
              "      <td>6</td>\n",
              "      <td>Inmueble</td>\n",
              "      <td>4</td>\n",
              "      <td>Objeto Fijo</td>\n",
              "      <td>1</td>\n",
              "      <td>Choque</td>\n",
              "      <td>3</td>\n",
              "      <td>Solo Daños</td>\n",
              "      <td>4462895</td>\n",
              "      <td>30/10/2016</td>\n",
              "      <td>23:58:00</td>\n",
              "      <td>CL 1-KR 6 42</td>\n",
              "      <td>3</td>\n",
              "      <td>1</td>\n",
              "    </tr>\n",
              "    <tr>\n",
              "      <th>2780</th>\n",
              "      <td>2</td>\n",
              "      <td>Poste</td>\n",
              "      <td>4</td>\n",
              "      <td>Objeto Fijo</td>\n",
              "      <td>1</td>\n",
              "      <td>Choque</td>\n",
              "      <td>3</td>\n",
              "      <td>Solo Daños</td>\n",
              "      <td>10527334</td>\n",
              "      <td>20/11/2020</td>\n",
              "      <td>23:58:00</td>\n",
              "      <td>CL 70-KR 99 02</td>\n",
              "      <td>10</td>\n",
              "      <td>2</td>\n",
              "    </tr>\n",
              "    <tr>\n",
              "      <th>870</th>\n",
              "      <td>1</td>\n",
              "      <td>Muro</td>\n",
              "      <td>4</td>\n",
              "      <td>Objeto Fijo</td>\n",
              "      <td>1</td>\n",
              "      <td>Choque</td>\n",
              "      <td>3</td>\n",
              "      <td>Solo Daños</td>\n",
              "      <td>4503548</td>\n",
              "      <td>20/12/2017</td>\n",
              "      <td>23:58:00</td>\n",
              "      <td>KR 5-CL 22 2</td>\n",
              "      <td>3</td>\n",
              "      <td>1</td>\n",
              "    </tr>\n",
              "    <tr>\n",
              "      <th>2412</th>\n",
              "      <td>2</td>\n",
              "      <td>Poste</td>\n",
              "      <td>4</td>\n",
              "      <td>Objeto Fijo</td>\n",
              "      <td>1</td>\n",
              "      <td>Choque</td>\n",
              "      <td>3</td>\n",
              "      <td>Solo Daños</td>\n",
              "      <td>10473475</td>\n",
              "      <td>22/01/2019</td>\n",
              "      <td>23:59:00</td>\n",
              "      <td>AV AVENIDA BOYACA-CL 32 S 02</td>\n",
              "      <td>8</td>\n",
              "      <td>1</td>\n",
              "    </tr>\n",
              "  </tbody>\n",
              "</table>\n",
              "<p>6682 rows × 14 columns</p>\n",
              "</div>\n",
              "      <button class=\"colab-df-convert\" onclick=\"convertToInteractive('df-89c1926c-0339-4983-8ef7-4f0ed0fae631')\"\n",
              "              title=\"Convert this dataframe to an interactive table.\"\n",
              "              style=\"display:none;\">\n",
              "        \n",
              "  <svg xmlns=\"http://www.w3.org/2000/svg\" height=\"24px\"viewBox=\"0 0 24 24\"\n",
              "       width=\"24px\">\n",
              "    <path d=\"M0 0h24v24H0V0z\" fill=\"none\"/>\n",
              "    <path d=\"M18.56 5.44l.94 2.06.94-2.06 2.06-.94-2.06-.94-.94-2.06-.94 2.06-2.06.94zm-11 1L8.5 8.5l.94-2.06 2.06-.94-2.06-.94L8.5 2.5l-.94 2.06-2.06.94zm10 10l.94 2.06.94-2.06 2.06-.94-2.06-.94-.94-2.06-.94 2.06-2.06.94z\"/><path d=\"M17.41 7.96l-1.37-1.37c-.4-.4-.92-.59-1.43-.59-.52 0-1.04.2-1.43.59L10.3 9.45l-7.72 7.72c-.78.78-.78 2.05 0 2.83L4 21.41c.39.39.9.59 1.41.59.51 0 1.02-.2 1.41-.59l7.78-7.78 2.81-2.81c.8-.78.8-2.07 0-2.86zM5.41 20L4 18.59l7.72-7.72 1.47 1.35L5.41 20z\"/>\n",
              "  </svg>\n",
              "      </button>\n",
              "      \n",
              "  <style>\n",
              "    .colab-df-container {\n",
              "      display:flex;\n",
              "      flex-wrap:wrap;\n",
              "      gap: 12px;\n",
              "    }\n",
              "\n",
              "    .colab-df-convert {\n",
              "      background-color: #E8F0FE;\n",
              "      border: none;\n",
              "      border-radius: 50%;\n",
              "      cursor: pointer;\n",
              "      display: none;\n",
              "      fill: #1967D2;\n",
              "      height: 32px;\n",
              "      padding: 0 0 0 0;\n",
              "      width: 32px;\n",
              "    }\n",
              "\n",
              "    .colab-df-convert:hover {\n",
              "      background-color: #E2EBFA;\n",
              "      box-shadow: 0px 1px 2px rgba(60, 64, 67, 0.3), 0px 1px 3px 1px rgba(60, 64, 67, 0.15);\n",
              "      fill: #174EA6;\n",
              "    }\n",
              "\n",
              "    [theme=dark] .colab-df-convert {\n",
              "      background-color: #3B4455;\n",
              "      fill: #D2E3FC;\n",
              "    }\n",
              "\n",
              "    [theme=dark] .colab-df-convert:hover {\n",
              "      background-color: #434B5C;\n",
              "      box-shadow: 0px 1px 3px 1px rgba(0, 0, 0, 0.15);\n",
              "      filter: drop-shadow(0px 1px 2px rgba(0, 0, 0, 0.3));\n",
              "      fill: #FFFFFF;\n",
              "    }\n",
              "  </style>\n",
              "\n",
              "      <script>\n",
              "        const buttonEl =\n",
              "          document.querySelector('#df-89c1926c-0339-4983-8ef7-4f0ed0fae631 button.colab-df-convert');\n",
              "        buttonEl.style.display =\n",
              "          google.colab.kernel.accessAllowed ? 'block' : 'none';\n",
              "\n",
              "        async function convertToInteractive(key) {\n",
              "          const element = document.querySelector('#df-89c1926c-0339-4983-8ef7-4f0ed0fae631');\n",
              "          const dataTable =\n",
              "            await google.colab.kernel.invokeFunction('convertToInteractive',\n",
              "                                                     [key], {});\n",
              "          if (!dataTable) return;\n",
              "\n",
              "          const docLinkHtml = 'Like what you see? Visit the ' +\n",
              "            '<a target=\"_blank\" href=https://colab.research.google.com/notebooks/data_table.ipynb>data table notebook</a>'\n",
              "            + ' to learn more about interactive tables.';\n",
              "          element.innerHTML = '';\n",
              "          dataTable['output_type'] = 'display_data';\n",
              "          await google.colab.output.renderOutput(dataTable, element);\n",
              "          const docLink = document.createElement('div');\n",
              "          docLink.innerHTML = docLinkHtml;\n",
              "          element.appendChild(docLink);\n",
              "        }\n",
              "      </script>\n",
              "    </div>\n",
              "  </div>\n",
              "  "
            ]
          },
          "metadata": {},
          "execution_count": 423
        }
      ]
    },
    {
      "cell_type": "markdown",
      "source": [
        "#**ACTOR VIAL**\n",
        "\n",
        "Dentro del dataset de tipo xlxs ,objeto del presente trabajo se encuentra la hoja Actor vial , la cual contine informacion respecto a la persona involucrada en el accidente de transito como Conductor,Peaton,Moticilista entre otros,Igulmente cuenta con información valiosa como Estado donde se clasifica  si la persona resultó ilesa,Herida o Muerta asi como el Genero y la Edad de la misma."
      ],
      "metadata": {
        "id": "DRaCNyQO5jNf"
      }
    },
    {
      "cell_type": "code",
      "source": [
        "# Para iniciar trabajar se carga el Dataset respectivo\n",
        "Actor_vial=pd.read_excel('siniestros_viales.xlsx',sheet_name='ACTOR_VIAL')\n"
      ],
      "metadata": {
        "id": "d7VS3yJJ8K0X"
      },
      "execution_count": null,
      "outputs": []
    },
    {
      "cell_type": "code",
      "source": [
        "# Se evidencia que al visualizar el Dataframe en la columna EDAD hay valores numericos pero tambien una cadena de texto \"SIN INFORMACION\" la cual se analizara más adelante\n",
        "Actor_vial.head(6)"
      ],
      "metadata": {
        "colab": {
          "base_uri": "https://localhost:8080/",
          "height": 237
        },
        "id": "j7RsYNpu-uP8",
        "outputId": "b384cd3b-0bbd-4a65-da6e-b446064f204b"
      },
      "execution_count": null,
      "outputs": [
        {
          "output_type": "execute_result",
          "data": {
            "text/plain": [
              "   CODIGO_ACCIDENTE  CODIGO_ACCIDENTADO       FECHA  CONDICION  ESTADO  \\\n",
              "0           4401447             2452576  01/01/2015  CONDUCTOR   ILESO   \n",
              "1           4401447             2452577  01/01/2015  CONDUCTOR   ILESO   \n",
              "2           4401453             2452586  01/01/2015  CONDUCTOR   ILESO   \n",
              "3           4401453             2452587  01/01/2015  CONDUCTOR   ILESO   \n",
              "4           4401423             2452500  01/01/2015  CONDUCTOR  HERIDO   \n",
              "5           4401423             2452501  01/01/2015  CONDUCTOR   ILESO   \n",
              "\n",
              "              EDAD             SEXO   VEHICULO  \n",
              "0               44         FEMENINO  4401447-1  \n",
              "1               31        MASCULINO  4401447-2  \n",
              "2               47        MASCULINO  4401453-1  \n",
              "3               29        MASCULINO  4401453-2  \n",
              "4               44        MASCULINO  4401423-1  \n",
              "5  SIN INFORMACION  SIN INFORMACION  4401423-2  "
            ],
            "text/html": [
              "\n",
              "  <div id=\"df-38863ba9-86e4-41f4-86fe-7fb5f46d7018\">\n",
              "    <div class=\"colab-df-container\">\n",
              "      <div>\n",
              "<style scoped>\n",
              "    .dataframe tbody tr th:only-of-type {\n",
              "        vertical-align: middle;\n",
              "    }\n",
              "\n",
              "    .dataframe tbody tr th {\n",
              "        vertical-align: top;\n",
              "    }\n",
              "\n",
              "    .dataframe thead th {\n",
              "        text-align: right;\n",
              "    }\n",
              "</style>\n",
              "<table border=\"1\" class=\"dataframe\">\n",
              "  <thead>\n",
              "    <tr style=\"text-align: right;\">\n",
              "      <th></th>\n",
              "      <th>CODIGO_ACCIDENTE</th>\n",
              "      <th>CODIGO_ACCIDENTADO</th>\n",
              "      <th>FECHA</th>\n",
              "      <th>CONDICION</th>\n",
              "      <th>ESTADO</th>\n",
              "      <th>EDAD</th>\n",
              "      <th>SEXO</th>\n",
              "      <th>VEHICULO</th>\n",
              "    </tr>\n",
              "  </thead>\n",
              "  <tbody>\n",
              "    <tr>\n",
              "      <th>0</th>\n",
              "      <td>4401447</td>\n",
              "      <td>2452576</td>\n",
              "      <td>01/01/2015</td>\n",
              "      <td>CONDUCTOR</td>\n",
              "      <td>ILESO</td>\n",
              "      <td>44</td>\n",
              "      <td>FEMENINO</td>\n",
              "      <td>4401447-1</td>\n",
              "    </tr>\n",
              "    <tr>\n",
              "      <th>1</th>\n",
              "      <td>4401447</td>\n",
              "      <td>2452577</td>\n",
              "      <td>01/01/2015</td>\n",
              "      <td>CONDUCTOR</td>\n",
              "      <td>ILESO</td>\n",
              "      <td>31</td>\n",
              "      <td>MASCULINO</td>\n",
              "      <td>4401447-2</td>\n",
              "    </tr>\n",
              "    <tr>\n",
              "      <th>2</th>\n",
              "      <td>4401453</td>\n",
              "      <td>2452586</td>\n",
              "      <td>01/01/2015</td>\n",
              "      <td>CONDUCTOR</td>\n",
              "      <td>ILESO</td>\n",
              "      <td>47</td>\n",
              "      <td>MASCULINO</td>\n",
              "      <td>4401453-1</td>\n",
              "    </tr>\n",
              "    <tr>\n",
              "      <th>3</th>\n",
              "      <td>4401453</td>\n",
              "      <td>2452587</td>\n",
              "      <td>01/01/2015</td>\n",
              "      <td>CONDUCTOR</td>\n",
              "      <td>ILESO</td>\n",
              "      <td>29</td>\n",
              "      <td>MASCULINO</td>\n",
              "      <td>4401453-2</td>\n",
              "    </tr>\n",
              "    <tr>\n",
              "      <th>4</th>\n",
              "      <td>4401423</td>\n",
              "      <td>2452500</td>\n",
              "      <td>01/01/2015</td>\n",
              "      <td>CONDUCTOR</td>\n",
              "      <td>HERIDO</td>\n",
              "      <td>44</td>\n",
              "      <td>MASCULINO</td>\n",
              "      <td>4401423-1</td>\n",
              "    </tr>\n",
              "    <tr>\n",
              "      <th>5</th>\n",
              "      <td>4401423</td>\n",
              "      <td>2452501</td>\n",
              "      <td>01/01/2015</td>\n",
              "      <td>CONDUCTOR</td>\n",
              "      <td>ILESO</td>\n",
              "      <td>SIN INFORMACION</td>\n",
              "      <td>SIN INFORMACION</td>\n",
              "      <td>4401423-2</td>\n",
              "    </tr>\n",
              "  </tbody>\n",
              "</table>\n",
              "</div>\n",
              "      <button class=\"colab-df-convert\" onclick=\"convertToInteractive('df-38863ba9-86e4-41f4-86fe-7fb5f46d7018')\"\n",
              "              title=\"Convert this dataframe to an interactive table.\"\n",
              "              style=\"display:none;\">\n",
              "        \n",
              "  <svg xmlns=\"http://www.w3.org/2000/svg\" height=\"24px\"viewBox=\"0 0 24 24\"\n",
              "       width=\"24px\">\n",
              "    <path d=\"M0 0h24v24H0V0z\" fill=\"none\"/>\n",
              "    <path d=\"M18.56 5.44l.94 2.06.94-2.06 2.06-.94-2.06-.94-.94-2.06-.94 2.06-2.06.94zm-11 1L8.5 8.5l.94-2.06 2.06-.94-2.06-.94L8.5 2.5l-.94 2.06-2.06.94zm10 10l.94 2.06.94-2.06 2.06-.94-2.06-.94-.94-2.06-.94 2.06-2.06.94z\"/><path d=\"M17.41 7.96l-1.37-1.37c-.4-.4-.92-.59-1.43-.59-.52 0-1.04.2-1.43.59L10.3 9.45l-7.72 7.72c-.78.78-.78 2.05 0 2.83L4 21.41c.39.39.9.59 1.41.59.51 0 1.02-.2 1.41-.59l7.78-7.78 2.81-2.81c.8-.78.8-2.07 0-2.86zM5.41 20L4 18.59l7.72-7.72 1.47 1.35L5.41 20z\"/>\n",
              "  </svg>\n",
              "      </button>\n",
              "      \n",
              "  <style>\n",
              "    .colab-df-container {\n",
              "      display:flex;\n",
              "      flex-wrap:wrap;\n",
              "      gap: 12px;\n",
              "    }\n",
              "\n",
              "    .colab-df-convert {\n",
              "      background-color: #E8F0FE;\n",
              "      border: none;\n",
              "      border-radius: 50%;\n",
              "      cursor: pointer;\n",
              "      display: none;\n",
              "      fill: #1967D2;\n",
              "      height: 32px;\n",
              "      padding: 0 0 0 0;\n",
              "      width: 32px;\n",
              "    }\n",
              "\n",
              "    .colab-df-convert:hover {\n",
              "      background-color: #E2EBFA;\n",
              "      box-shadow: 0px 1px 2px rgba(60, 64, 67, 0.3), 0px 1px 3px 1px rgba(60, 64, 67, 0.15);\n",
              "      fill: #174EA6;\n",
              "    }\n",
              "\n",
              "    [theme=dark] .colab-df-convert {\n",
              "      background-color: #3B4455;\n",
              "      fill: #D2E3FC;\n",
              "    }\n",
              "\n",
              "    [theme=dark] .colab-df-convert:hover {\n",
              "      background-color: #434B5C;\n",
              "      box-shadow: 0px 1px 3px 1px rgba(0, 0, 0, 0.15);\n",
              "      filter: drop-shadow(0px 1px 2px rgba(0, 0, 0, 0.3));\n",
              "      fill: #FFFFFF;\n",
              "    }\n",
              "  </style>\n",
              "\n",
              "      <script>\n",
              "        const buttonEl =\n",
              "          document.querySelector('#df-38863ba9-86e4-41f4-86fe-7fb5f46d7018 button.colab-df-convert');\n",
              "        buttonEl.style.display =\n",
              "          google.colab.kernel.accessAllowed ? 'block' : 'none';\n",
              "\n",
              "        async function convertToInteractive(key) {\n",
              "          const element = document.querySelector('#df-38863ba9-86e4-41f4-86fe-7fb5f46d7018');\n",
              "          const dataTable =\n",
              "            await google.colab.kernel.invokeFunction('convertToInteractive',\n",
              "                                                     [key], {});\n",
              "          if (!dataTable) return;\n",
              "\n",
              "          const docLinkHtml = 'Like what you see? Visit the ' +\n",
              "            '<a target=\"_blank\" href=https://colab.research.google.com/notebooks/data_table.ipynb>data table notebook</a>'\n",
              "            + ' to learn more about interactive tables.';\n",
              "          element.innerHTML = '';\n",
              "          dataTable['output_type'] = 'display_data';\n",
              "          await google.colab.output.renderOutput(dataTable, element);\n",
              "          const docLink = document.createElement('div');\n",
              "          docLink.innerHTML = docLinkHtml;\n",
              "          element.appendChild(docLink);\n",
              "        }\n",
              "      </script>\n",
              "    </div>\n",
              "  </div>\n",
              "  "
            ]
          },
          "metadata": {},
          "execution_count": 196
        }
      ]
    },
    {
      "cell_type": "code",
      "source": [
        "# tenemos un Dataframe com 414505 filas y 8 columnas\n",
        "print(Actor_vial.shape)\n",
        "print(Actor_vial.size)"
      ],
      "metadata": {
        "colab": {
          "base_uri": "https://localhost:8080/"
        },
        "id": "Pchbe4HRDrG2",
        "outputId": "080b406f-fafd-4edf-ef1e-c58bcbdc7ca5"
      },
      "execution_count": null,
      "outputs": [
        {
          "output_type": "stream",
          "name": "stdout",
          "text": [
            "(422416, 8)\n",
            "3379328\n"
          ]
        }
      ]
    },
    {
      "cell_type": "code",
      "source": [
        "# los codigos de accidente son int64 pero interesaria que datos como la edad tambien lo fuesen\n",
        "Actor_vial.dtypes"
      ],
      "metadata": {
        "colab": {
          "base_uri": "https://localhost:8080/"
        },
        "id": "Xq3OyiKn_QqF",
        "outputId": "3776488e-a0d7-4644-d2b4-74f152008621"
      },
      "execution_count": null,
      "outputs": [
        {
          "output_type": "execute_result",
          "data": {
            "text/plain": [
              "CODIGO_ACCIDENTE       int64\n",
              "CODIGO_ACCIDENTADO     int64\n",
              "FECHA                 object\n",
              "CONDICION             object\n",
              "ESTADO                object\n",
              "EDAD                  object\n",
              "SEXO                  object\n",
              "VEHICULO              object\n",
              "dtype: object"
            ]
          },
          "metadata": {},
          "execution_count": 198
        }
      ]
    },
    {
      "cell_type": "code",
      "source": [
        "porcentaje=(Actor_vial['ESTADO'].value_counts())"
      ],
      "metadata": {
        "id": "zZ4EC2rs8g4d"
      },
      "execution_count": null,
      "outputs": []
    },
    {
      "cell_type": "code",
      "source": [
        "# Mediante un grafico pie observamos la distribucion de Estado de las personas se observa que la mayoria resultan ilesas pero buena parte resultan Heridas y en ua menor prporcion muertas\n",
        "Actor_vial['ESTADO'].value_counts().plot.pie(title='ESTADO',fontsize=15,figsize=(7,10));"
      ],
      "metadata": {
        "colab": {
          "base_uri": "https://localhost:8080/",
          "height": 436
        },
        "id": "--A5LAkVb9uq",
        "outputId": "84f1a80d-9892-436a-9917-312fa5bdd18f"
      },
      "execution_count": null,
      "outputs": [
        {
          "output_type": "display_data",
          "data": {
            "text/plain": [
              "<Figure size 504x720 with 1 Axes>"
            ],
            "image/png": "[encoded data removed]"
          },
          "metadata": {}
        }
      ]
    },
    {
      "cell_type": "code",
      "source": [
        "# En cuanto a genrero se refiere mayormento son hombre los involucrados en los accidente una proporcion mucho menor  la tienen las mujeres\n",
        "Actor_vial['SEXO'].value_counts().plot.pie(title='SEXO',fontsize=15,figsize=(7,10));"
      ],
      "metadata": {
        "colab": {
          "base_uri": "https://localhost:8080/",
          "height": 436
        },
        "id": "hfT64Cr_cZ6M",
        "outputId": "c24d763e-7af3-4dcc-afc8-b24d28bac0c9"
      },
      "execution_count": null,
      "outputs": [
        {
          "output_type": "display_data",
          "data": {
            "text/plain": [
              "<Figure size 504x720 with 1 Axes>"
            ],
            "image/png": "[encoded data removed]"
          },
          "metadata": {}
        }
      ]
    },
    {
      "cell_type": "code",
      "source": [
        "# con esta linea de codigo Elimino las fila que estaban como cadena de caracteres \"SIN INFORMACION\"\n",
        "Actor_vial.drop(Actor_vial.loc[Actor_vial['EDAD']=='SIN INFORMACION'].index, inplace=True)"
      ],
      "metadata": {
        "id": "Ppgw1vKgCsXi"
      },
      "execution_count": null,
      "outputs": []
    },
    {
      "cell_type": "code",
      "source": [
        "Actor_vial.EDAD=Actor_vial.EDAD.astype(int)"
      ],
      "metadata": {
        "id": "fpD0W3Kzs1Ya",
        "outputId": "eecd6598-09d3-4694-acf1-71a63bc55f67",
        "colab": {
          "base_uri": "https://localhost:8080/",
          "height": 287
        }
      },
      "execution_count": null,
      "outputs": [
        {
          "output_type": "error",
          "ename": "NameError",
          "evalue": "ignored",
          "traceback": [
            "\u001b[0;31m---------------------------------------------------------------------------\u001b[0m",
            "\u001b[0;31mNameError\u001b[0m                                 Traceback (most recent call last)",
            "\u001b[0;32m<ipython-input-1-a5cf205ddca0>\u001b[0m in \u001b[0;36m<module>\u001b[0;34m()\u001b[0m\n\u001b[0;32m----> 1\u001b[0;31m \u001b[0mActor_vial\u001b[0m\u001b[0;34m.\u001b[0m\u001b[0mEDAD\u001b[0m\u001b[0;34m=\u001b[0m\u001b[0mActor_vial\u001b[0m\u001b[0;34m.\u001b[0m\u001b[0mEDAD\u001b[0m\u001b[0;34m.\u001b[0m\u001b[0mastype\u001b[0m\u001b[0;34m(\u001b[0m\u001b[0mint\u001b[0m\u001b[0;34m)\u001b[0m\u001b[0;34m\u001b[0m\u001b[0;34m\u001b[0m\u001b[0m\n\u001b[0m",
            "\u001b[0;31mNameError\u001b[0m: name 'Actor_vial' is not defined"
          ]
        }
      ]
    },
    {
      "cell_type": "code",
      "source": [
        "Actor_vial.tail(10)"
      ],
      "metadata": {
        "colab": {
          "base_uri": "https://localhost:8080/",
          "height": 363
        },
        "id": "vbU5UYyiFasM",
        "outputId": "0ca95f8a-8757-4acd-ccea-9a62e8180dd0"
      },
      "execution_count": null,
      "outputs": [
        {
          "output_type": "execute_result",
          "data": {
            "text/plain": [
              "        CODIGO_ACCIDENTE  CODIGO_ACCIDENTADO       FECHA  CONDICION ESTADO  \\\n",
              "422405          10530489            12728791  31/12/2020  CONDUCTOR  ILESO   \n",
              "422406          10530490            12728792  31/12/2020  CONDUCTOR  ILESO   \n",
              "422407          10530490            12728793  31/12/2020  CONDUCTOR  ILESO   \n",
              "422408          10530491            12728796  31/12/2020  CONDUCTOR  ILESO   \n",
              "422410          10530492            12728798  31/12/2020  CONDUCTOR  ILESO   \n",
              "422411          10530492            12728799  31/12/2020  CONDUCTOR  ILESO   \n",
              "422412          10530494            12728800  31/12/2020  CONDUCTOR  ILESO   \n",
              "422413          10530494            12728801  31/12/2020  CONDUCTOR  ILESO   \n",
              "422414          10530493            12728802  31/12/2020  CONDUCTOR  ILESO   \n",
              "422415          10530493            12728803  31/12/2020  CONDUCTOR  ILESO   \n",
              "\n",
              "        EDAD       SEXO    VEHICULO  \n",
              "422405    39  MASCULINO  10530489-2  \n",
              "422406    62  MASCULINO  10530490-1  \n",
              "422407    37  MASCULINO  10530490-2  \n",
              "422408    65  MASCULINO  10530491-1  \n",
              "422410    55  MASCULINO  10530492-1  \n",
              "422411    27  MASCULINO  10530492-2  \n",
              "422412    39  MASCULINO  10530494-1  \n",
              "422413    55  MASCULINO  10530494-2  \n",
              "422414    55  MASCULINO  10530493-1  \n",
              "422415    25  MASCULINO  10530493-2  "
            ],
            "text/html": [
              "\n",
              "  <div id=\"df-3322fcb9-be55-4169-835d-e6afe76fb3d7\">\n",
              "    <div class=\"colab-df-container\">\n",
              "      <div>\n",
              "<style scoped>\n",
              "    .dataframe tbody tr th:only-of-type {\n",
              "        vertical-align: middle;\n",
              "    }\n",
              "\n",
              "    .dataframe tbody tr th {\n",
              "        vertical-align: top;\n",
              "    }\n",
              "\n",
              "    .dataframe thead th {\n",
              "        text-align: right;\n",
              "    }\n",
              "</style>\n",
              "<table border=\"1\" class=\"dataframe\">\n",
              "  <thead>\n",
              "    <tr style=\"text-align: right;\">\n",
              "      <th></th>\n",
              "      <th>CODIGO_ACCIDENTE</th>\n",
              "      <th>CODIGO_ACCIDENTADO</th>\n",
              "      <th>FECHA</th>\n",
              "      <th>CONDICION</th>\n",
              "      <th>ESTADO</th>\n",
              "      <th>EDAD</th>\n",
              "      <th>SEXO</th>\n",
              "      <th>VEHICULO</th>\n",
              "    </tr>\n",
              "  </thead>\n",
              "  <tbody>\n",
              "    <tr>\n",
              "      <th>422405</th>\n",
              "      <td>10530489</td>\n",
              "      <td>12728791</td>\n",
              "      <td>31/12/2020</td>\n",
              "      <td>CONDUCTOR</td>\n",
              "      <td>ILESO</td>\n",
              "      <td>39</td>\n",
              "      <td>MASCULINO</td>\n",
              "      <td>10530489-2</td>\n",
              "    </tr>\n",
              "    <tr>\n",
              "      <th>422406</th>\n",
              "      <td>10530490</td>\n",
              "      <td>12728792</td>\n",
              "      <td>31/12/2020</td>\n",
              "      <td>CONDUCTOR</td>\n",
              "      <td>ILESO</td>\n",
              "      <td>62</td>\n",
              "      <td>MASCULINO</td>\n",
              "      <td>10530490-1</td>\n",
              "    </tr>\n",
              "    <tr>\n",
              "      <th>422407</th>\n",
              "      <td>10530490</td>\n",
              "      <td>12728793</td>\n",
              "      <td>31/12/2020</td>\n",
              "      <td>CONDUCTOR</td>\n",
              "      <td>ILESO</td>\n",
              "      <td>37</td>\n",
              "      <td>MASCULINO</td>\n",
              "      <td>10530490-2</td>\n",
              "    </tr>\n",
              "    <tr>\n",
              "      <th>422408</th>\n",
              "      <td>10530491</td>\n",
              "      <td>12728796</td>\n",
              "      <td>31/12/2020</td>\n",
              "      <td>CONDUCTOR</td>\n",
              "      <td>ILESO</td>\n",
              "      <td>65</td>\n",
              "      <td>MASCULINO</td>\n",
              "      <td>10530491-1</td>\n",
              "    </tr>\n",
              "    <tr>\n",
              "      <th>422410</th>\n",
              "      <td>10530492</td>\n",
              "      <td>12728798</td>\n",
              "      <td>31/12/2020</td>\n",
              "      <td>CONDUCTOR</td>\n",
              "      <td>ILESO</td>\n",
              "      <td>55</td>\n",
              "      <td>MASCULINO</td>\n",
              "      <td>10530492-1</td>\n",
              "    </tr>\n",
              "    <tr>\n",
              "      <th>422411</th>\n",
              "      <td>10530492</td>\n",
              "      <td>12728799</td>\n",
              "      <td>31/12/2020</td>\n",
              "      <td>CONDUCTOR</td>\n",
              "      <td>ILESO</td>\n",
              "      <td>27</td>\n",
              "      <td>MASCULINO</td>\n",
              "      <td>10530492-2</td>\n",
              "    </tr>\n",
              "    <tr>\n",
              "      <th>422412</th>\n",
              "      <td>10530494</td>\n",
              "      <td>12728800</td>\n",
              "      <td>31/12/2020</td>\n",
              "      <td>CONDUCTOR</td>\n",
              "      <td>ILESO</td>\n",
              "      <td>39</td>\n",
              "      <td>MASCULINO</td>\n",
              "      <td>10530494-1</td>\n",
              "    </tr>\n",
              "    <tr>\n",
              "      <th>422413</th>\n",
              "      <td>10530494</td>\n",
              "      <td>12728801</td>\n",
              "      <td>31/12/2020</td>\n",
              "      <td>CONDUCTOR</td>\n",
              "      <td>ILESO</td>\n",
              "      <td>55</td>\n",
              "      <td>MASCULINO</td>\n",
              "      <td>10530494-2</td>\n",
              "    </tr>\n",
              "    <tr>\n",
              "      <th>422414</th>\n",
              "      <td>10530493</td>\n",
              "      <td>12728802</td>\n",
              "      <td>31/12/2020</td>\n",
              "      <td>CONDUCTOR</td>\n",
              "      <td>ILESO</td>\n",
              "      <td>55</td>\n",
              "      <td>MASCULINO</td>\n",
              "      <td>10530493-1</td>\n",
              "    </tr>\n",
              "    <tr>\n",
              "      <th>422415</th>\n",
              "      <td>10530493</td>\n",
              "      <td>12728803</td>\n",
              "      <td>31/12/2020</td>\n",
              "      <td>CONDUCTOR</td>\n",
              "      <td>ILESO</td>\n",
              "      <td>25</td>\n",
              "      <td>MASCULINO</td>\n",
              "      <td>10530493-2</td>\n",
              "    </tr>\n",
              "  </tbody>\n",
              "</table>\n",
              "</div>\n",
              "      <button class=\"colab-df-convert\" onclick=\"convertToInteractive('df-3322fcb9-be55-4169-835d-e6afe76fb3d7')\"\n",
              "              title=\"Convert this dataframe to an interactive table.\"\n",
              "              style=\"display:none;\">\n",
              "        \n",
              "  <svg xmlns=\"http://www.w3.org/2000/svg\" height=\"24px\"viewBox=\"0 0 24 24\"\n",
              "       width=\"24px\">\n",
              "    <path d=\"M0 0h24v24H0V0z\" fill=\"none\"/>\n",
              "    <path d=\"M18.56 5.44l.94 2.06.94-2.06 2.06-.94-2.06-.94-.94-2.06-.94 2.06-2.06.94zm-11 1L8.5 8.5l.94-2.06 2.06-.94-2.06-.94L8.5 2.5l-.94 2.06-2.06.94zm10 10l.94 2.06.94-2.06 2.06-.94-2.06-.94-.94-2.06-.94 2.06-2.06.94z\"/><path d=\"M17.41 7.96l-1.37-1.37c-.4-.4-.92-.59-1.43-.59-.52 0-1.04.2-1.43.59L10.3 9.45l-7.72 7.72c-.78.78-.78 2.05 0 2.83L4 21.41c.39.39.9.59 1.41.59.51 0 1.02-.2 1.41-.59l7.78-7.78 2.81-2.81c.8-.78.8-2.07 0-2.86zM5.41 20L4 18.59l7.72-7.72 1.47 1.35L5.41 20z\"/>\n",
              "  </svg>\n",
              "      </button>\n",
              "      \n",
              "  <style>\n",
              "    .colab-df-container {\n",
              "      display:flex;\n",
              "      flex-wrap:wrap;\n",
              "      gap: 12px;\n",
              "    }\n",
              "\n",
              "    .colab-df-convert {\n",
              "      background-color: #E8F0FE;\n",
              "      border: none;\n",
              "      border-radius: 50%;\n",
              "      cursor: pointer;\n",
              "      display: none;\n",
              "      fill: #1967D2;\n",
              "      height: 32px;\n",
              "      padding: 0 0 0 0;\n",
              "      width: 32px;\n",
              "    }\n",
              "\n",
              "    .colab-df-convert:hover {\n",
              "      background-color: #E2EBFA;\n",
              "      box-shadow: 0px 1px 2px rgba(60, 64, 67, 0.3), 0px 1px 3px 1px rgba(60, 64, 67, 0.15);\n",
              "      fill: #174EA6;\n",
              "    }\n",
              "\n",
              "    [theme=dark] .colab-df-convert {\n",
              "      background-color: #3B4455;\n",
              "      fill: #D2E3FC;\n",
              "    }\n",
              "\n",
              "    [theme=dark] .colab-df-convert:hover {\n",
              "      background-color: #434B5C;\n",
              "      box-shadow: 0px 1px 3px 1px rgba(0, 0, 0, 0.15);\n",
              "      filter: drop-shadow(0px 1px 2px rgba(0, 0, 0, 0.3));\n",
              "      fill: #FFFFFF;\n",
              "    }\n",
              "  </style>\n",
              "\n",
              "      <script>\n",
              "        const buttonEl =\n",
              "          document.querySelector('#df-3322fcb9-be55-4169-835d-e6afe76fb3d7 button.colab-df-convert');\n",
              "        buttonEl.style.display =\n",
              "          google.colab.kernel.accessAllowed ? 'block' : 'none';\n",
              "\n",
              "        async function convertToInteractive(key) {\n",
              "          const element = document.querySelector('#df-3322fcb9-be55-4169-835d-e6afe76fb3d7');\n",
              "          const dataTable =\n",
              "            await google.colab.kernel.invokeFunction('convertToInteractive',\n",
              "                                                     [key], {});\n",
              "          if (!dataTable) return;\n",
              "\n",
              "          const docLinkHtml = 'Like what you see? Visit the ' +\n",
              "            '<a target=\"_blank\" href=https://colab.research.google.com/notebooks/data_table.ipynb>data table notebook</a>'\n",
              "            + ' to learn more about interactive tables.';\n",
              "          element.innerHTML = '';\n",
              "          dataTable['output_type'] = 'display_data';\n",
              "          await google.colab.output.renderOutput(dataTable, element);\n",
              "          const docLink = document.createElement('div');\n",
              "          docLink.innerHTML = docLinkHtml;\n",
              "          element.appendChild(docLink);\n",
              "        }\n",
              "      </script>\n",
              "    </div>\n",
              "  </div>\n",
              "  "
            ]
          },
          "metadata": {},
          "execution_count": 222
        }
      ]
    },
    {
      "cell_type": "code",
      "source": [
        "#aca ya puedo evidencia que la calumna Edad es de tipo int al elimnar las que contenian la cadena de caracteres\"SIN INFORMACION\"\n",
        "Actor_vial.dtypes"
      ],
      "metadata": {
        "colab": {
          "base_uri": "https://localhost:8080/"
        },
        "id": "_E5aw5II_7vU",
        "outputId": "48b8b2ed-7b36-4d0c-d821-b519c0e87e37"
      },
      "execution_count": null,
      "outputs": [
        {
          "output_type": "execute_result",
          "data": {
            "text/plain": [
              "CODIGO_ACCIDENTE       int64\n",
              "CODIGO_ACCIDENTADO     int64\n",
              "FECHA                 object\n",
              "CONDICION             object\n",
              "ESTADO                object\n",
              "EDAD                   int64\n",
              "SEXO                  object\n",
              "VEHICULO              object\n",
              "dtype: object"
            ]
          },
          "metadata": {},
          "execution_count": 223
        }
      ]
    },
    {
      "cell_type": "markdown",
      "source": [
        "### **CONDICION**\n",
        "### En la siguiente salida que nos da aplicar value_counts() a la columna condicion nos arroja queuno de los mayores actores viales involucrados en accidentes viales son los conductores de automoviles seguidos por los Motoclista y luego los pasajeros y/o acompañantes"
      ],
      "metadata": {
        "id": "BXyVpvffhxbw"
      }
    },
    {
      "cell_type": "code",
      "source": [
        "Actor_vial['CONDICION'].value_counts()"
      ],
      "metadata": {
        "colab": {
          "base_uri": "https://localhost:8080/"
        },
        "id": "FrpsRB-Mf7wf",
        "outputId": "e92ca860-21c7-4acf-bf8b-926b258c64d3"
      },
      "execution_count": null,
      "outputs": [
        {
          "output_type": "execute_result",
          "data": {
            "text/plain": [
              "CONDUCTOR               298356\n",
              "MOTOCICLISTA             51735\n",
              "PASAJERO/ACOMPAÑANTE     27145\n",
              "PEATON                   22789\n",
              "CICLISTA                 12628\n",
              "Name: CONDICION, dtype: int64"
            ]
          },
          "metadata": {},
          "execution_count": 224
        }
      ]
    },
    {
      "cell_type": "markdown",
      "source": [
        "###**PROMEDIO EDAD**\n",
        "###Resulta interesnte ver que el promedio de edad esta en los 37,7 años \n",
        "### vemos que el máximo esta en 120 alco poco probable , podria deberse a un error de tipeo y validar cuando datos pueden estar en rangos por ejemplo mayores a 100 años\n",
        "###con la edad minima podria tratarse de niños recien nacidos involucrados en un accidente algo seria posible, para esto deberian estar por obvias razones en el la *condicion* como *pasajero/acompañante*"
      ],
      "metadata": {
        "id": "aWuRvQ4lidAp"
      }
    },
    {
      "cell_type": "code",
      "source": [
        "# aca podemos ver que la edad promedio es 37,7 años\n",
        "Actor_vial['EDAD'].mean()"
      ],
      "metadata": {
        "colab": {
          "base_uri": "https://localhost:8080/"
        },
        "id": "HKBB3rLED7RF",
        "outputId": "26cdbbfc-d3e1-431f-b304-e1ada969ff64"
      },
      "execution_count": null,
      "outputs": [
        {
          "output_type": "execute_result",
          "data": {
            "text/plain": [
              "37.788597199099485"
            ]
          },
          "metadata": {},
          "execution_count": 225
        }
      ]
    },
    {
      "cell_type": "markdown",
      "source": [
        "##**FRECUENCIA**\n",
        "###Observamos que la edad que mas ser repite es 27 segun los que nos arroja la funcion Describe() aplicada a la columna edad es que 12725 personas tenian esa edad cuando se presento el siniestro.\n"
      ],
      "metadata": {
        "id": "y0HH9o0mrbH7"
      }
    },
    {
      "cell_type": "code",
      "source": [
        "Actor_vial['EDAD'].describe()"
      ],
      "metadata": {
        "colab": {
          "base_uri": "https://localhost:8080/"
        },
        "id": "iMl3aqg6EnKB",
        "outputId": "203c1f10-fa1d-4a5d-dcdf-4e8ff43c660b"
      },
      "execution_count": null,
      "outputs": [
        {
          "output_type": "execute_result",
          "data": {
            "text/plain": [
              "count    412653.000000\n",
              "mean         37.788597\n",
              "std          14.188200\n",
              "min           0.000000\n",
              "25%          27.000000\n",
              "50%          36.000000\n",
              "75%          47.000000\n",
              "max         120.000000\n",
              "Name: EDAD, dtype: float64"
            ]
          },
          "metadata": {},
          "execution_count": 226
        }
      ]
    },
    {
      "cell_type": "markdown",
      "source": [
        "###**VALORES ATIPICOS-OULIERS**\n",
        "### A continuanción se evalúa si pudieran  existir valores atípicos de la Edades de las personas involucradas en accidente, dado que no arrojo que la edad maxima que figura en el dataset es 120 años"
      ],
      "metadata": {
        "id": "R9NBEIWXkIXl"
      }
    },
    {
      "cell_type": "code",
      "source": [
        "# Aplicamos medienta la funcion apply cuantas personas personas serian mayores a 100 (Esto de manera subjetiva dado que po intuicion son pocas la personas que cruzan este umbral de edad), con un resultado de 319\n",
        "Actor_vial.apply(lambda x: x['EDAD'] >100, axis=1).sum()"
      ],
      "metadata": {
        "colab": {
          "base_uri": "https://localhost:8080/"
        },
        "id": "Yo3vEtK7jv03",
        "outputId": "2c394d9c-84a6-4292-ae88-4df39a6b148b"
      },
      "execution_count": null,
      "outputs": [
        {
          "output_type": "execute_result",
          "data": {
            "text/plain": [
              "310"
            ]
          },
          "metadata": {},
          "execution_count": 227
        }
      ]
    },
    {
      "cell_type": "code",
      "source": [
        "# También se evalúa cuantas persona menor a un año estuvieron invlucradas en el accidente \n",
        "Actor_vial.apply(lambda x: x['EDAD'] <1, axis=1).sum()"
      ],
      "metadata": {
        "colab": {
          "base_uri": "https://localhost:8080/"
        },
        "id": "9y0jSnkMmZYN",
        "outputId": "268b75ad-6012-421f-a3b6-5c3ab15f3fb3"
      },
      "execution_count": null,
      "outputs": [
        {
          "output_type": "execute_result",
          "data": {
            "text/plain": [
              "281"
            ]
          },
          "metadata": {},
          "execution_count": 228
        }
      ]
    },
    {
      "cell_type": "markdown",
      "source": [
        "###Observamos que son poco los datos que podrian considerarse atípicos respecto al total y es poca la influencia que podria tener sobre los promedios y las desviaciones dato que el total registros es de 422416\n",
        "\n"
      ],
      "metadata": {
        "id": "yuWHuXR5oDvJ"
      }
    },
    {
      "cell_type": "code",
      "source": [
        "plt.figure(figsize = ( 8 , 10 )) \n",
        "ax=sns.boxplot(data=Actor_vial['EDAD'])\n",
        "ax.set_title(\"DISTRIBUCION EDAD PERSONAS INVOLUCRADAS ACCIDENTE\");\n"
      ],
      "metadata": {
        "colab": {
          "base_uri": "https://localhost:8080/",
          "height": 606
        },
        "id": "vQPbXgTZGTAU",
        "outputId": "1f40d6d2-143f-412b-b3d0-d9c5777495a2"
      },
      "execution_count": null,
      "outputs": [
        {
          "output_type": "display_data",
          "data": {
            "text/plain": [
              "<Figure size 576x720 with 1 Axes>"
            ],
            "image/png": "[encoded data removed]"
          },
          "metadata": {
            "needs_background": "light"
          }
        }
      ]
    },
    {
      "cell_type": "markdown",
      "source": [
        "##**kurtosis y Asimetria**\n",
        "###Como obeservamos en el anterior diagrama de caja y bigotes o Boxplot que los datos esta bastaste concentrados entre los 27 y los 47 años segun los que nos arroja el percentit 25 y 75 respectivamente, de acuerdo a eso a continuacion se analisa cual es la Kurtosis y asimetria para la columna EDAD de nuestro DataFrame"
      ],
      "metadata": {
        "id": "ZsuPpq0q_LK3"
      }
    },
    {
      "cell_type": "code",
      "source": [
        "Actor_vial['EDAD'].quantile([0.25, 0.5, 0.75])"
      ],
      "metadata": {
        "colab": {
          "base_uri": "https://localhost:8080/"
        },
        "id": "HgudH0L__zIn",
        "outputId": "927fac27-119d-47b6-82ee-40141d707a56"
      },
      "execution_count": null,
      "outputs": [
        {
          "output_type": "execute_result",
          "data": {
            "text/plain": [
              "0.25    27.0\n",
              "0.50    36.0\n",
              "0.75    47.0\n",
              "Name: EDAD, dtype: float64"
            ]
          },
          "metadata": {},
          "execution_count": 259
        }
      ]
    },
    {
      "cell_type": "code",
      "source": [
        "Actor_vial['EDAD'].skew()"
      ],
      "metadata": {
        "colab": {
          "base_uri": "https://localhost:8080/"
        },
        "id": "awyp9BiN9iGf",
        "outputId": "106eef79-5fef-43e0-f985-6494644a3838"
      },
      "execution_count": null,
      "outputs": [
        {
          "output_type": "execute_result",
          "data": {
            "text/plain": [
              "0.6508547866581451"
            ]
          },
          "metadata": {},
          "execution_count": 258
        }
      ]
    },
    {
      "cell_type": "code",
      "source": [
        "Actor_vial['EDAD'].kurtosis()"
      ],
      "metadata": {
        "colab": {
          "base_uri": "https://localhost:8080/"
        },
        "id": "Ya9BiJBG9L9q",
        "outputId": "fb90a062-026b-4a97-e3b0-45c43922c09d"
      },
      "execution_count": null,
      "outputs": [
        {
          "output_type": "execute_result",
          "data": {
            "text/plain": [
              "0.6430647578268505"
            ]
          },
          "metadata": {},
          "execution_count": 256
        }
      ]
    },
    {
      "cell_type": "markdown",
      "source": [
        "###Una vez realziada las pruebas de asimetria y Kurtosis se observa que los datoa que corresponden a la columna EDAD de las personas involucaradas en los accidentes de trafico  tienen una asimetria *POSITIVA* y una curtosis mayor a 0 es decir cin una forma *Leptocurtica*, como se evidencia en los siguientes Graficos "
      ],
      "metadata": {
        "id": "t98gFU3gNL_o"
      }
    },
    {
      "cell_type": "code",
      "source": [
        "Actor_vial.drop(Actor_vial.loc[Actor_vial['SEXO']=='SIN INFORMACION'].index, inplace=True)"
      ],
      "metadata": {
        "id": "Wo9yReSAC8Ty"
      },
      "execution_count": null,
      "outputs": []
    },
    {
      "cell_type": "code",
      "source": [
        "plt.figure(figsize = ( 10 , 8 ))\n",
        "sns.kdeplot(Actor_vial['EDAD']);"
      ],
      "metadata": {
        "colab": {
          "base_uri": "https://localhost:8080/",
          "height": 496
        },
        "id": "PdLOHoG3vNaI",
        "outputId": "99a930dc-f88a-4f8f-a590-e66c7e9f0d19"
      },
      "execution_count": null,
      "outputs": [
        {
          "output_type": "display_data",
          "data": {
            "text/plain": [
              "<Figure size 720x576 with 1 Axes>"
            ],
            "image/png": "[encoded data removed]"
          },
          "metadata": {
            "needs_background": "light"
          }
        }
      ]
    },
    {
      "cell_type": "code",
      "source": [
        "plt.figure(figsize = ( 10 , 8 ))\n",
        "sns.histplot(Actor_vial['EDAD'], kde=True,bins=30);"
      ],
      "metadata": {
        "colab": {
          "base_uri": "https://localhost:8080/",
          "height": 496
        },
        "id": "YrET1cU0xU1N",
        "outputId": "7ad48758-1131-4ffa-c0d2-be4824c00f72"
      },
      "execution_count": null,
      "outputs": [
        {
          "output_type": "display_data",
          "data": {
            "text/plain": [
              "<Figure size 720x576 with 1 Axes>"
            ],
            "image/png": "[encoded data removed]"
          },
          "metadata": {
            "needs_background": "light"
          }
        }
      ]
    },
    {
      "cell_type": "code",
      "source": [
        "plt.figure(figsize = ( 15 ,20 ))\n",
        "sns.displot(data=Actor_vial, x=\"EDAD\", kind=\"kde\", hue = 'SEXO');"
      ],
      "metadata": {
        "colab": {
          "base_uri": "https://localhost:8080/",
          "height": 387
        },
        "id": "EDvlKZWNvoyY",
        "outputId": "2ca98c29-9b26-40a8-b8f9-bf107de22595"
      },
      "execution_count": null,
      "outputs": [
        {
          "output_type": "display_data",
          "data": {
            "text/plain": [
              "<Figure size 1080x1440 with 0 Axes>"
            ]
          },
          "metadata": {}
        },
        {
          "output_type": "display_data",
          "data": {
            "text/plain": [
              "<Figure size 455.625x360 with 1 Axes>"
            ],
            "image/png": "[encoded data removed]"
          },
          "metadata": {
            "needs_background": "light"
          }
        }
      ]
    },
    {
      "cell_type": "code",
      "source": [
        "Actor_vial.groupby(['SEXO'])['EDAD'].describe()"
      ],
      "metadata": {
        "colab": {
          "base_uri": "https://localhost:8080/",
          "height": 143
        },
        "id": "0GHX10FFBBBN",
        "outputId": "f8e7522f-ea17-41dd-ebfa-b5ea796385b9"
      },
      "execution_count": null,
      "outputs": [
        {
          "output_type": "execute_result",
          "data": {
            "text/plain": [
              "              count       mean        std  min   25%   50%   75%    max\n",
              "SEXO                                                                   \n",
              "FEMENINO    65046.0  37.346478  16.033856  0.0  26.0  35.0  47.0  118.0\n",
              "MASCULINO  347607.0  37.871329  13.813926  0.0  27.0  36.0  47.0  120.0"
            ],
            "text/html": [
              "\n",
              "  <div id=\"df-8d02e8b1-b8eb-46cb-8b33-0c9499aafb4d\">\n",
              "    <div class=\"colab-df-container\">\n",
              "      <div>\n",
              "<style scoped>\n",
              "    .dataframe tbody tr th:only-of-type {\n",
              "        vertical-align: middle;\n",
              "    }\n",
              "\n",
              "    .dataframe tbody tr th {\n",
              "        vertical-align: top;\n",
              "    }\n",
              "\n",
              "    .dataframe thead th {\n",
              "        text-align: right;\n",
              "    }\n",
              "</style>\n",
              "<table border=\"1\" class=\"dataframe\">\n",
              "  <thead>\n",
              "    <tr style=\"text-align: right;\">\n",
              "      <th></th>\n",
              "      <th>count</th>\n",
              "      <th>mean</th>\n",
              "      <th>std</th>\n",
              "      <th>min</th>\n",
              "      <th>25%</th>\n",
              "      <th>50%</th>\n",
              "      <th>75%</th>\n",
              "      <th>max</th>\n",
              "    </tr>\n",
              "    <tr>\n",
              "      <th>SEXO</th>\n",
              "      <th></th>\n",
              "      <th></th>\n",
              "      <th></th>\n",
              "      <th></th>\n",
              "      <th></th>\n",
              "      <th></th>\n",
              "      <th></th>\n",
              "      <th></th>\n",
              "    </tr>\n",
              "  </thead>\n",
              "  <tbody>\n",
              "    <tr>\n",
              "      <th>FEMENINO</th>\n",
              "      <td>65046.0</td>\n",
              "      <td>37.346478</td>\n",
              "      <td>16.033856</td>\n",
              "      <td>0.0</td>\n",
              "      <td>26.0</td>\n",
              "      <td>35.0</td>\n",
              "      <td>47.0</td>\n",
              "      <td>118.0</td>\n",
              "    </tr>\n",
              "    <tr>\n",
              "      <th>MASCULINO</th>\n",
              "      <td>347607.0</td>\n",
              "      <td>37.871329</td>\n",
              "      <td>13.813926</td>\n",
              "      <td>0.0</td>\n",
              "      <td>27.0</td>\n",
              "      <td>36.0</td>\n",
              "      <td>47.0</td>\n",
              "      <td>120.0</td>\n",
              "    </tr>\n",
              "  </tbody>\n",
              "</table>\n",
              "</div>\n",
              "      <button class=\"colab-df-convert\" onclick=\"convertToInteractive('df-8d02e8b1-b8eb-46cb-8b33-0c9499aafb4d')\"\n",
              "              title=\"Convert this dataframe to an interactive table.\"\n",
              "              style=\"display:none;\">\n",
              "        \n",
              "  <svg xmlns=\"http://www.w3.org/2000/svg\" height=\"24px\"viewBox=\"0 0 24 24\"\n",
              "       width=\"24px\">\n",
              "    <path d=\"M0 0h24v24H0V0z\" fill=\"none\"/>\n",
              "    <path d=\"M18.56 5.44l.94 2.06.94-2.06 2.06-.94-2.06-.94-.94-2.06-.94 2.06-2.06.94zm-11 1L8.5 8.5l.94-2.06 2.06-.94-2.06-.94L8.5 2.5l-.94 2.06-2.06.94zm10 10l.94 2.06.94-2.06 2.06-.94-2.06-.94-.94-2.06-.94 2.06-2.06.94z\"/><path d=\"M17.41 7.96l-1.37-1.37c-.4-.4-.92-.59-1.43-.59-.52 0-1.04.2-1.43.59L10.3 9.45l-7.72 7.72c-.78.78-.78 2.05 0 2.83L4 21.41c.39.39.9.59 1.41.59.51 0 1.02-.2 1.41-.59l7.78-7.78 2.81-2.81c.8-.78.8-2.07 0-2.86zM5.41 20L4 18.59l7.72-7.72 1.47 1.35L5.41 20z\"/>\n",
              "  </svg>\n",
              "      </button>\n",
              "      \n",
              "  <style>\n",
              "    .colab-df-container {\n",
              "      display:flex;\n",
              "      flex-wrap:wrap;\n",
              "      gap: 12px;\n",
              "    }\n",
              "\n",
              "    .colab-df-convert {\n",
              "      background-color: #E8F0FE;\n",
              "      border: none;\n",
              "      border-radius: 50%;\n",
              "      cursor: pointer;\n",
              "      display: none;\n",
              "      fill: #1967D2;\n",
              "      height: 32px;\n",
              "      padding: 0 0 0 0;\n",
              "      width: 32px;\n",
              "    }\n",
              "\n",
              "    .colab-df-convert:hover {\n",
              "      background-color: #E2EBFA;\n",
              "      box-shadow: 0px 1px 2px rgba(60, 64, 67, 0.3), 0px 1px 3px 1px rgba(60, 64, 67, 0.15);\n",
              "      fill: #174EA6;\n",
              "    }\n",
              "\n",
              "    [theme=dark] .colab-df-convert {\n",
              "      background-color: #3B4455;\n",
              "      fill: #D2E3FC;\n",
              "    }\n",
              "\n",
              "    [theme=dark] .colab-df-convert:hover {\n",
              "      background-color: #434B5C;\n",
              "      box-shadow: 0px 1px 3px 1px rgba(0, 0, 0, 0.15);\n",
              "      filter: drop-shadow(0px 1px 2px rgba(0, 0, 0, 0.3));\n",
              "      fill: #FFFFFF;\n",
              "    }\n",
              "  </style>\n",
              "\n",
              "      <script>\n",
              "        const buttonEl =\n",
              "          document.querySelector('#df-8d02e8b1-b8eb-46cb-8b33-0c9499aafb4d button.colab-df-convert');\n",
              "        buttonEl.style.display =\n",
              "          google.colab.kernel.accessAllowed ? 'block' : 'none';\n",
              "\n",
              "        async function convertToInteractive(key) {\n",
              "          const element = document.querySelector('#df-8d02e8b1-b8eb-46cb-8b33-0c9499aafb4d');\n",
              "          const dataTable =\n",
              "            await google.colab.kernel.invokeFunction('convertToInteractive',\n",
              "                                                     [key], {});\n",
              "          if (!dataTable) return;\n",
              "\n",
              "          const docLinkHtml = 'Like what you see? Visit the ' +\n",
              "            '<a target=\"_blank\" href=https://colab.research.google.com/notebooks/data_table.ipynb>data table notebook</a>'\n",
              "            + ' to learn more about interactive tables.';\n",
              "          element.innerHTML = '';\n",
              "          dataTable['output_type'] = 'display_data';\n",
              "          await google.colab.output.renderOutput(dataTable, element);\n",
              "          const docLink = document.createElement('div');\n",
              "          docLink.innerHTML = docLinkHtml;\n",
              "          element.appendChild(docLink);\n",
              "        }\n",
              "      </script>\n",
              "    </div>\n",
              "  </div>\n",
              "  "
            ]
          },
          "metadata": {},
          "execution_count": 287
        }
      ]
    },
    {
      "cell_type": "code",
      "source": [
        "plt.figure(figsize = ( 15 , 8 )) \n",
        "ax = sns.boxplot(x='SEXO', \n",
        "                 y='EDAD', \n",
        "                 data=Actor_vial, \n",
        "                 palette='rainbow')\n",
        "\n",
        "ax.set_title(\"DISTRIBUCION POR EDAD Y POR SEXO\")\n",
        "ax.set_xlabel(\"SEXO\")\n",
        "ax.set_ylabel(\"EDAD\");"
      ],
      "metadata": {
        "colab": {
          "base_uri": "https://localhost:8080/",
          "height": 513
        },
        "id": "VytPXRVXHHM7",
        "outputId": "80b3f1c4-eee9-4844-dada-672f551fb90f"
      },
      "execution_count": null,
      "outputs": [
        {
          "output_type": "display_data",
          "data": {
            "text/plain": [
              "<Figure size 1080x576 with 1 Axes>"
            ],
            "image/png": "[encoded data removed]"
          },
          "metadata": {
            "needs_background": "light"
          }
        }
      ]
    },
    {
      "cell_type": "code",
      "source": [
        "Actor_vial.groupby(['ESTADO'])['EDAD'].describe()"
      ],
      "metadata": {
        "colab": {
          "base_uri": "https://localhost:8080/",
          "height": 174
        },
        "id": "zhuok4DMR69f",
        "outputId": "c97c6004-2162-41bb-c21f-276b02df3f6e"
      },
      "execution_count": null,
      "outputs": [
        {
          "output_type": "execute_result",
          "data": {
            "text/plain": [
              "           count       mean        std  min   25%   50%   75%    max\n",
              "ESTADO                                                              \n",
              "HERIDO   93408.0  33.859230  17.021039  0.0  22.0  29.0  43.0  120.0\n",
              "ILESO   316386.0  38.911096  12.920831  0.0  29.0  37.0  48.0  120.0\n",
              "MUERTO    2859.0  41.947884  21.305545  0.0  24.0  35.0  57.5  120.0"
            ],
            "text/html": [
              "\n",
              "  <div id=\"df-14d85207-4be2-4807-8486-b3163c8b4989\">\n",
              "    <div class=\"colab-df-container\">\n",
              "      <div>\n",
              "<style scoped>\n",
              "    .dataframe tbody tr th:only-of-type {\n",
              "        vertical-align: middle;\n",
              "    }\n",
              "\n",
              "    .dataframe tbody tr th {\n",
              "        vertical-align: top;\n",
              "    }\n",
              "\n",
              "    .dataframe thead th {\n",
              "        text-align: right;\n",
              "    }\n",
              "</style>\n",
              "<table border=\"1\" class=\"dataframe\">\n",
              "  <thead>\n",
              "    <tr style=\"text-align: right;\">\n",
              "      <th></th>\n",
              "      <th>count</th>\n",
              "      <th>mean</th>\n",
              "      <th>std</th>\n",
              "      <th>min</th>\n",
              "      <th>25%</th>\n",
              "      <th>50%</th>\n",
              "      <th>75%</th>\n",
              "      <th>max</th>\n",
              "    </tr>\n",
              "    <tr>\n",
              "      <th>ESTADO</th>\n",
              "      <th></th>\n",
              "      <th></th>\n",
              "      <th></th>\n",
              "      <th></th>\n",
              "      <th></th>\n",
              "      <th></th>\n",
              "      <th></th>\n",
              "      <th></th>\n",
              "    </tr>\n",
              "  </thead>\n",
              "  <tbody>\n",
              "    <tr>\n",
              "      <th>HERIDO</th>\n",
              "      <td>93408.0</td>\n",
              "      <td>33.859230</td>\n",
              "      <td>17.021039</td>\n",
              "      <td>0.0</td>\n",
              "      <td>22.0</td>\n",
              "      <td>29.0</td>\n",
              "      <td>43.0</td>\n",
              "      <td>120.0</td>\n",
              "    </tr>\n",
              "    <tr>\n",
              "      <th>ILESO</th>\n",
              "      <td>316386.0</td>\n",
              "      <td>38.911096</td>\n",
              "      <td>12.920831</td>\n",
              "      <td>0.0</td>\n",
              "      <td>29.0</td>\n",
              "      <td>37.0</td>\n",
              "      <td>48.0</td>\n",
              "      <td>120.0</td>\n",
              "    </tr>\n",
              "    <tr>\n",
              "      <th>MUERTO</th>\n",
              "      <td>2859.0</td>\n",
              "      <td>41.947884</td>\n",
              "      <td>21.305545</td>\n",
              "      <td>0.0</td>\n",
              "      <td>24.0</td>\n",
              "      <td>35.0</td>\n",
              "      <td>57.5</td>\n",
              "      <td>120.0</td>\n",
              "    </tr>\n",
              "  </tbody>\n",
              "</table>\n",
              "</div>\n",
              "      <button class=\"colab-df-convert\" onclick=\"convertToInteractive('df-14d85207-4be2-4807-8486-b3163c8b4989')\"\n",
              "              title=\"Convert this dataframe to an interactive table.\"\n",
              "              style=\"display:none;\">\n",
              "        \n",
              "  <svg xmlns=\"http://www.w3.org/2000/svg\" height=\"24px\"viewBox=\"0 0 24 24\"\n",
              "       width=\"24px\">\n",
              "    <path d=\"M0 0h24v24H0V0z\" fill=\"none\"/>\n",
              "    <path d=\"M18.56 5.44l.94 2.06.94-2.06 2.06-.94-2.06-.94-.94-2.06-.94 2.06-2.06.94zm-11 1L8.5 8.5l.94-2.06 2.06-.94-2.06-.94L8.5 2.5l-.94 2.06-2.06.94zm10 10l.94 2.06.94-2.06 2.06-.94-2.06-.94-.94-2.06-.94 2.06-2.06.94z\"/><path d=\"M17.41 7.96l-1.37-1.37c-.4-.4-.92-.59-1.43-.59-.52 0-1.04.2-1.43.59L10.3 9.45l-7.72 7.72c-.78.78-.78 2.05 0 2.83L4 21.41c.39.39.9.59 1.41.59.51 0 1.02-.2 1.41-.59l7.78-7.78 2.81-2.81c.8-.78.8-2.07 0-2.86zM5.41 20L4 18.59l7.72-7.72 1.47 1.35L5.41 20z\"/>\n",
              "  </svg>\n",
              "      </button>\n",
              "      \n",
              "  <style>\n",
              "    .colab-df-container {\n",
              "      display:flex;\n",
              "      flex-wrap:wrap;\n",
              "      gap: 12px;\n",
              "    }\n",
              "\n",
              "    .colab-df-convert {\n",
              "      background-color: #E8F0FE;\n",
              "      border: none;\n",
              "      border-radius: 50%;\n",
              "      cursor: pointer;\n",
              "      display: none;\n",
              "      fill: #1967D2;\n",
              "      height: 32px;\n",
              "      padding: 0 0 0 0;\n",
              "      width: 32px;\n",
              "    }\n",
              "\n",
              "    .colab-df-convert:hover {\n",
              "      background-color: #E2EBFA;\n",
              "      box-shadow: 0px 1px 2px rgba(60, 64, 67, 0.3), 0px 1px 3px 1px rgba(60, 64, 67, 0.15);\n",
              "      fill: #174EA6;\n",
              "    }\n",
              "\n",
              "    [theme=dark] .colab-df-convert {\n",
              "      background-color: #3B4455;\n",
              "      fill: #D2E3FC;\n",
              "    }\n",
              "\n",
              "    [theme=dark] .colab-df-convert:hover {\n",
              "      background-color: #434B5C;\n",
              "      box-shadow: 0px 1px 3px 1px rgba(0, 0, 0, 0.15);\n",
              "      filter: drop-shadow(0px 1px 2px rgba(0, 0, 0, 0.3));\n",
              "      fill: #FFFFFF;\n",
              "    }\n",
              "  </style>\n",
              "\n",
              "      <script>\n",
              "        const buttonEl =\n",
              "          document.querySelector('#df-14d85207-4be2-4807-8486-b3163c8b4989 button.colab-df-convert');\n",
              "        buttonEl.style.display =\n",
              "          google.colab.kernel.accessAllowed ? 'block' : 'none';\n",
              "\n",
              "        async function convertToInteractive(key) {\n",
              "          const element = document.querySelector('#df-14d85207-4be2-4807-8486-b3163c8b4989');\n",
              "          const dataTable =\n",
              "            await google.colab.kernel.invokeFunction('convertToInteractive',\n",
              "                                                     [key], {});\n",
              "          if (!dataTable) return;\n",
              "\n",
              "          const docLinkHtml = 'Like what you see? Visit the ' +\n",
              "            '<a target=\"_blank\" href=https://colab.research.google.com/notebooks/data_table.ipynb>data table notebook</a>'\n",
              "            + ' to learn more about interactive tables.';\n",
              "          element.innerHTML = '';\n",
              "          dataTable['output_type'] = 'display_data';\n",
              "          await google.colab.output.renderOutput(dataTable, element);\n",
              "          const docLink = document.createElement('div');\n",
              "          docLink.innerHTML = docLinkHtml;\n",
              "          element.appendChild(docLink);\n",
              "        }\n",
              "      </script>\n",
              "    </div>\n",
              "  </div>\n",
              "  "
            ]
          },
          "metadata": {},
          "execution_count": 288
        }
      ]
    },
    {
      "cell_type": "code",
      "source": [
        "plt.figure(figsize = ( 15 , 8 )) \n",
        "ax = sns.boxplot(x='ESTADO', \n",
        "                 y='EDAD', \n",
        "                 data=Actor_vial, \n",
        "                 palette='deep')\n",
        "\n",
        "ax.set_title(\"BOXPLOT DISTRIBUCION EDAD POR ESTADO\")\n",
        "ax.set_xlabel(\"ESTADO\")\n",
        "ax.set_ylabel(\"EDAD\");"
      ],
      "metadata": {
        "colab": {
          "base_uri": "https://localhost:8080/",
          "height": 513
        },
        "id": "EQ25evYHBg9-",
        "outputId": "43010ab7-7735-4fe8-ac12-c2987c105370"
      },
      "execution_count": null,
      "outputs": [
        {
          "output_type": "display_data",
          "data": {
            "text/plain": [
              "<Figure size 1080x576 with 1 Axes>"
            ],
            "image/png": "[encoded data removed]"
          },
          "metadata": {
            "needs_background": "light"
          }
        }
      ]
    },
    {
      "cell_type": "code",
      "source": [
        "plt.figure(figsize = ( 15 , 8 )) \n",
        "sns.violinplot(x=\"ESTADO\", y=\"EDAD\", data=Actor_vial, hue='SEXO');"
      ],
      "metadata": {
        "colab": {
          "base_uri": "https://localhost:8080/",
          "height": 496
        },
        "id": "kK3XNh3EK9hy",
        "outputId": "62fa1f2c-6ece-4fd4-a81a-a32d053f12ff"
      },
      "execution_count": null,
      "outputs": [
        {
          "output_type": "display_data",
          "data": {
            "text/plain": [
              "<Figure size 1080x576 with 1 Axes>"
            ],
            "image/png": "[encoded data removed]"
          },
          "metadata": {
            "needs_background": "light"
          }
        }
      ]
    },
    {
      "cell_type": "code",
      "source": [
        "Actor_vial.groupby(['CONDICION'])['EDAD'].describe()"
      ],
      "metadata": {
        "colab": {
          "base_uri": "https://localhost:8080/",
          "height": 237
        },
        "id": "bmLXCETFPJA3",
        "outputId": "85fbe3a8-c142-49a0-d9eb-aafa47410b23"
      },
      "execution_count": null,
      "outputs": [
        {
          "output_type": "execute_result",
          "data": {
            "text/plain": [
              "                         count       mean        std  min   25%   50%   75%  \\\n",
              "CONDICION                                                                     \n",
              "CICLISTA               12628.0  32.243744  14.891715  2.0  21.0  28.0  41.0   \n",
              "CONDUCTOR             298356.0  39.633562  12.881367  0.0  30.0  38.0  49.0   \n",
              "MOTOCICLISTA           51735.0  29.624741   9.418491  1.0  23.0  27.0  34.0   \n",
              "PASAJERO/ACOMPAÑANTE   27145.0  34.136158  18.502689  0.0  21.0  30.0  46.0   \n",
              "PEATON                 22789.0  39.590636  22.554930  0.0  21.0  36.0  57.0   \n",
              "\n",
              "                        max  \n",
              "CONDICION                    \n",
              "CICLISTA              120.0  \n",
              "CONDUCTOR             120.0  \n",
              "MOTOCICLISTA          118.0  \n",
              "PASAJERO/ACOMPAÑANTE  118.0  \n",
              "PEATON                120.0  "
            ],
            "text/html": [
              "\n",
              "  <div id=\"df-f88a4b85-832c-42a0-a3ce-8ab442ca9a52\">\n",
              "    <div class=\"colab-df-container\">\n",
              "      <div>\n",
              "<style scoped>\n",
              "    .dataframe tbody tr th:only-of-type {\n",
              "        vertical-align: middle;\n",
              "    }\n",
              "\n",
              "    .dataframe tbody tr th {\n",
              "        vertical-align: top;\n",
              "    }\n",
              "\n",
              "    .dataframe thead th {\n",
              "        text-align: right;\n",
              "    }\n",
              "</style>\n",
              "<table border=\"1\" class=\"dataframe\">\n",
              "  <thead>\n",
              "    <tr style=\"text-align: right;\">\n",
              "      <th></th>\n",
              "      <th>count</th>\n",
              "      <th>mean</th>\n",
              "      <th>std</th>\n",
              "      <th>min</th>\n",
              "      <th>25%</th>\n",
              "      <th>50%</th>\n",
              "      <th>75%</th>\n",
              "      <th>max</th>\n",
              "    </tr>\n",
              "    <tr>\n",
              "      <th>CONDICION</th>\n",
              "      <th></th>\n",
              "      <th></th>\n",
              "      <th></th>\n",
              "      <th></th>\n",
              "      <th></th>\n",
              "      <th></th>\n",
              "      <th></th>\n",
              "      <th></th>\n",
              "    </tr>\n",
              "  </thead>\n",
              "  <tbody>\n",
              "    <tr>\n",
              "      <th>CICLISTA</th>\n",
              "      <td>12628.0</td>\n",
              "      <td>32.243744</td>\n",
              "      <td>14.891715</td>\n",
              "      <td>2.0</td>\n",
              "      <td>21.0</td>\n",
              "      <td>28.0</td>\n",
              "      <td>41.0</td>\n",
              "      <td>120.0</td>\n",
              "    </tr>\n",
              "    <tr>\n",
              "      <th>CONDUCTOR</th>\n",
              "      <td>298356.0</td>\n",
              "      <td>39.633562</td>\n",
              "      <td>12.881367</td>\n",
              "      <td>0.0</td>\n",
              "      <td>30.0</td>\n",
              "      <td>38.0</td>\n",
              "      <td>49.0</td>\n",
              "      <td>120.0</td>\n",
              "    </tr>\n",
              "    <tr>\n",
              "      <th>MOTOCICLISTA</th>\n",
              "      <td>51735.0</td>\n",
              "      <td>29.624741</td>\n",
              "      <td>9.418491</td>\n",
              "      <td>1.0</td>\n",
              "      <td>23.0</td>\n",
              "      <td>27.0</td>\n",
              "      <td>34.0</td>\n",
              "      <td>118.0</td>\n",
              "    </tr>\n",
              "    <tr>\n",
              "      <th>PASAJERO/ACOMPAÑANTE</th>\n",
              "      <td>27145.0</td>\n",
              "      <td>34.136158</td>\n",
              "      <td>18.502689</td>\n",
              "      <td>0.0</td>\n",
              "      <td>21.0</td>\n",
              "      <td>30.0</td>\n",
              "      <td>46.0</td>\n",
              "      <td>118.0</td>\n",
              "    </tr>\n",
              "    <tr>\n",
              "      <th>PEATON</th>\n",
              "      <td>22789.0</td>\n",
              "      <td>39.590636</td>\n",
              "      <td>22.554930</td>\n",
              "      <td>0.0</td>\n",
              "      <td>21.0</td>\n",
              "      <td>36.0</td>\n",
              "      <td>57.0</td>\n",
              "      <td>120.0</td>\n",
              "    </tr>\n",
              "  </tbody>\n",
              "</table>\n",
              "</div>\n",
              "      <button class=\"colab-df-convert\" onclick=\"convertToInteractive('df-f88a4b85-832c-42a0-a3ce-8ab442ca9a52')\"\n",
              "              title=\"Convert this dataframe to an interactive table.\"\n",
              "              style=\"display:none;\">\n",
              "        \n",
              "  <svg xmlns=\"http://www.w3.org/2000/svg\" height=\"24px\"viewBox=\"0 0 24 24\"\n",
              "       width=\"24px\">\n",
              "    <path d=\"M0 0h24v24H0V0z\" fill=\"none\"/>\n",
              "    <path d=\"M18.56 5.44l.94 2.06.94-2.06 2.06-.94-2.06-.94-.94-2.06-.94 2.06-2.06.94zm-11 1L8.5 8.5l.94-2.06 2.06-.94-2.06-.94L8.5 2.5l-.94 2.06-2.06.94zm10 10l.94 2.06.94-2.06 2.06-.94-2.06-.94-.94-2.06-.94 2.06-2.06.94z\"/><path d=\"M17.41 7.96l-1.37-1.37c-.4-.4-.92-.59-1.43-.59-.52 0-1.04.2-1.43.59L10.3 9.45l-7.72 7.72c-.78.78-.78 2.05 0 2.83L4 21.41c.39.39.9.59 1.41.59.51 0 1.02-.2 1.41-.59l7.78-7.78 2.81-2.81c.8-.78.8-2.07 0-2.86zM5.41 20L4 18.59l7.72-7.72 1.47 1.35L5.41 20z\"/>\n",
              "  </svg>\n",
              "      </button>\n",
              "      \n",
              "  <style>\n",
              "    .colab-df-container {\n",
              "      display:flex;\n",
              "      flex-wrap:wrap;\n",
              "      gap: 12px;\n",
              "    }\n",
              "\n",
              "    .colab-df-convert {\n",
              "      background-color: #E8F0FE;\n",
              "      border: none;\n",
              "      border-radius: 50%;\n",
              "      cursor: pointer;\n",
              "      display: none;\n",
              "      fill: #1967D2;\n",
              "      height: 32px;\n",
              "      padding: 0 0 0 0;\n",
              "      width: 32px;\n",
              "    }\n",
              "\n",
              "    .colab-df-convert:hover {\n",
              "      background-color: #E2EBFA;\n",
              "      box-shadow: 0px 1px 2px rgba(60, 64, 67, 0.3), 0px 1px 3px 1px rgba(60, 64, 67, 0.15);\n",
              "      fill: #174EA6;\n",
              "    }\n",
              "\n",
              "    [theme=dark] .colab-df-convert {\n",
              "      background-color: #3B4455;\n",
              "      fill: #D2E3FC;\n",
              "    }\n",
              "\n",
              "    [theme=dark] .colab-df-convert:hover {\n",
              "      background-color: #434B5C;\n",
              "      box-shadow: 0px 1px 3px 1px rgba(0, 0, 0, 0.15);\n",
              "      filter: drop-shadow(0px 1px 2px rgba(0, 0, 0, 0.3));\n",
              "      fill: #FFFFFF;\n",
              "    }\n",
              "  </style>\n",
              "\n",
              "      <script>\n",
              "        const buttonEl =\n",
              "          document.querySelector('#df-f88a4b85-832c-42a0-a3ce-8ab442ca9a52 button.colab-df-convert');\n",
              "        buttonEl.style.display =\n",
              "          google.colab.kernel.accessAllowed ? 'block' : 'none';\n",
              "\n",
              "        async function convertToInteractive(key) {\n",
              "          const element = document.querySelector('#df-f88a4b85-832c-42a0-a3ce-8ab442ca9a52');\n",
              "          const dataTable =\n",
              "            await google.colab.kernel.invokeFunction('convertToInteractive',\n",
              "                                                     [key], {});\n",
              "          if (!dataTable) return;\n",
              "\n",
              "          const docLinkHtml = 'Like what you see? Visit the ' +\n",
              "            '<a target=\"_blank\" href=https://colab.research.google.com/notebooks/data_table.ipynb>data table notebook</a>'\n",
              "            + ' to learn more about interactive tables.';\n",
              "          element.innerHTML = '';\n",
              "          dataTable['output_type'] = 'display_data';\n",
              "          await google.colab.output.renderOutput(dataTable, element);\n",
              "          const docLink = document.createElement('div');\n",
              "          docLink.innerHTML = docLinkHtml;\n",
              "          element.appendChild(docLink);\n",
              "        }\n",
              "      </script>\n",
              "    </div>\n",
              "  </div>\n",
              "  "
            ]
          },
          "metadata": {},
          "execution_count": 286
        }
      ]
    },
    {
      "cell_type": "code",
      "source": [
        "plt.figure(figsize = ( 15 , 8 )) \n",
        "ax = sns.boxplot(x='CONDICION', \n",
        "                 y='EDAD', \n",
        "                 data=Actor_vial, \n",
        "                 palette='rainbow')\n",
        "\n",
        "ax.set_title(\"BOXPLOT DISTRIBUCION EDAD POR CONDICION\")\n",
        "ax.set_xlabel(\"CONDICION\")\n",
        "ax.set_ylabel(\"EDAD\");"
      ],
      "metadata": {
        "colab": {
          "base_uri": "https://localhost:8080/",
          "height": 514
        },
        "id": "SNujlSLjBBDW",
        "outputId": "cb457083-153b-470d-98d9-a683ecadb53d"
      },
      "execution_count": null,
      "outputs": [
        {
          "output_type": "display_data",
          "data": {
            "text/plain": [
              "<Figure size 1080x576 with 1 Axes>"
            ],
            "image/png": "[encoded data removed]"
          },
          "metadata": {
            "needs_background": "light"
          }
        }
      ]
    },
    {
      "cell_type": "code",
      "source": [
        "plt.figure(figsize = ( 15 , 8 )) \n",
        "sns.violinplot(x=\"CONDICION\", y=\"EDAD\", data=Actor_vial, hue='SEXO');"
      ],
      "metadata": {
        "colab": {
          "base_uri": "https://localhost:8080/",
          "height": 498
        },
        "id": "xvO3zRqKM-CZ",
        "outputId": "8bd39626-b872-4703-8c43-438adea45582"
      },
      "execution_count": null,
      "outputs": [
        {
          "output_type": "display_data",
          "data": {
            "text/plain": [
              "<Figure size 1080x576 with 1 Axes>"
            ],
            "image/png": "[encoded data removed]"
          },
          "metadata": {
            "needs_background": "light"
          }
        }
      ]
    },
    {
      "cell_type": "code",
      "source": [],
      "metadata": {
        "id": "weB-Z1ForQZH"
      },
      "execution_count": null,
      "outputs": []
    },
    {
      "cell_type": "markdown",
      "source": [
        "#**Intervalo de confianza de una media**\n",
        "## Sobre la EDAD se calcula  un intervalo de confianza ( β ) del 95% y significancia ( α )  5%. con la ayuda de la libreria statmodels"
      ],
      "metadata": {
        "id": "sUb1FQbX5oGF"
      }
    },
    {
      "cell_type": "code",
      "source": [
        "limite_inferior, limite_superior = sm.stats.DescrStatsW(Actor_vial['EDAD']).tconfint_mean(alpha = 0.05)\n",
        "intervalo = (limite_inferior, limite_superior)\n",
        "print(intervalo)"
      ],
      "metadata": {
        "colab": {
          "base_uri": "https://localhost:8080/"
        },
        "id": "rWGXTiiPk30V",
        "outputId": "eb8c3fcb-cafd-4512-96e7-794208d230ef"
      },
      "execution_count": null,
      "outputs": [
        {
          "output_type": "stream",
          "name": "stdout",
          "text": [
            "(37.74530753992812, 37.83188685827085)\n"
          ]
        }
      ]
    },
    {
      "cell_type": "code",
      "source": [
        "variable=Actor_vial.loc[Actor_vial['SEXO'] =='FEMENINO','EDAD'] "
      ],
      "metadata": {
        "id": "AP59xoMd6FeO"
      },
      "execution_count": null,
      "outputs": []
    },
    {
      "cell_type": "code",
      "source": [
        "limite_inferior, limite_superior = sm.stats.DescrStatsW(variable).tconfint_mean(alpha = 0.05)\n",
        "intervalo = (limite_inferior, limite_superior)\n",
        "print(intervalo)"
      ],
      "metadata": {
        "id": "jiXS3hBK6_bv",
        "colab": {
          "base_uri": "https://localhost:8080/"
        },
        "outputId": "616cebee-5517-43eb-86e3-17b0a1025d43"
      },
      "execution_count": null,
      "outputs": [
        {
          "output_type": "stream",
          "name": "stdout",
          "text": [
            "(37.22325712310545, 37.469698631283755)\n"
          ]
        }
      ]
    },
    {
      "cell_type": "code",
      "source": [
        "variable=Actor_vial.loc[Actor_vial['SEXO'] =='MASCULINO','EDAD'] "
      ],
      "metadata": {
        "id": "7x37OCIDBrHE"
      },
      "execution_count": null,
      "outputs": []
    },
    {
      "cell_type": "code",
      "source": [
        "limite_inferior, limite_superior = sm.stats.DescrStatsW(variable).tconfint_mean(alpha = 0.05)\n",
        "intervalo = (limite_inferior, limite_superior)\n",
        "print(intervalo)"
      ],
      "metadata": {
        "colab": {
          "base_uri": "https://localhost:8080/"
        },
        "id": "FkSUshHhB6Dq",
        "outputId": "6ef7751c-dbed-4e3c-ccba-dba2942f2414"
      },
      "execution_count": null,
      "outputs": [
        {
          "output_type": "stream",
          "name": "stdout",
          "text": [
            "(37.825406649884926, 37.91725100660646)\n"
          ]
        }
      ]
    },
    {
      "cell_type": "markdown",
      "source": [
        "###**Interpretación**: Podemos afirmar con un nivel de confianza del  95% , que la edad media de  las personas involucaradas en accidentes de transito en bogotá occilan entre 37,2 y 37.4 para la MUJERES y entre 37,8 y 37,9 para los HOMBRES"
      ],
      "metadata": {
        "id": "MbYZwvQQC0xF"
      }
    },
    {
      "cell_type": "markdown",
      "source": [
        "##Como evaluamos del año 2015 a 2020 el promedio de edad de personas involucradas en accidentes esta en 37 años si se informara 5 años después  es decir al finalizar el 2025 el promedio de Edad paso a 39 ,quisiera saber si existe evidencia suficiente para afirmar que la media aumento de manera significativa\n",
        "\n",
        "##Hipótesis:\n",
        "\n",
        "##Hipótesis nula  H0:μ=37 \n",
        "##Hipótesis alternativa  Ha:μ>37"
      ],
      "metadata": {
        "id": "iBAGhZz9D15W"
      }
    },
    {
      "cell_type": "code",
      "source": [
        "edad_promedio_poblacion = 37\n",
        "n = 100                     \n",
        "alpha = 0.05"
      ],
      "metadata": {
        "id": "WJsV29zaCFMT"
      },
      "execution_count": null,
      "outputs": []
    },
    {
      "cell_type": "code",
      "source": [
        "np.random.seed(132) \n",
        "\n",
        "muestra = np.random.normal(loc=39, scale=15, size=n) # datos alrededor de una de 39\n",
        "print(np.round(muestra,1))"
      ],
      "metadata": {
        "colab": {
          "base_uri": "https://localhost:8080/"
        },
        "id": "wDNMVWZcGnWx",
        "outputId": "aa2b2ac7-7b2e-402f-828e-5b2ecc7ab334"
      },
      "execution_count": null,
      "outputs": [
        {
          "output_type": "stream",
          "name": "stdout",
          "text": [
            "[30.8 58.4 46.4 47.7 30.8 56.2 37.4 44.2 26.9 40.6 37.6 45.9 32.9  9.1\n",
            " 33.8 52.2 29.4 29.9 27.7 28.7 26.7 22.  26.6 40.1 40.9 46.4 23.4 49.4\n",
            " 17.  39.8 28.4 35.4 68.9 41.3 43.3 26.6 38.2 38.8 27.5 43.1 46.3 26.3\n",
            " 51.  31.2 57.7 35.2 47.  31.4 36.3 27.6 38.1 36.8 33.7 37.  39.8 44.1\n",
            " 46.3 43.8 30.2 51.6 34.9 48.6 37.7 50.1 18.4 44.1 32.9 48.8 -0.1 69.2\n",
            "  9.4 40.8 45.1 58.1 36.  26.6 42.3 29.3 25.2 33.1 55.1 26.1 30.7 42.9\n",
            " 39.4 58.5  9.1 45.  38.5 27.  53.9 26.4 40.9 61.7 35.6 53.4 18.5 66.5\n",
            " 34.8 51.4]\n"
          ]
        }
      ]
    },
    {
      "cell_type": "code",
      "source": [
        "z_score, p_valor = sm.stats.ztest(muestra, \n",
        "                                  value = edad_promedio_poblacion, \n",
        "                                  alternative = \"larger\")\n",
        "\n",
        "print(f\"Estadístico: {z_score}\\np-valor: {p_valor}\")"
      ],
      "metadata": {
        "colab": {
          "base_uri": "https://localhost:8080/"
        },
        "id": "lzhw6PW0I6Tw",
        "outputId": "a36f9cff-17ca-4b16-d8d0-71cd5f1e9601"
      },
      "execution_count": null,
      "outputs": [
        {
          "output_type": "stream",
          "name": "stdout",
          "text": [
            "Estadístico: 0.8378592071853692\n",
            "p-valor: 0.20105489076275612\n"
          ]
        }
      ]
    },
    {
      "cell_type": "code",
      "source": [
        "p_valor-alpha"
      ],
      "metadata": {
        "colab": {
          "base_uri": "https://localhost:8080/"
        },
        "id": "venPpaFvJzOn",
        "outputId": "db8a6f64-c3a1-410d-d57a-3eadc1777ca3"
      },
      "execution_count": null,
      "outputs": [
        {
          "output_type": "execute_result",
          "data": {
            "text/plain": [
              "0.00713149902272036"
            ]
          },
          "metadata": {},
          "execution_count": 344
        }
      ]
    },
    {
      "cell_type": "code",
      "source": [],
      "metadata": {
        "id": "DfSNx4mZJ0yD"
      },
      "execution_count": null,
      "outputs": []
    },
    {
      "cell_type": "markdown",
      "source": [
        "##\n",
        "En este caso de prueba se observa que el *p-valor* es mayor que $\\alpha = 0.05$ (nivel de significancia), razón por la cual se acepta la hipotesis nula y se rechaza la alternativa en el sentido que un promedio de 39 años de edad para el 2025 no indica que el promedio haya aumentado de manera significativa"
      ],
      "metadata": {
        "id": "l8sUXxe2Klez"
      }
    },
    {
      "cell_type": "code",
      "source": [
        "regresion=pd.read_excel('lesiones1.xlsx')"
      ],
      "metadata": {
        "id": "XySgCpTbNUvY"
      },
      "execution_count": null,
      "outputs": []
    },
    {
      "cell_type": "code",
      "source": [
        "regresion"
      ],
      "metadata": {
        "colab": {
          "base_uri": "https://localhost:8080/",
          "height": 801
        },
        "id": "bhSWIto5OFbm",
        "outputId": "43bf4b42-ef8c-4581-d7e7-c4c345241cee"
      },
      "execution_count": null,
      "outputs": [
        {
          "output_type": "execute_result",
          "data": {
            "text/plain": [
              "    Hora_accidente  Numero_personas_lesionadas\n",
              "0                1                        3665\n",
              "1                2                        3277\n",
              "2                3                        4055\n",
              "3                4                        4901\n",
              "4                5                       12174\n",
              "5                6                       20943\n",
              "6                7                       25309\n",
              "7                8                       23914\n",
              "8                9                       21552\n",
              "9               10                       22845\n",
              "10              11                       24459\n",
              "11              12                       25401\n",
              "12              13                       26239\n",
              "13              14                       27887\n",
              "14              15                       24429\n",
              "15              16                       23872\n",
              "16              17                       23796\n",
              "17              18                       21407\n",
              "18              19                       22369\n",
              "19              20                       20430\n",
              "20              21                       15199\n",
              "21              22                       11527\n",
              "22              23                        7835\n",
              "23              24                        4931"
            ],
            "text/html": [
              "\n",
              "  <div id=\"df-6255ffdc-b3f9-4606-bbf0-757d8485e12d\">\n",
              "    <div class=\"colab-df-container\">\n",
              "      <div>\n",
              "<style scoped>\n",
              "    .dataframe tbody tr th:only-of-type {\n",
              "        vertical-align: middle;\n",
              "    }\n",
              "\n",
              "    .dataframe tbody tr th {\n",
              "        vertical-align: top;\n",
              "    }\n",
              "\n",
              "    .dataframe thead th {\n",
              "        text-align: right;\n",
              "    }\n",
              "</style>\n",
              "<table border=\"1\" class=\"dataframe\">\n",
              "  <thead>\n",
              "    <tr style=\"text-align: right;\">\n",
              "      <th></th>\n",
              "      <th>Hora_accidente</th>\n",
              "      <th>Numero_personas_lesionadas</th>\n",
              "    </tr>\n",
              "  </thead>\n",
              "  <tbody>\n",
              "    <tr>\n",
              "      <th>0</th>\n",
              "      <td>1</td>\n",
              "      <td>3665</td>\n",
              "    </tr>\n",
              "    <tr>\n",
              "      <th>1</th>\n",
              "      <td>2</td>\n",
              "      <td>3277</td>\n",
              "    </tr>\n",
              "    <tr>\n",
              "      <th>2</th>\n",
              "      <td>3</td>\n",
              "      <td>4055</td>\n",
              "    </tr>\n",
              "    <tr>\n",
              "      <th>3</th>\n",
              "      <td>4</td>\n",
              "      <td>4901</td>\n",
              "    </tr>\n",
              "    <tr>\n",
              "      <th>4</th>\n",
              "      <td>5</td>\n",
              "      <td>12174</td>\n",
              "    </tr>\n",
              "    <tr>\n",
              "      <th>5</th>\n",
              "      <td>6</td>\n",
              "      <td>20943</td>\n",
              "    </tr>\n",
              "    <tr>\n",
              "      <th>6</th>\n",
              "      <td>7</td>\n",
              "      <td>25309</td>\n",
              "    </tr>\n",
              "    <tr>\n",
              "      <th>7</th>\n",
              "      <td>8</td>\n",
              "      <td>23914</td>\n",
              "    </tr>\n",
              "    <tr>\n",
              "      <th>8</th>\n",
              "      <td>9</td>\n",
              "      <td>21552</td>\n",
              "    </tr>\n",
              "    <tr>\n",
              "      <th>9</th>\n",
              "      <td>10</td>\n",
              "      <td>22845</td>\n",
              "    </tr>\n",
              "    <tr>\n",
              "      <th>10</th>\n",
              "      <td>11</td>\n",
              "      <td>24459</td>\n",
              "    </tr>\n",
              "    <tr>\n",
              "      <th>11</th>\n",
              "      <td>12</td>\n",
              "      <td>25401</td>\n",
              "    </tr>\n",
              "    <tr>\n",
              "      <th>12</th>\n",
              "      <td>13</td>\n",
              "      <td>26239</td>\n",
              "    </tr>\n",
              "    <tr>\n",
              "      <th>13</th>\n",
              "      <td>14</td>\n",
              "      <td>27887</td>\n",
              "    </tr>\n",
              "    <tr>\n",
              "      <th>14</th>\n",
              "      <td>15</td>\n",
              "      <td>24429</td>\n",
              "    </tr>\n",
              "    <tr>\n",
              "      <th>15</th>\n",
              "      <td>16</td>\n",
              "      <td>23872</td>\n",
              "    </tr>\n",
              "    <tr>\n",
              "      <th>16</th>\n",
              "      <td>17</td>\n",
              "      <td>23796</td>\n",
              "    </tr>\n",
              "    <tr>\n",
              "      <th>17</th>\n",
              "      <td>18</td>\n",
              "      <td>21407</td>\n",
              "    </tr>\n",
              "    <tr>\n",
              "      <th>18</th>\n",
              "      <td>19</td>\n",
              "      <td>22369</td>\n",
              "    </tr>\n",
              "    <tr>\n",
              "      <th>19</th>\n",
              "      <td>20</td>\n",
              "      <td>20430</td>\n",
              "    </tr>\n",
              "    <tr>\n",
              "      <th>20</th>\n",
              "      <td>21</td>\n",
              "      <td>15199</td>\n",
              "    </tr>\n",
              "    <tr>\n",
              "      <th>21</th>\n",
              "      <td>22</td>\n",
              "      <td>11527</td>\n",
              "    </tr>\n",
              "    <tr>\n",
              "      <th>22</th>\n",
              "      <td>23</td>\n",
              "      <td>7835</td>\n",
              "    </tr>\n",
              "    <tr>\n",
              "      <th>23</th>\n",
              "      <td>24</td>\n",
              "      <td>4931</td>\n",
              "    </tr>\n",
              "  </tbody>\n",
              "</table>\n",
              "</div>\n",
              "      <button class=\"colab-df-convert\" onclick=\"convertToInteractive('df-6255ffdc-b3f9-4606-bbf0-757d8485e12d')\"\n",
              "              title=\"Convert this dataframe to an interactive table.\"\n",
              "              style=\"display:none;\">\n",
              "        \n",
              "  <svg xmlns=\"http://www.w3.org/2000/svg\" height=\"24px\"viewBox=\"0 0 24 24\"\n",
              "       width=\"24px\">\n",
              "    <path d=\"M0 0h24v24H0V0z\" fill=\"none\"/>\n",
              "    <path d=\"M18.56 5.44l.94 2.06.94-2.06 2.06-.94-2.06-.94-.94-2.06-.94 2.06-2.06.94zm-11 1L8.5 8.5l.94-2.06 2.06-.94-2.06-.94L8.5 2.5l-.94 2.06-2.06.94zm10 10l.94 2.06.94-2.06 2.06-.94-2.06-.94-.94-2.06-.94 2.06-2.06.94z\"/><path d=\"M17.41 7.96l-1.37-1.37c-.4-.4-.92-.59-1.43-.59-.52 0-1.04.2-1.43.59L10.3 9.45l-7.72 7.72c-.78.78-.78 2.05 0 2.83L4 21.41c.39.39.9.59 1.41.59.51 0 1.02-.2 1.41-.59l7.78-7.78 2.81-2.81c.8-.78.8-2.07 0-2.86zM5.41 20L4 18.59l7.72-7.72 1.47 1.35L5.41 20z\"/>\n",
              "  </svg>\n",
              "      </button>\n",
              "      \n",
              "  <style>\n",
              "    .colab-df-container {\n",
              "      display:flex;\n",
              "      flex-wrap:wrap;\n",
              "      gap: 12px;\n",
              "    }\n",
              "\n",
              "    .colab-df-convert {\n",
              "      background-color: #E8F0FE;\n",
              "      border: none;\n",
              "      border-radius: 50%;\n",
              "      cursor: pointer;\n",
              "      display: none;\n",
              "      fill: #1967D2;\n",
              "      height: 32px;\n",
              "      padding: 0 0 0 0;\n",
              "      width: 32px;\n",
              "    }\n",
              "\n",
              "    .colab-df-convert:hover {\n",
              "      background-color: #E2EBFA;\n",
              "      box-shadow: 0px 1px 2px rgba(60, 64, 67, 0.3), 0px 1px 3px 1px rgba(60, 64, 67, 0.15);\n",
              "      fill: #174EA6;\n",
              "    }\n",
              "\n",
              "    [theme=dark] .colab-df-convert {\n",
              "      background-color: #3B4455;\n",
              "      fill: #D2E3FC;\n",
              "    }\n",
              "\n",
              "    [theme=dark] .colab-df-convert:hover {\n",
              "      background-color: #434B5C;\n",
              "      box-shadow: 0px 1px 3px 1px rgba(0, 0, 0, 0.15);\n",
              "      filter: drop-shadow(0px 1px 2px rgba(0, 0, 0, 0.3));\n",
              "      fill: #FFFFFF;\n",
              "    }\n",
              "  </style>\n",
              "\n",
              "      <script>\n",
              "        const buttonEl =\n",
              "          document.querySelector('#df-6255ffdc-b3f9-4606-bbf0-757d8485e12d button.colab-df-convert');\n",
              "        buttonEl.style.display =\n",
              "          google.colab.kernel.accessAllowed ? 'block' : 'none';\n",
              "\n",
              "        async function convertToInteractive(key) {\n",
              "          const element = document.querySelector('#df-6255ffdc-b3f9-4606-bbf0-757d8485e12d');\n",
              "          const dataTable =\n",
              "            await google.colab.kernel.invokeFunction('convertToInteractive',\n",
              "                                                     [key], {});\n",
              "          if (!dataTable) return;\n",
              "\n",
              "          const docLinkHtml = 'Like what you see? Visit the ' +\n",
              "            '<a target=\"_blank\" href=https://colab.research.google.com/notebooks/data_table.ipynb>data table notebook</a>'\n",
              "            + ' to learn more about interactive tables.';\n",
              "          element.innerHTML = '';\n",
              "          dataTable['output_type'] = 'display_data';\n",
              "          await google.colab.output.renderOutput(dataTable, element);\n",
              "          const docLink = document.createElement('div');\n",
              "          docLink.innerHTML = docLinkHtml;\n",
              "          element.appendChild(docLink);\n",
              "        }\n",
              "      </script>\n",
              "    </div>\n",
              "  </div>\n",
              "  "
            ]
          },
          "metadata": {},
          "execution_count": 30
        }
      ]
    },
    {
      "cell_type": "code",
      "source": [
        "from seaborn import regression\n",
        "# Gráfico de tipo Grid\n",
        "sns.lmplot(x ='Hora_accidente',\n",
        "           y ='Numero_personas_lesionadas',\n",
        "           height = 6,\n",
        "           aspect = 2,\n",
        "           data = regresion);"
      ],
      "metadata": {
        "colab": {
          "base_uri": "https://localhost:8080/",
          "height": 441
        },
        "id": "iART-AayOMWp",
        "outputId": "862a0bd0-a6a0-4c67-99af-aed3eca8ed6e"
      },
      "execution_count": null,
      "outputs": [
        {
          "output_type": "display_data",
          "data": {
            "text/plain": [
              "<Figure size 864x432 with 1 Axes>"
            ],
            "image/png": "[encoded data removed]"
          },
          "metadata": {
            "needs_background": "light"
          }
        }
      ]
    },
    {
      "cell_type": "code",
      "source": [
        "pend, interc, corr, p_valor, error_std = stats.linregress(regresion['Hora_accidente'],regresion['Numero_personas_lesionadas'])\n",
        "\n",
        "print(f\"pend = {pend:10f}\")\n",
        "print(f\"interc = {interc:10f}\")\n",
        "print(f\"corr = {corr:10f}\")\n",
        "print(f\"p_valor = {p_valor:10f}\")\n",
        "print(f\"error_std = {error_std:10f}\")"
      ],
      "metadata": {
        "colab": {
          "base_uri": "https://localhost:8080/"
        },
        "id": "QqScfFPdOydS",
        "outputId": "7db5e76c-4bb9-435c-cebb-299e6e925412"
      },
      "execution_count": null,
      "outputs": [
        {
          "output_type": "stream",
          "name": "stdout",
          "text": [
            "pend = 250.237391\n",
            "interc = 14472.699275\n",
            "corr =   0.206816\n",
            "p_valor =   0.332226\n",
            "error_std = 252.384954\n"
          ]
        }
      ]
    },
    {
      "cell_type": "code",
      "source": [
        "\n",
        "def correlacion_pearson_con_significancia(x, y, alfa=0.05):\n",
        "  coef, p = stats.pearsonr(x, y)\n",
        "  print(f'Coeficiente de correlación de Pearson: {coef:.2f}')\n",
        "  if p > alfa:\n",
        "    print(f'Las muestras no están correlacionadas (no rechazar H0) (p = {p:.2f})')\n",
        "  else:\n",
        "    print(f'Las muestras están correlacionadas (rechazar H0) (p = {p:.2f})')"
      ],
      "metadata": {
        "id": "85PONBbQUjx_"
      },
      "execution_count": null,
      "outputs": []
    },
    {
      "cell_type": "code",
      "source": [
        "correlacion_pearson_con_significancia(regresion['Hora_accidente'],regresion['Numero_personas_lesionadas'])"
      ],
      "metadata": {
        "colab": {
          "base_uri": "https://localhost:8080/"
        },
        "id": "6osLRJGhZBzR",
        "outputId": "a62bac70-7e5d-4709-ab91-745f6ba66c72"
      },
      "execution_count": null,
      "outputs": [
        {
          "output_type": "stream",
          "name": "stdout",
          "text": [
            "Coeficiente de correlación de Pearson: 0.21\n",
            "Las muestras no están correlacionadas (no rechazar H0) (p = 0.33)\n"
          ]
        }
      ]
    },
    {
      "cell_type": "markdown",
      "source": [
        "# Investigue que modelo podria ajsutarse mas segun la visualizacion de la grafica y encontre esta imagen de regredion Polynomial y busque como aplicarla en starmodels y evidente mejoro el ajuste de la linea a los puntos de la grafica\n",
        "\n",
        "\n",
        "![Regresion polinomial.png](data:image/png;base64,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)"
      ],
      "metadata": {
        "id": "w6VIBqmFgaVd"
      }
    },
    {
      "cell_type": "code",
      "source": [
        "from sklearn.linear_model import LinearRegression\n",
        "from sklearn.preprocessing import PolynomialFeatures"
      ],
      "metadata": {
        "id": "jZ93cVNbcfKm"
      },
      "execution_count": null,
      "outputs": []
    },
    {
      "cell_type": "code",
      "source": [
        "poly= PolynomialFeatures(degree=5)"
      ],
      "metadata": {
        "id": "FUtWDCYTcn5D"
      },
      "execution_count": null,
      "outputs": []
    },
    {
      "cell_type": "code",
      "source": [
        "x= regresion['Hora_accidente'].values\n",
        "y= regresion['Numero_personas_lesionadas'].values"
      ],
      "metadata": {
        "id": "hQ_LwFzdcy6Q"
      },
      "execution_count": null,
      "outputs": []
    },
    {
      "cell_type": "code",
      "source": [
        "x=x.reshape(-1,1)"
      ],
      "metadata": {
        "id": "eeEivHnndJL2"
      },
      "execution_count": null,
      "outputs": []
    },
    {
      "cell_type": "code",
      "source": [
        "x_poly=poly.fit_transform(x)"
      ],
      "metadata": {
        "id": "tyDhRwiYcsbX"
      },
      "execution_count": null,
      "outputs": []
    },
    {
      "cell_type": "code",
      "source": [
        "poly.fit(x_poly,y)"
      ],
      "metadata": {
        "colab": {
          "base_uri": "https://localhost:8080/"
        },
        "id": "fFAVHUbDdTd2",
        "outputId": "f6b73754-dae3-45c4-b017-bb556266bd83"
      },
      "execution_count": null,
      "outputs": [
        {
          "output_type": "execute_result",
          "data": {
            "text/plain": [
              "PolynomialFeatures(degree=5)"
            ]
          },
          "metadata": {},
          "execution_count": 68
        }
      ]
    },
    {
      "cell_type": "code",
      "source": [
        "linreg=LinearRegression()"
      ],
      "metadata": {
        "id": "JBEh3Ts1dZVv"
      },
      "execution_count": null,
      "outputs": []
    },
    {
      "cell_type": "code",
      "source": [
        "linreg.fit(x_poly,y)"
      ],
      "metadata": {
        "colab": {
          "base_uri": "https://localhost:8080/"
        },
        "id": "rI-myxeZdlFL",
        "outputId": "09f0f4ff-e4c6-4dd4-b897-b12f793bda37"
      },
      "execution_count": null,
      "outputs": [
        {
          "output_type": "execute_result",
          "data": {
            "text/plain": [
              "LinearRegression()"
            ]
          },
          "metadata": {},
          "execution_count": 70
        }
      ]
    },
    {
      "cell_type": "code",
      "source": [
        "y_pred=linreg.predict(x_poly)"
      ],
      "metadata": {
        "id": "J5NpUiGFdp52"
      },
      "execution_count": null,
      "outputs": []
    },
    {
      "cell_type": "code",
      "source": [
        "plt.figure(figsize = ( 10 , 8 ))\n",
        "plt.scatter(x,y,color='blue')\n",
        "plt.plot(x,y_pred,color='red');"
      ],
      "metadata": {
        "colab": {
          "base_uri": "https://localhost:8080/",
          "height": 483
        },
        "id": "vfLcu3Gzd4Vq",
        "outputId": "80041cee-97eb-4556-b2f1-40a7af0b191b"
      },
      "execution_count": null,
      "outputs": [
        {
          "output_type": "display_data",
          "data": {
            "text/plain": [
              "<Figure size 720x576 with 1 Axes>"
            ],
            "image/png": "[encoded data removed]"
          },
          "metadata": {
            "needs_background": "light"
          }
        }
      ]
    }
  ]
}